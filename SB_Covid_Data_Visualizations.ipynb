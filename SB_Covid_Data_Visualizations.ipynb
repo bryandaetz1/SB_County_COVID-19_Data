{
  "nbformat": 4,
  "nbformat_minor": 0,
  "metadata": {
    "colab": {
      "name": "SB_Covid_Data_Visualizations.ipynb",
      "provenance": [],
      "collapsed_sections": [],
      "toc_visible": true,
      "authorship_tag": "ABX9TyMo0OuIctxYt4tKuSh55RXH",
      "include_colab_link": true
    },
    "kernelspec": {
      "name": "python3",
      "display_name": "Python 3"
    }
  },
  "cells": [
    {
      "cell_type": "markdown",
      "metadata": {
        "id": "view-in-github",
        "colab_type": "text"
      },
      "source": [
        "<a href=\"https://colab.research.google.com/github/bryandaetz1/SB_County_COVID-19_Data/blob/master/SB_Covid_Data_Visualizations.ipynb\" target=\"_parent\"><img src=\"https://colab.research.google.com/assets/colab-badge.svg\" alt=\"Open In Colab\"/></a>"
      ]
    },
    {
      "cell_type": "code",
      "metadata": {
        "id": "5m7YJl8Si-VK",
        "colab": {
          "base_uri": "https://localhost:8080/"
        },
        "outputId": "274b9143-9a34-4aee-9e2a-616e8df5b719"
      },
      "source": [
        "%pip install plotly==4.12.0"
      ],
      "execution_count": 1,
      "outputs": [
        {
          "output_type": "stream",
          "text": [
            "Collecting plotly==4.12.0\n",
            "\u001b[?25l  Downloading https://files.pythonhosted.org/packages/a6/66/af86e9d9bf1a3e4f2dabebeabd02a32e8ddf671a5d072b3af2b011efea99/plotly-4.12.0-py2.py3-none-any.whl (13.1MB)\n",
            "\u001b[K     |████████████████████████████████| 13.1MB 321kB/s \n",
            "\u001b[?25hRequirement already satisfied: retrying>=1.3.3 in /usr/local/lib/python3.6/dist-packages (from plotly==4.12.0) (1.3.3)\n",
            "Requirement already satisfied: six in /usr/local/lib/python3.6/dist-packages (from plotly==4.12.0) (1.15.0)\n",
            "Installing collected packages: plotly\n",
            "  Found existing installation: plotly 4.4.1\n",
            "    Uninstalling plotly-4.4.1:\n",
            "      Successfully uninstalled plotly-4.4.1\n",
            "Successfully installed plotly-4.12.0\n"
          ],
          "name": "stdout"
        }
      ]
    },
    {
      "cell_type": "code",
      "metadata": {
        "id": "TS6Lc9hRGlvU"
      },
      "source": [
        "import pandas as pd\n",
        "import numpy as np\n",
        "import seaborn as sns\n",
        "from matplotlib import pyplot as plt\n",
        "import plotly.express as px\n",
        "import plotly.graph_objects as go"
      ],
      "execution_count": 2,
      "outputs": []
    },
    {
      "cell_type": "code",
      "metadata": {
        "id": "ca0FPnjWG8Yw"
      },
      "source": [
        "cases_by_age = pd.read_csv('https://raw.githubusercontent.com/bryandaetz1/SB_County_COVID-19_Data/master/CSV_Files/cases_by_age.csv')\n",
        "cases_by_area = pd.read_csv('https://raw.githubusercontent.com/bryandaetz1/SB_County_COVID-19_Data/master/CSV_Files/cases_by_area.csv')\n",
        "cases_by_gender = pd.read_csv('https://raw.githubusercontent.com/bryandaetz1/SB_County_COVID-19_Data/master/CSV_Files/cases_by_gender.csv')\n",
        "ethnicity = pd.read_csv('https://raw.githubusercontent.com/bryandaetz1/SB_County_COVID-19_Data/master/CSV_Files/ethnicity.csv')\n",
        "recovery_status = pd.read_csv('https://raw.githubusercontent.com/bryandaetz1/SB_County_COVID-19_Data/master/CSV_Files/recovery_status.csv')\n",
        "testing_status = pd.read_csv('https://raw.githubusercontent.com/bryandaetz1/SB_County_COVID-19_Data/master/CSV_Files/testing_status.csv')\n",
        "transmission_method = pd.read_csv('https://raw.githubusercontent.com/bryandaetz1/SB_County_COVID-19_Data/master/CSV_Files/transmission_method.csv')"
      ],
      "execution_count": 3,
      "outputs": []
    },
    {
      "cell_type": "markdown",
      "metadata": {
        "id": "SwcGWbTRsE0W"
      },
      "source": [
        "## Still Need to Add"
      ]
    },
    {
      "cell_type": "code",
      "metadata": {
        "id": "KjDZfLHbr6FJ",
        "colab": {
          "base_uri": "https://localhost:8080/",
          "height": 204
        },
        "outputId": "826ea779-a6ef-4deb-ae38-ddab91745200"
      },
      "source": [
        "testing_status.head()"
      ],
      "execution_count": null,
      "outputs": [
        {
          "output_type": "execute_result",
          "data": {
            "text/html": [
              "<div>\n",
              "<style scoped>\n",
              "    .dataframe tbody tr th:only-of-type {\n",
              "        vertical-align: middle;\n",
              "    }\n",
              "\n",
              "    .dataframe tbody tr th {\n",
              "        vertical-align: top;\n",
              "    }\n",
              "\n",
              "    .dataframe thead th {\n",
              "        text-align: right;\n",
              "    }\n",
              "</style>\n",
              "<table border=\"1\" class=\"dataframe\">\n",
              "  <thead>\n",
              "    <tr style=\"text-align: right;\">\n",
              "      <th></th>\n",
              "      <th>Testing Status</th>\n",
              "      <th>Total</th>\n",
              "      <th>Date</th>\n",
              "    </tr>\n",
              "  </thead>\n",
              "  <tbody>\n",
              "    <tr>\n",
              "      <th>0</th>\n",
              "      <td>Cumulative Positive</td>\n",
              "      <td>11205</td>\n",
              "      <td>November 25, 2020</td>\n",
              "    </tr>\n",
              "    <tr>\n",
              "      <th>1</th>\n",
              "      <td>Cumulative Negative</td>\n",
              "      <td>228406</td>\n",
              "      <td>November 25, 2020</td>\n",
              "    </tr>\n",
              "    <tr>\n",
              "      <th>2</th>\n",
              "      <td>Cumulative Inconclusive</td>\n",
              "      <td>869</td>\n",
              "      <td>November 25, 2020</td>\n",
              "    </tr>\n",
              "    <tr>\n",
              "      <th>3</th>\n",
              "      <td>Cumulative Pending</td>\n",
              "      <td>205</td>\n",
              "      <td>November 25, 2020</td>\n",
              "    </tr>\n",
              "    <tr>\n",
              "      <th>4</th>\n",
              "      <td>Cumulative Invalid</td>\n",
              "      <td>420</td>\n",
              "      <td>November 25, 2020</td>\n",
              "    </tr>\n",
              "  </tbody>\n",
              "</table>\n",
              "</div>"
            ],
            "text/plain": [
              "            Testing Status  Total                Date\n",
              "0      Cumulative Positive   11205  November 25, 2020\n",
              "1      Cumulative Negative  228406  November 25, 2020\n",
              "2  Cumulative Inconclusive     869  November 25, 2020\n",
              "3       Cumulative Pending     205  November 25, 2020\n",
              "4       Cumulative Invalid     420  November 25, 2020"
            ]
          },
          "metadata": {
            "tags": []
          },
          "execution_count": 5
        }
      ]
    },
    {
      "cell_type": "code",
      "metadata": {
        "id": "9xQkx1stsDmj",
        "colab": {
          "base_uri": "https://localhost:8080/",
          "height": 204
        },
        "outputId": "60adbaa2-a7ab-4885-f2ec-25ceea71bea7"
      },
      "source": [
        "transmission_method.head()"
      ],
      "execution_count": null,
      "outputs": [
        {
          "output_type": "execute_result",
          "data": {
            "text/html": [
              "<div>\n",
              "<style scoped>\n",
              "    .dataframe tbody tr th:only-of-type {\n",
              "        vertical-align: middle;\n",
              "    }\n",
              "\n",
              "    .dataframe tbody tr th {\n",
              "        vertical-align: top;\n",
              "    }\n",
              "\n",
              "    .dataframe thead th {\n",
              "        text-align: right;\n",
              "    }\n",
              "</style>\n",
              "<table border=\"1\" class=\"dataframe\">\n",
              "  <thead>\n",
              "    <tr style=\"text-align: right;\">\n",
              "      <th></th>\n",
              "      <th>Transmission Method</th>\n",
              "      <th>Total</th>\n",
              "      <th>Date</th>\n",
              "    </tr>\n",
              "  </thead>\n",
              "  <tbody>\n",
              "    <tr>\n",
              "      <th>0</th>\n",
              "      <td>Community Close Contact Transmission</td>\n",
              "      <td>3954</td>\n",
              "      <td>November 25, 2020</td>\n",
              "    </tr>\n",
              "    <tr>\n",
              "      <th>1</th>\n",
              "      <td>Persons Incarcerated at Federal Prison in Lomp...</td>\n",
              "      <td>1027</td>\n",
              "      <td>November 25, 2020</td>\n",
              "    </tr>\n",
              "    <tr>\n",
              "      <th>2</th>\n",
              "      <td>Travel Transmission</td>\n",
              "      <td>103</td>\n",
              "      <td>November 25, 2020</td>\n",
              "    </tr>\n",
              "    <tr>\n",
              "      <th>3</th>\n",
              "      <td>Community Transmission</td>\n",
              "      <td>2555</td>\n",
              "      <td>November 25, 2020</td>\n",
              "    </tr>\n",
              "    <tr>\n",
              "      <th>4</th>\n",
              "      <td>Unknown</td>\n",
              "      <td>3277</td>\n",
              "      <td>November 25, 2020</td>\n",
              "    </tr>\n",
              "  </tbody>\n",
              "</table>\n",
              "</div>"
            ],
            "text/plain": [
              "                                 Transmission Method  Total               Date\n",
              "0               Community Close Contact Transmission   3954  November 25, 2020\n",
              "1  Persons Incarcerated at Federal Prison in Lomp...   1027  November 25, 2020\n",
              "2                                Travel Transmission    103  November 25, 2020\n",
              "3                             Community Transmission   2555  November 25, 2020\n",
              "4                                            Unknown   3277  November 25, 2020"
            ]
          },
          "metadata": {
            "tags": []
          },
          "execution_count": 6
        }
      ]
    },
    {
      "cell_type": "code",
      "metadata": {
        "id": "gwuBNkQesKWt",
        "colab": {
          "base_uri": "https://localhost:8080/"
        },
        "outputId": "89ae2cc5-ad71-4c6f-e9df-22f30edb8f37"
      },
      "source": [
        "transmission_method['Transmission Method'].value_counts()"
      ],
      "execution_count": null,
      "outputs": [
        {
          "output_type": "execute_result",
          "data": {
            "text/plain": [
              "Community Close Contact Transmission                              102\n",
              "Persons Incarcerated at Federal Prison in Lompoc Close Contact    102\n",
              "Community Transmission                                            102\n",
              "Travel Transmission                                               102\n",
              "Under Investigation                                               102\n",
              "Unknown                                                            83\n",
              "Name: Transmission Method, dtype: int64"
            ]
          },
          "metadata": {
            "tags": []
          },
          "execution_count": 7
        }
      ]
    },
    {
      "cell_type": "code",
      "metadata": {
        "id": "4LjSoJSeV1UK",
        "colab": {
          "base_uri": "https://localhost:8080/",
          "height": 204
        },
        "outputId": "6a6da8d8-6277-4ec5-c08d-977d751a9078"
      },
      "source": [
        "# horizontal bar chart where values for each gender are going in opposite directions?, may not work if counting pending or unknown gender\n",
        "cases_by_gender.head()"
      ],
      "execution_count": null,
      "outputs": [
        {
          "output_type": "execute_result",
          "data": {
            "text/html": [
              "<div>\n",
              "<style scoped>\n",
              "    .dataframe tbody tr th:only-of-type {\n",
              "        vertical-align: middle;\n",
              "    }\n",
              "\n",
              "    .dataframe tbody tr th {\n",
              "        vertical-align: top;\n",
              "    }\n",
              "\n",
              "    .dataframe thead th {\n",
              "        text-align: right;\n",
              "    }\n",
              "</style>\n",
              "<table border=\"1\" class=\"dataframe\">\n",
              "  <thead>\n",
              "    <tr style=\"text-align: right;\">\n",
              "      <th></th>\n",
              "      <th>Number of Cases by Gender</th>\n",
              "      <th>Daily</th>\n",
              "      <th>Community</th>\n",
              "      <th>Federal Prisonin Lompoc</th>\n",
              "      <th>Total  (Community &amp; Prison)</th>\n",
              "      <th>Date</th>\n",
              "    </tr>\n",
              "  </thead>\n",
              "  <tbody>\n",
              "    <tr>\n",
              "      <th>0</th>\n",
              "      <td>Female</td>\n",
              "      <td>18</td>\n",
              "      <td>5068</td>\n",
              "      <td>2</td>\n",
              "      <td>5070.0</td>\n",
              "      <td>November 25, 2020</td>\n",
              "    </tr>\n",
              "    <tr>\n",
              "      <th>1</th>\n",
              "      <td>Male</td>\n",
              "      <td>22</td>\n",
              "      <td>5006</td>\n",
              "      <td>1012</td>\n",
              "      <td>6018.0</td>\n",
              "      <td>November 25, 2020</td>\n",
              "    </tr>\n",
              "    <tr>\n",
              "      <th>2</th>\n",
              "      <td>Unknown</td>\n",
              "      <td>0</td>\n",
              "      <td>104</td>\n",
              "      <td>13</td>\n",
              "      <td>117.0</td>\n",
              "      <td>November 25, 2020</td>\n",
              "    </tr>\n",
              "    <tr>\n",
              "      <th>3</th>\n",
              "      <td>Pending</td>\n",
              "      <td>0</td>\n",
              "      <td>0</td>\n",
              "      <td>0</td>\n",
              "      <td>NaN</td>\n",
              "      <td>November 25, 2020</td>\n",
              "    </tr>\n",
              "    <tr>\n",
              "      <th>4</th>\n",
              "      <td>Female</td>\n",
              "      <td>57</td>\n",
              "      <td>5051</td>\n",
              "      <td>2</td>\n",
              "      <td>5053.0</td>\n",
              "      <td>November 24, 2020</td>\n",
              "    </tr>\n",
              "  </tbody>\n",
              "</table>\n",
              "</div>"
            ],
            "text/plain": [
              "  Number of Cases by Gender  ...               Date\n",
              "0                    Female  ...  November 25, 2020\n",
              "1                      Male  ...  November 25, 2020\n",
              "2                   Unknown  ...  November 25, 2020\n",
              "3                   Pending  ...  November 25, 2020\n",
              "4                    Female  ...  November 24, 2020\n",
              "\n",
              "[5 rows x 6 columns]"
            ]
          },
          "metadata": {
            "tags": []
          },
          "execution_count": 8
        }
      ]
    },
    {
      "cell_type": "markdown",
      "metadata": {
        "id": "HAl5nQx_dj4L"
      },
      "source": [
        "## Recovery Status"
      ]
    },
    {
      "cell_type": "code",
      "metadata": {
        "id": "kOZJv9g8c08O",
        "colab": {
          "base_uri": "https://localhost:8080/",
          "height": 204
        },
        "outputId": "5606152d-e801-411a-8b13-83063ec824c2"
      },
      "source": [
        "recovery_status.head()"
      ],
      "execution_count": null,
      "outputs": [
        {
          "output_type": "execute_result",
          "data": {
            "text/html": [
              "<div>\n",
              "<style scoped>\n",
              "    .dataframe tbody tr th:only-of-type {\n",
              "        vertical-align: middle;\n",
              "    }\n",
              "\n",
              "    .dataframe tbody tr th {\n",
              "        vertical-align: top;\n",
              "    }\n",
              "\n",
              "    .dataframe thead th {\n",
              "        text-align: right;\n",
              "    }\n",
              "</style>\n",
              "<table border=\"1\" class=\"dataframe\">\n",
              "  <thead>\n",
              "    <tr style=\"text-align: right;\">\n",
              "      <th></th>\n",
              "      <th>Recovery Status</th>\n",
              "      <th>Community</th>\n",
              "      <th>Federal Prison in Lompoc</th>\n",
              "      <th>Total(Community &amp; Prison)</th>\n",
              "      <th>Date</th>\n",
              "    </tr>\n",
              "  </thead>\n",
              "  <tbody>\n",
              "    <tr>\n",
              "      <th>0</th>\n",
              "      <td>Still Infectious Cases</td>\n",
              "      <td>391</td>\n",
              "      <td>1.0</td>\n",
              "      <td>392.0</td>\n",
              "      <td>November 25, 2020</td>\n",
              "    </tr>\n",
              "    <tr>\n",
              "      <th>1</th>\n",
              "      <td>Recovered Cases</td>\n",
              "      <td>9655</td>\n",
              "      <td>1023.0</td>\n",
              "      <td>10678.0</td>\n",
              "      <td>November 25, 2020</td>\n",
              "    </tr>\n",
              "    <tr>\n",
              "      <th>2</th>\n",
              "      <td>Recovering in Hospital</td>\n",
              "      <td>NaN</td>\n",
              "      <td>NaN</td>\n",
              "      <td>23.0</td>\n",
              "      <td>November 25, 2020</td>\n",
              "    </tr>\n",
              "    <tr>\n",
              "      <th>3</th>\n",
              "      <td>Recovering in ICU</td>\n",
              "      <td>NaN</td>\n",
              "      <td>NaN</td>\n",
              "      <td>4.0</td>\n",
              "      <td>November 25, 2020</td>\n",
              "    </tr>\n",
              "    <tr>\n",
              "      <th>4</th>\n",
              "      <td>Pending Information</td>\n",
              "      <td>NaN</td>\n",
              "      <td>NaN</td>\n",
              "      <td>NaN</td>\n",
              "      <td>November 25, 2020</td>\n",
              "    </tr>\n",
              "  </tbody>\n",
              "</table>\n",
              "</div>"
            ],
            "text/plain": [
              "          Recovery Status  ...               Date\n",
              "0  Still Infectious Cases  ...  November 25, 2020\n",
              "1         Recovered Cases  ...  November 25, 2020\n",
              "2  Recovering in Hospital  ...  November 25, 2020\n",
              "3       Recovering in ICU  ...  November 25, 2020\n",
              "4     Pending Information  ...  November 25, 2020\n",
              "\n",
              "[5 rows x 5 columns]"
            ]
          },
          "metadata": {
            "tags": []
          },
          "execution_count": 9
        }
      ]
    },
    {
      "cell_type": "code",
      "metadata": {
        "id": "wBy_R_TvdmFV",
        "colab": {
          "base_uri": "https://localhost:8080/"
        },
        "outputId": "ff3f21b6-12dc-469e-df97-2c639e9a12e7"
      },
      "source": [
        "recovery_status['Recovery Status'].value_counts()"
      ],
      "execution_count": null,
      "outputs": [
        {
          "output_type": "execute_result",
          "data": {
            "text/plain": [
              "Recovering in Hospital    102\n",
              "Recovered Cases           102\n",
              "Pending Information       102\n",
              "Recovering in ICU         102\n",
              "Still Infectious Cases     84\n",
              "Active Cases               13\n",
              "Active Cases*               5\n",
              "Recovering at Home          3\n",
              "Name: Recovery Status, dtype: int64"
            ]
          },
          "metadata": {
            "tags": []
          },
          "execution_count": 10
        }
      ]
    },
    {
      "cell_type": "code",
      "metadata": {
        "id": "tfcOQZCmeCXv"
      },
      "source": [
        "#cleaning up recovery status values\n",
        "recovery_status['Recovery Status'].replace({'Still Infectious Cases':'Active Cases', \n",
        "                                            'Active Cases*':'Active Cases'},\n",
        "                                           inplace = True)\n",
        "\n",
        "#cleaning up column names\n",
        "recovery_status.rename({'Community ':'Community',\n",
        "                        'Federal Prison in Lompoc':'Lompoc Federal Prison',\n",
        "                        'Total(Community & Prison)':'Total'},\n",
        "                       axis = 1,\n",
        "                       inplace = True)"
      ],
      "execution_count": null,
      "outputs": []
    },
    {
      "cell_type": "code",
      "metadata": {
        "id": "4hEilnHdefVc",
        "colab": {
          "base_uri": "https://localhost:8080/"
        },
        "outputId": "95201ce3-2016-448f-f32b-5f03ed07d368"
      },
      "source": [
        "recovery_status['Recovery Status'].value_counts()"
      ],
      "execution_count": null,
      "outputs": [
        {
          "output_type": "execute_result",
          "data": {
            "text/plain": [
              "Recovering in Hospital    102\n",
              "Recovered Cases           102\n",
              "Pending Information       102\n",
              "Active Cases              102\n",
              "Recovering in ICU         102\n",
              "Recovering at Home          3\n",
              "Name: Recovery Status, dtype: int64"
            ]
          },
          "metadata": {
            "tags": []
          },
          "execution_count": 12
        }
      ]
    },
    {
      "cell_type": "code",
      "metadata": {
        "id": "FT6XQRepfHHg"
      },
      "source": [
        "#getting subset of data\n",
        "recovery = recovery_status[recovery_status['Recovery Status'].isin(['Active Cases','Recovered Cases'])]"
      ],
      "execution_count": null,
      "outputs": []
    },
    {
      "cell_type": "code",
      "metadata": {
        "id": "7ccyRwvheg1g",
        "colab": {
          "base_uri": "https://localhost:8080/"
        },
        "outputId": "e982b1c6-270f-49a5-e39f-49e581856858"
      },
      "source": [
        "recovery.isna().sum() "
      ],
      "execution_count": null,
      "outputs": [
        {
          "output_type": "execute_result",
          "data": {
            "text/plain": [
              "Recovery Status          0\n",
              "Community                0\n",
              "Lompoc Federal Prison    0\n",
              "Total                    0\n",
              "Date                     0\n",
              "dtype: int64"
            ]
          },
          "metadata": {
            "tags": []
          },
          "execution_count": 14
        }
      ]
    },
    {
      "cell_type": "code",
      "metadata": {
        "id": "K6k-9on7iODo",
        "colab": {
          "base_uri": "https://localhost:8080/"
        },
        "outputId": "dc0b3d01-8b6a-48c0-b2fe-8c508276fc1c"
      },
      "source": [
        "recovery.dtypes"
      ],
      "execution_count": null,
      "outputs": [
        {
          "output_type": "execute_result",
          "data": {
            "text/plain": [
              "Recovery Status           object\n",
              "Community                 object\n",
              "Lompoc Federal Prison    float64\n",
              "Total                    float64\n",
              "Date                      object\n",
              "dtype: object"
            ]
          },
          "metadata": {
            "tags": []
          },
          "execution_count": 15
        }
      ]
    },
    {
      "cell_type": "code",
      "metadata": {
        "id": "nA_g3hyLiSMU",
        "colab": {
          "base_uri": "https://localhost:8080/"
        },
        "outputId": "7c87124e-6008-484a-ab07-83e75c29ebb0"
      },
      "source": [
        "#converting community column to numeric\n",
        "recovery['Community'] = pd.to_numeric(recovery['Community'])"
      ],
      "execution_count": null,
      "outputs": [
        {
          "output_type": "stream",
          "text": [
            "/usr/local/lib/python3.6/dist-packages/ipykernel_launcher.py:2: SettingWithCopyWarning:\n",
            "\n",
            "\n",
            "A value is trying to be set on a copy of a slice from a DataFrame.\n",
            "Try using .loc[row_indexer,col_indexer] = value instead\n",
            "\n",
            "See the caveats in the documentation: https://pandas.pydata.org/pandas-docs/stable/user_guide/indexing.html#returning-a-view-versus-a-copy\n",
            "\n"
          ],
          "name": "stderr"
        }
      ]
    },
    {
      "cell_type": "code",
      "metadata": {
        "id": "MtIXXt5OfaOE"
      },
      "source": [
        "#function to return active cases for a given column and date\n",
        "def active_cases(date, column_name):\n",
        "  count = int(recovery.loc[(recovery['Recovery Status'] == 'Active Cases') & (recovery['Date'] == date), column_name].values)\n",
        "  text = 'Active Cases: %d' %count\n",
        "  return text\n",
        "\n",
        "#function to return recovered cases for a given column and date\n",
        "def recovered_cases(date, column_name):\n",
        "  count = int(recovery.loc[(recovery['Recovery Status'] == 'Recovered Cases') & (recovery['Date'] == date), column_name].values)\n",
        "  text = 'Recovered Cases: %d' %count\n",
        "  return text"
      ],
      "execution_count": null,
      "outputs": []
    },
    {
      "cell_type": "markdown",
      "metadata": {
        "id": "C59uS6MxhMqo"
      },
      "source": [
        "### Validating that Functions are Working"
      ]
    },
    {
      "cell_type": "code",
      "metadata": {
        "id": "hCQ88P2shKWk",
        "colab": {
          "base_uri": "https://localhost:8080/",
          "height": 111
        },
        "outputId": "7394bcc1-8955-429b-cc61-d2e1e63e53f5"
      },
      "source": [
        "recovery.head(2)"
      ],
      "execution_count": null,
      "outputs": [
        {
          "output_type": "execute_result",
          "data": {
            "text/html": [
              "<div>\n",
              "<style scoped>\n",
              "    .dataframe tbody tr th:only-of-type {\n",
              "        vertical-align: middle;\n",
              "    }\n",
              "\n",
              "    .dataframe tbody tr th {\n",
              "        vertical-align: top;\n",
              "    }\n",
              "\n",
              "    .dataframe thead th {\n",
              "        text-align: right;\n",
              "    }\n",
              "</style>\n",
              "<table border=\"1\" class=\"dataframe\">\n",
              "  <thead>\n",
              "    <tr style=\"text-align: right;\">\n",
              "      <th></th>\n",
              "      <th>Recovery Status</th>\n",
              "      <th>Community</th>\n",
              "      <th>Lompoc Federal Prison</th>\n",
              "      <th>Total</th>\n",
              "      <th>Date</th>\n",
              "    </tr>\n",
              "  </thead>\n",
              "  <tbody>\n",
              "    <tr>\n",
              "      <th>0</th>\n",
              "      <td>Active Cases</td>\n",
              "      <td>391</td>\n",
              "      <td>1.0</td>\n",
              "      <td>392.0</td>\n",
              "      <td>November 25, 2020</td>\n",
              "    </tr>\n",
              "    <tr>\n",
              "      <th>1</th>\n",
              "      <td>Recovered Cases</td>\n",
              "      <td>9655</td>\n",
              "      <td>1023.0</td>\n",
              "      <td>10678.0</td>\n",
              "      <td>November 25, 2020</td>\n",
              "    </tr>\n",
              "  </tbody>\n",
              "</table>\n",
              "</div>"
            ],
            "text/plain": [
              "   Recovery Status  Community  ...    Total               Date\n",
              "0     Active Cases        391  ...    392.0  November 25, 2020\n",
              "1  Recovered Cases       9655  ...  10678.0  November 25, 2020\n",
              "\n",
              "[2 rows x 5 columns]"
            ]
          },
          "metadata": {
            "tags": []
          },
          "execution_count": 18
        }
      ]
    },
    {
      "cell_type": "code",
      "metadata": {
        "id": "WoFvfNubgfQU",
        "colab": {
          "base_uri": "https://localhost:8080/"
        },
        "outputId": "faa87e21-fb23-4a49-9999-3a11c6efc828"
      },
      "source": [
        "for col in recovery.columns[1:4]:\n",
        "  print(col, '\\n', active_cases('October 20, 2020', col), '\\n')"
      ],
      "execution_count": null,
      "outputs": [
        {
          "output_type": "stream",
          "text": [
            "Community \n",
            " Active Cases: 118 \n",
            "\n",
            "Lompoc Federal Prison \n",
            " Active Cases: 0 \n",
            "\n",
            "Total \n",
            " Active Cases: 118 \n",
            "\n"
          ],
          "name": "stdout"
        }
      ]
    },
    {
      "cell_type": "code",
      "metadata": {
        "id": "bo5OBcaTh1nN",
        "colab": {
          "base_uri": "https://localhost:8080/"
        },
        "outputId": "28acab26-5163-4d1b-c3fa-4c2ee742d078"
      },
      "source": [
        "for col in recovery.columns[1:4]:\n",
        "  print(col, '\\n', recovered_cases('October 20, 2020', col), '\\n')"
      ],
      "execution_count": null,
      "outputs": [
        {
          "output_type": "stream",
          "text": [
            "Community \n",
            " Recovered Cases: 8411 \n",
            "\n",
            "Lompoc Federal Prison \n",
            " Recovered Cases: 1023 \n",
            "\n",
            "Total \n",
            " Recovered Cases: 9434 \n",
            "\n"
          ],
          "name": "stdout"
        }
      ]
    },
    {
      "cell_type": "markdown",
      "metadata": {
        "id": "oZKcOGlugi3H"
      },
      "source": [
        "# Visualizations"
      ]
    },
    {
      "cell_type": "code",
      "metadata": {
        "id": "TXuKDLZJLPTH",
        "colab": {
          "base_uri": "https://localhost:8080/"
        },
        "outputId": "3022f1a8-07ad-4a62-882f-c0e4ed2531dd"
      },
      "source": [
        "#view available plotly templates for visualizations\n",
        "import plotly.io as pio\n",
        "pio.templates"
      ],
      "execution_count": null,
      "outputs": [
        {
          "output_type": "execute_result",
          "data": {
            "text/plain": [
              "Templates configuration\n",
              "-----------------------\n",
              "    Default template: 'plotly'\n",
              "    Available templates:\n",
              "        ['ggplot2', 'seaborn', 'simple_white', 'plotly',\n",
              "         'plotly_white', 'plotly_dark', 'presentation', 'xgridoff',\n",
              "         'ygridoff', 'gridon', 'none']"
            ]
          },
          "metadata": {
            "tags": []
          },
          "execution_count": 21
        }
      ]
    },
    {
      "cell_type": "markdown",
      "metadata": {
        "id": "XC8RL43UJBLE"
      },
      "source": [
        "#Cases by Age"
      ]
    },
    {
      "cell_type": "code",
      "metadata": {
        "id": "-TYywhC1NT3T",
        "colab": {
          "base_uri": "https://localhost:8080/"
        },
        "outputId": "455d6dfa-024c-4ff9-fb51-7400d2a2f667"
      },
      "source": [
        "cases_by_age.shape"
      ],
      "execution_count": null,
      "outputs": [
        {
          "output_type": "execute_result",
          "data": {
            "text/plain": [
              "(710, 6)"
            ]
          },
          "metadata": {
            "tags": []
          },
          "execution_count": 22
        }
      ]
    },
    {
      "cell_type": "code",
      "metadata": {
        "id": "jaVd6jRrHn4C",
        "colab": {
          "base_uri": "https://localhost:8080/",
          "height": 204
        },
        "outputId": "8ca320b6-abdb-45e7-a92e-df9e8457aa8f"
      },
      "source": [
        "cases_by_age.head()"
      ],
      "execution_count": null,
      "outputs": [
        {
          "output_type": "execute_result",
          "data": {
            "text/html": [
              "<div>\n",
              "<style scoped>\n",
              "    .dataframe tbody tr th:only-of-type {\n",
              "        vertical-align: middle;\n",
              "    }\n",
              "\n",
              "    .dataframe tbody tr th {\n",
              "        vertical-align: top;\n",
              "    }\n",
              "\n",
              "    .dataframe thead th {\n",
              "        text-align: right;\n",
              "    }\n",
              "</style>\n",
              "<table border=\"1\" class=\"dataframe\">\n",
              "  <thead>\n",
              "    <tr style=\"text-align: right;\">\n",
              "      <th></th>\n",
              "      <th>Number of Cases by Age</th>\n",
              "      <th>Daily</th>\n",
              "      <th>Community</th>\n",
              "      <th>Federal Prisonin Lompoc</th>\n",
              "      <th>Total(Community &amp; Prison)</th>\n",
              "      <th>Date</th>\n",
              "    </tr>\n",
              "  </thead>\n",
              "  <tbody>\n",
              "    <tr>\n",
              "      <th>0</th>\n",
              "      <td>0 – 17</td>\n",
              "      <td>5</td>\n",
              "      <td>950.0</td>\n",
              "      <td>0.0</td>\n",
              "      <td>950.0</td>\n",
              "      <td>November 25, 2020</td>\n",
              "    </tr>\n",
              "    <tr>\n",
              "      <th>1</th>\n",
              "      <td>18 – 29</td>\n",
              "      <td>12</td>\n",
              "      <td>3335.0</td>\n",
              "      <td>138.0</td>\n",
              "      <td>3473.0</td>\n",
              "      <td>November 25, 2020</td>\n",
              "    </tr>\n",
              "    <tr>\n",
              "      <th>2</th>\n",
              "      <td>30 – 49</td>\n",
              "      <td>10</td>\n",
              "      <td>3387.0</td>\n",
              "      <td>544.0</td>\n",
              "      <td>3931.0</td>\n",
              "      <td>November 25, 2020</td>\n",
              "    </tr>\n",
              "    <tr>\n",
              "      <th>3</th>\n",
              "      <td>50 – 69</td>\n",
              "      <td>11</td>\n",
              "      <td>1908.0</td>\n",
              "      <td>312.0</td>\n",
              "      <td>2220.0</td>\n",
              "      <td>November 25, 2020</td>\n",
              "    </tr>\n",
              "    <tr>\n",
              "      <th>4</th>\n",
              "      <td>70+</td>\n",
              "      <td>2</td>\n",
              "      <td>597.0</td>\n",
              "      <td>33.0</td>\n",
              "      <td>630.0</td>\n",
              "      <td>November 25, 2020</td>\n",
              "    </tr>\n",
              "  </tbody>\n",
              "</table>\n",
              "</div>"
            ],
            "text/plain": [
              "  Number of Cases by Age Daily   ...  Total(Community & Prison)               Date\n",
              "0                 0 – 17      5  ...                      950.0  November 25, 2020\n",
              "1                18 – 29     12  ...                     3473.0  November 25, 2020\n",
              "2                30 – 49     10  ...                     3931.0  November 25, 2020\n",
              "3                50 – 69     11  ...                     2220.0  November 25, 2020\n",
              "4                    70+      2  ...                      630.0  November 25, 2020\n",
              "\n",
              "[5 rows x 6 columns]"
            ]
          },
          "metadata": {
            "tags": []
          },
          "execution_count": 23
        }
      ]
    },
    {
      "cell_type": "code",
      "metadata": {
        "id": "1cBI1HKfHsMR"
      },
      "source": [
        "#rename columns\n",
        "cases_by_age.rename(columns = {'Number of Cases by Age':'Age',\n",
        "                               'Federal Prisonin Lompoc':'Lompoc Federal Prison',\n",
        "                               'Total(Community & Prison)':'Total'}, inplace = True)"
      ],
      "execution_count": null,
      "outputs": []
    },
    {
      "cell_type": "code",
      "metadata": {
        "id": "zd1-bZSaH9B8",
        "colab": {
          "base_uri": "https://localhost:8080/",
          "height": 204
        },
        "outputId": "6e66fc87-3f87-4508-fbb4-2fae3b181e53"
      },
      "source": [
        "cases_by_age.head()"
      ],
      "execution_count": null,
      "outputs": [
        {
          "output_type": "execute_result",
          "data": {
            "text/html": [
              "<div>\n",
              "<style scoped>\n",
              "    .dataframe tbody tr th:only-of-type {\n",
              "        vertical-align: middle;\n",
              "    }\n",
              "\n",
              "    .dataframe tbody tr th {\n",
              "        vertical-align: top;\n",
              "    }\n",
              "\n",
              "    .dataframe thead th {\n",
              "        text-align: right;\n",
              "    }\n",
              "</style>\n",
              "<table border=\"1\" class=\"dataframe\">\n",
              "  <thead>\n",
              "    <tr style=\"text-align: right;\">\n",
              "      <th></th>\n",
              "      <th>Age</th>\n",
              "      <th>Daily</th>\n",
              "      <th>Community</th>\n",
              "      <th>Lompoc Federal Prison</th>\n",
              "      <th>Total</th>\n",
              "      <th>Date</th>\n",
              "    </tr>\n",
              "  </thead>\n",
              "  <tbody>\n",
              "    <tr>\n",
              "      <th>0</th>\n",
              "      <td>0 – 17</td>\n",
              "      <td>5</td>\n",
              "      <td>950.0</td>\n",
              "      <td>0.0</td>\n",
              "      <td>950.0</td>\n",
              "      <td>November 25, 2020</td>\n",
              "    </tr>\n",
              "    <tr>\n",
              "      <th>1</th>\n",
              "      <td>18 – 29</td>\n",
              "      <td>12</td>\n",
              "      <td>3335.0</td>\n",
              "      <td>138.0</td>\n",
              "      <td>3473.0</td>\n",
              "      <td>November 25, 2020</td>\n",
              "    </tr>\n",
              "    <tr>\n",
              "      <th>2</th>\n",
              "      <td>30 – 49</td>\n",
              "      <td>10</td>\n",
              "      <td>3387.0</td>\n",
              "      <td>544.0</td>\n",
              "      <td>3931.0</td>\n",
              "      <td>November 25, 2020</td>\n",
              "    </tr>\n",
              "    <tr>\n",
              "      <th>3</th>\n",
              "      <td>50 – 69</td>\n",
              "      <td>11</td>\n",
              "      <td>1908.0</td>\n",
              "      <td>312.0</td>\n",
              "      <td>2220.0</td>\n",
              "      <td>November 25, 2020</td>\n",
              "    </tr>\n",
              "    <tr>\n",
              "      <th>4</th>\n",
              "      <td>70+</td>\n",
              "      <td>2</td>\n",
              "      <td>597.0</td>\n",
              "      <td>33.0</td>\n",
              "      <td>630.0</td>\n",
              "      <td>November 25, 2020</td>\n",
              "    </tr>\n",
              "  </tbody>\n",
              "</table>\n",
              "</div>"
            ],
            "text/plain": [
              "       Age Daily   Community  Lompoc Federal Prison   Total               Date\n",
              "0   0 – 17      5      950.0                    0.0   950.0  November 25, 2020\n",
              "1  18 – 29     12     3335.0                  138.0  3473.0  November 25, 2020\n",
              "2  30 – 49     10     3387.0                  544.0  3931.0  November 25, 2020\n",
              "3  50 – 69     11     1908.0                  312.0  2220.0  November 25, 2020\n",
              "4      70+      2      597.0                   33.0   630.0  November 25, 2020"
            ]
          },
          "metadata": {
            "tags": []
          },
          "execution_count": 25
        }
      ]
    },
    {
      "cell_type": "code",
      "metadata": {
        "id": "63_oy8o5H-zO"
      },
      "source": [
        "cases_by_age.Age.value_counts()"
      ],
      "execution_count": null,
      "outputs": []
    },
    {
      "cell_type": "code",
      "metadata": {
        "id": "TE1371XDJF1g"
      },
      "source": [
        "#fix duplicate age groups\n",
        "cases_by_age['Age'].replace({'70+3':'70+'}, inplace = True)"
      ],
      "execution_count": null,
      "outputs": []
    },
    {
      "cell_type": "code",
      "metadata": {
        "id": "529PIMMKLmxI"
      },
      "source": [
        "#creating new dataframe without age suppressed and pending age values for visualization\n",
        "age_viz = cases_by_age[~cases_by_age['Age'].isin(['Age Suppressed','Pending'])]"
      ],
      "execution_count": null,
      "outputs": []
    },
    {
      "cell_type": "code",
      "metadata": {
        "id": "ItmCFLPjJ85S",
        "colab": {
          "base_uri": "https://localhost:8080/"
        },
        "outputId": "a7804fe8-97f4-4021-806a-70ab0e2a84a1"
      },
      "source": [
        "age_viz.isna().sum()"
      ],
      "execution_count": null,
      "outputs": [
        {
          "output_type": "execute_result",
          "data": {
            "text/plain": [
              "Age                      0\n",
              "Daily                    0\n",
              "Community                0\n",
              "Lompoc Federal Prison    0\n",
              "Total                    0\n",
              "Date                     0\n",
              "dtype: int64"
            ]
          },
          "metadata": {
            "tags": []
          },
          "execution_count": 28
        }
      ]
    },
    {
      "cell_type": "code",
      "metadata": {
        "id": "FB--6L4TPKdj"
      },
      "source": [
        "#transforming dataframe into wide format\n",
        "#cases_by_age_viz = cases_by_age[['Age','Community','Lompoc Federal Prison','Date']][~cases_by_age['Age'].isin(['Age Suppressed','Pending'])]\n",
        "#cases_by_age_viz = pd.melt(cases_by_age_viz, id_vars=['Age','Date'], var_name='Location', value_name='Count')\n",
        "#cases_by_age_viz.head()"
      ],
      "execution_count": null,
      "outputs": []
    },
    {
      "cell_type": "markdown",
      "metadata": {
        "id": "AtrzmkcIKT3n"
      },
      "source": [
        "#### Creating Function for Data Transformations Required for Visualization"
      ]
    },
    {
      "cell_type": "code",
      "metadata": {
        "id": "23EKzERuJOAK"
      },
      "source": [
        "#def cases_by_age_transform(cases_by_age):\n",
        "#  #import dataframe\n",
        "#  cases_by_age = pd.read_csv('https://raw.githubusercontent.com/bryandaetz1/SB_County_COVID-19_Data/master/CSV_Files/cases_by_age_10-20-20.csv')\n",
        "\n",
        "  #rename columns\n",
        "#  cases_by_age.rename(columns = {'Number of Cases by Age':'Age',\n",
        "#                                 'Federal Prisonin Lompoc':'Lompoc Federal Prison',\n",
        "#                                 'Daily ':'Daily'}, inplace = True) \n",
        "\n",
        "  #fix duplicate age groups\n",
        "#  cases_by_age.Age.replace({'70+3':'70+'}, inplace = True)\n",
        "\n",
        "  #dropping null values\n",
        "#  cases_by_age.dropna(axis = 0, inplace = True)\n",
        "\n",
        "  #transforming dataframe into wide format\n",
        "#  cases_by_age_viz = cases_by_age[['Age','Community','Lompoc Federal Prison','Date']][~cases_by_age['Age'].isin(['Age Suppressed','Pending'])]\n",
        "#  cases_by_age_viz = pd.melt(cases_by_age_viz,id_vars=['Age','Date'],var_name='Location', value_name='Count')\n",
        "\n",
        "#  return cases_by_age_viz\n"
      ],
      "execution_count": null,
      "outputs": []
    },
    {
      "cell_type": "code",
      "metadata": {
        "id": "SnFaQKr1U3p0",
        "colab": {
          "base_uri": "https://localhost:8080/",
          "height": 777
        },
        "outputId": "b8e00e5b-c7a7-4858-839c-69f357e6f141"
      },
      "source": [
        "#viewing plotly express qualitative color scheme options\n",
        "fig = px.colors.qualitative.swatches()\n",
        "fig.show()"
      ],
      "execution_count": null,
      "outputs": [
        {
          "output_type": "display_data",
          "data": {
            "text/html": [
              "<html>\n",
              "<head><meta charset=\"utf-8\" /></head>\n",
              "<body>\n",
              "    <div>            <script src=\"https://cdnjs.cloudflare.com/ajax/libs/mathjax/2.7.5/MathJax.js?config=TeX-AMS-MML_SVG\"></script><script type=\"text/javascript\">if (window.MathJax) {MathJax.Hub.Config({SVG: {font: \"STIX-Web\"}});}</script>                <script type=\"text/javascript\">window.PlotlyConfig = {MathJaxConfig: 'local'};</script>\n",
              "        <script src=\"https://cdn.plot.ly/plotly-latest.min.js\"></script>                <div id=\"b114ae55-fd21-4c38-93e3-add23a5e4af0\" class=\"plotly-graph-div\" style=\"height:760px; width:100%;\"></div>            <script type=\"text/javascript\">                                    window.PLOTLYENV=window.PLOTLYENV || {};                                    if (document.getElementById(\"b114ae55-fd21-4c38-93e3-add23a5e4af0\")) {                    Plotly.newPlot(                        \"b114ae55-fd21-4c38-93e3-add23a5e4af0\",                        [{\"customdata\": [0, 1, 2, 3, 4, 5, 6, 7, 8, 9, 10], \"hovertemplate\": \"%{y}[%{customdata}] = %{marker.color}<extra></extra>\", \"marker\": {\"color\": [\"rgb(229, 134, 6)\", \"rgb(93, 105, 177)\", \"rgb(82, 188, 163)\", \"rgb(153, 201, 69)\", \"rgb(204, 97, 176)\", \"rgb(36, 121, 108)\", \"rgb(218, 165, 27)\", \"rgb(47, 138, 196)\", \"rgb(118, 78, 159)\", \"rgb(237, 100, 90)\", \"rgb(165, 170, 153)\"]}, \"orientation\": \"h\", \"type\": \"bar\", \"x\": [1, 1, 1, 1, 1, 1, 1, 1, 1, 1, 1], \"y\": [\"Vivid\", \"Vivid\", \"Vivid\", \"Vivid\", \"Vivid\", \"Vivid\", \"Vivid\", \"Vivid\", \"Vivid\", \"Vivid\", \"Vivid\"]}, {\"customdata\": [0, 1, 2, 3, 4, 5, 6, 7, 8, 9, 10], \"hovertemplate\": \"%{y}[%{customdata}] = %{marker.color}<extra></extra>\", \"marker\": {\"color\": [\"rgb(136, 204, 238)\", \"rgb(204, 102, 119)\", \"rgb(221, 204, 119)\", \"rgb(17, 119, 51)\", \"rgb(51, 34, 136)\", \"rgb(170, 68, 153)\", \"rgb(68, 170, 153)\", \"rgb(153, 153, 51)\", \"rgb(136, 34, 85)\", \"rgb(102, 17, 0)\", \"rgb(136, 136, 136)\"]}, \"orientation\": \"h\", \"type\": \"bar\", \"x\": [1, 1, 1, 1, 1, 1, 1, 1, 1, 1, 1], \"y\": [\"Safe\", \"Safe\", \"Safe\", \"Safe\", \"Safe\", \"Safe\", \"Safe\", \"Safe\", \"Safe\", \"Safe\", \"Safe\"]}, {\"customdata\": [0, 1, 2, 3, 4, 5, 6, 7, 8, 9, 10], \"hovertemplate\": \"%{y}[%{customdata}] = %{marker.color}<extra></extra>\", \"marker\": {\"color\": [\"rgb(95, 70, 144)\", \"rgb(29, 105, 150)\", \"rgb(56, 166, 165)\", \"rgb(15, 133, 84)\", \"rgb(115, 175, 72)\", \"rgb(237, 173, 8)\", \"rgb(225, 124, 5)\", \"rgb(204, 80, 62)\", \"rgb(148, 52, 110)\", \"rgb(111, 64, 112)\", \"rgb(102, 102, 102)\"]}, \"orientation\": \"h\", \"type\": \"bar\", \"x\": [1, 1, 1, 1, 1, 1, 1, 1, 1, 1, 1], \"y\": [\"Prism\", \"Prism\", \"Prism\", \"Prism\", \"Prism\", \"Prism\", \"Prism\", \"Prism\", \"Prism\", \"Prism\", \"Prism\"]}, {\"customdata\": [0, 1, 2, 3, 4, 5, 6, 7, 8, 9, 10], \"hovertemplate\": \"%{y}[%{customdata}] = %{marker.color}<extra></extra>\", \"marker\": {\"color\": [\"rgb(102, 197, 204)\", \"rgb(246, 207, 113)\", \"rgb(248, 156, 116)\", \"rgb(220, 176, 242)\", \"rgb(135, 197, 95)\", \"rgb(158, 185, 243)\", \"rgb(254, 136, 177)\", \"rgb(201, 219, 116)\", \"rgb(139, 224, 164)\", \"rgb(180, 151, 231)\", \"rgb(179, 179, 179)\"]}, \"orientation\": \"h\", \"type\": \"bar\", \"x\": [1, 1, 1, 1, 1, 1, 1, 1, 1, 1, 1], \"y\": [\"Pastel\", \"Pastel\", \"Pastel\", \"Pastel\", \"Pastel\", \"Pastel\", \"Pastel\", \"Pastel\", \"Pastel\", \"Pastel\", \"Pastel\"]}, {\"customdata\": [0, 1, 2, 3, 4, 5, 6, 7, 8, 9, 10], \"hovertemplate\": \"%{y}[%{customdata}] = %{marker.color}<extra></extra>\", \"marker\": {\"color\": [\"rgb(127, 60, 141)\", \"rgb(17, 165, 121)\", \"rgb(57, 105, 172)\", \"rgb(242, 183, 1)\", \"rgb(231, 63, 116)\", \"rgb(128, 186, 90)\", \"rgb(230, 131, 16)\", \"rgb(0, 134, 149)\", \"rgb(207, 28, 144)\", \"rgb(249, 123, 114)\", \"rgb(165, 170, 153)\"]}, \"orientation\": \"h\", \"type\": \"bar\", \"x\": [1, 1, 1, 1, 1, 1, 1, 1, 1, 1, 1], \"y\": [\"Bold\", \"Bold\", \"Bold\", \"Bold\", \"Bold\", \"Bold\", \"Bold\", \"Bold\", \"Bold\", \"Bold\", \"Bold\"]}, {\"customdata\": [0, 1, 2, 3, 4, 5, 6, 7, 8, 9, 10], \"hovertemplate\": \"%{y}[%{customdata}] = %{marker.color}<extra></extra>\", \"marker\": {\"color\": [\"rgb(133, 92, 117)\", \"rgb(217, 175, 107)\", \"rgb(175, 100, 88)\", \"rgb(115, 111, 76)\", \"rgb(82, 106, 131)\", \"rgb(98, 83, 119)\", \"rgb(104, 133, 92)\", \"rgb(156, 156, 94)\", \"rgb(160, 97, 119)\", \"rgb(140, 120, 93)\", \"rgb(124, 124, 124)\"]}, \"orientation\": \"h\", \"type\": \"bar\", \"x\": [1, 1, 1, 1, 1, 1, 1, 1, 1, 1, 1], \"y\": [\"Antique\", \"Antique\", \"Antique\", \"Antique\", \"Antique\", \"Antique\", \"Antique\", \"Antique\", \"Antique\", \"Antique\", \"Antique\"]}, {\"customdata\": [0, 1, 2, 3, 4, 5, 6, 7, 8, 9, 10, 11], \"hovertemplate\": \"%{y}[%{customdata}] = %{marker.color}<extra></extra>\", \"marker\": {\"color\": [\"rgb(141,211,199)\", \"rgb(255,255,179)\", \"rgb(190,186,218)\", \"rgb(251,128,114)\", \"rgb(128,177,211)\", \"rgb(253,180,98)\", \"rgb(179,222,105)\", \"rgb(252,205,229)\", \"rgb(217,217,217)\", \"rgb(188,128,189)\", \"rgb(204,235,197)\", \"rgb(255,237,111)\"]}, \"orientation\": \"h\", \"type\": \"bar\", \"x\": [1, 1, 1, 1, 1, 1, 1, 1, 1, 1, 1, 1], \"y\": [\"Set3\", \"Set3\", \"Set3\", \"Set3\", \"Set3\", \"Set3\", \"Set3\", \"Set3\", \"Set3\", \"Set3\", \"Set3\", \"Set3\"]}, {\"customdata\": [0, 1, 2, 3, 4, 5, 6, 7], \"hovertemplate\": \"%{y}[%{customdata}] = %{marker.color}<extra></extra>\", \"marker\": {\"color\": [\"rgb(179,226,205)\", \"rgb(253,205,172)\", \"rgb(203,213,232)\", \"rgb(244,202,228)\", \"rgb(230,245,201)\", \"rgb(255,242,174)\", \"rgb(241,226,204)\", \"rgb(204,204,204)\"]}, \"orientation\": \"h\", \"type\": \"bar\", \"x\": [1, 1, 1, 1, 1, 1, 1, 1], \"y\": [\"Pastel2\", \"Pastel2\", \"Pastel2\", \"Pastel2\", \"Pastel2\", \"Pastel2\", \"Pastel2\", \"Pastel2\"]}, {\"customdata\": [0, 1, 2, 3, 4, 5, 6, 7], \"hovertemplate\": \"%{y}[%{customdata}] = %{marker.color}<extra></extra>\", \"marker\": {\"color\": [\"rgb(102,194,165)\", \"rgb(252,141,98)\", \"rgb(141,160,203)\", \"rgb(231,138,195)\", \"rgb(166,216,84)\", \"rgb(255,217,47)\", \"rgb(229,196,148)\", \"rgb(179,179,179)\"]}, \"orientation\": \"h\", \"type\": \"bar\", \"x\": [1, 1, 1, 1, 1, 1, 1, 1], \"y\": [\"Set2\", \"Set2\", \"Set2\", \"Set2\", \"Set2\", \"Set2\", \"Set2\", \"Set2\"]}, {\"customdata\": [0, 1, 2, 3, 4, 5, 6, 7], \"hovertemplate\": \"%{y}[%{customdata}] = %{marker.color}<extra></extra>\", \"marker\": {\"color\": [\"rgb(27,158,119)\", \"rgb(217,95,2)\", \"rgb(117,112,179)\", \"rgb(231,41,138)\", \"rgb(102,166,30)\", \"rgb(230,171,2)\", \"rgb(166,118,29)\", \"rgb(102,102,102)\"]}, \"orientation\": \"h\", \"type\": \"bar\", \"x\": [1, 1, 1, 1, 1, 1, 1, 1], \"y\": [\"Dark2\", \"Dark2\", \"Dark2\", \"Dark2\", \"Dark2\", \"Dark2\", \"Dark2\", \"Dark2\"]}, {\"customdata\": [0, 1, 2, 3, 4, 5, 6, 7, 8], \"hovertemplate\": \"%{y}[%{customdata}] = %{marker.color}<extra></extra>\", \"marker\": {\"color\": [\"rgb(251,180,174)\", \"rgb(179,205,227)\", \"rgb(204,235,197)\", \"rgb(222,203,228)\", \"rgb(254,217,166)\", \"rgb(255,255,204)\", \"rgb(229,216,189)\", \"rgb(253,218,236)\", \"rgb(242,242,242)\"]}, \"orientation\": \"h\", \"type\": \"bar\", \"x\": [1, 1, 1, 1, 1, 1, 1, 1, 1], \"y\": [\"Pastel1\", \"Pastel1\", \"Pastel1\", \"Pastel1\", \"Pastel1\", \"Pastel1\", \"Pastel1\", \"Pastel1\", \"Pastel1\"]}, {\"customdata\": [0, 1, 2, 3, 4, 5, 6, 7, 8], \"hovertemplate\": \"%{y}[%{customdata}] = %{marker.color}<extra></extra>\", \"marker\": {\"color\": [\"rgb(228,26,28)\", \"rgb(55,126,184)\", \"rgb(77,175,74)\", \"rgb(152,78,163)\", \"rgb(255,127,0)\", \"rgb(255,255,51)\", \"rgb(166,86,40)\", \"rgb(247,129,191)\", \"rgb(153,153,153)\"]}, \"orientation\": \"h\", \"type\": \"bar\", \"x\": [1, 1, 1, 1, 1, 1, 1, 1, 1], \"y\": [\"Set1\", \"Set1\", \"Set1\", \"Set1\", \"Set1\", \"Set1\", \"Set1\", \"Set1\", \"Set1\"]}, {\"customdata\": [0, 1, 2, 3, 4, 5, 6, 7, 8, 9, 10, 11, 12, 13, 14, 15, 16, 17, 18, 19, 20, 21, 22, 23], \"hovertemplate\": \"%{y}[%{customdata}] = %{marker.color}<extra></extra>\", \"marker\": {\"color\": [\"#FD3216\", \"#00FE35\", \"#6A76FC\", \"#FED4C4\", \"#FE00CE\", \"#0DF9FF\", \"#F6F926\", \"#FF9616\", \"#479B55\", \"#EEA6FB\", \"#DC587D\", \"#D626FF\", \"#6E899C\", \"#00B5F7\", \"#B68E00\", \"#C9FBE5\", \"#FF0092\", \"#22FFA7\", \"#E3EE9E\", \"#86CE00\", \"#BC7196\", \"#7E7DCD\", \"#FC6955\", \"#E48F72\"]}, \"orientation\": \"h\", \"type\": \"bar\", \"x\": [1, 1, 1, 1, 1, 1, 1, 1, 1, 1, 1, 1, 1, 1, 1, 1, 1, 1, 1, 1, 1, 1, 1, 1], \"y\": [\"Light24\", \"Light24\", \"Light24\", \"Light24\", \"Light24\", \"Light24\", \"Light24\", \"Light24\", \"Light24\", \"Light24\", \"Light24\", \"Light24\", \"Light24\", \"Light24\", \"Light24\", \"Light24\", \"Light24\", \"Light24\", \"Light24\", \"Light24\", \"Light24\", \"Light24\", \"Light24\", \"Light24\"]}, {\"customdata\": [0, 1, 2, 3, 4, 5, 6, 7, 8, 9, 10, 11, 12, 13, 14, 15, 16, 17, 18, 19, 20, 21, 22, 23], \"hovertemplate\": \"%{y}[%{customdata}] = %{marker.color}<extra></extra>\", \"marker\": {\"color\": [\"#2E91E5\", \"#E15F99\", \"#1CA71C\", \"#FB0D0D\", \"#DA16FF\", \"#222A2A\", \"#B68100\", \"#750D86\", \"#EB663B\", \"#511CFB\", \"#00A08B\", \"#FB00D1\", \"#FC0080\", \"#B2828D\", \"#6C7C32\", \"#778AAE\", \"#862A16\", \"#A777F1\", \"#620042\", \"#1616A7\", \"#DA60CA\", \"#6C4516\", \"#0D2A63\", \"#AF0038\"]}, \"orientation\": \"h\", \"type\": \"bar\", \"x\": [1, 1, 1, 1, 1, 1, 1, 1, 1, 1, 1, 1, 1, 1, 1, 1, 1, 1, 1, 1, 1, 1, 1, 1], \"y\": [\"Dark24\", \"Dark24\", \"Dark24\", \"Dark24\", \"Dark24\", \"Dark24\", \"Dark24\", \"Dark24\", \"Dark24\", \"Dark24\", \"Dark24\", \"Dark24\", \"Dark24\", \"Dark24\", \"Dark24\", \"Dark24\", \"Dark24\", \"Dark24\", \"Dark24\", \"Dark24\", \"Dark24\", \"Dark24\", \"Dark24\", \"Dark24\"]}, {\"customdata\": [0, 1, 2, 3, 4, 5, 6, 7, 8, 9, 10, 11, 12, 13, 14, 15, 16, 17, 18, 19, 20, 21, 22, 23, 24, 25], \"hovertemplate\": \"%{y}[%{customdata}] = %{marker.color}<extra></extra>\", \"marker\": {\"color\": [\"#AA0DFE\", \"#3283FE\", \"#85660D\", \"#782AB6\", \"#565656\", \"#1C8356\", \"#16FF32\", \"#F7E1A0\", \"#E2E2E2\", \"#1CBE4F\", \"#C4451C\", \"#DEA0FD\", \"#FE00FA\", \"#325A9B\", \"#FEAF16\", \"#F8A19F\", \"#90AD1C\", \"#F6222E\", \"#1CFFCE\", \"#2ED9FF\", \"#B10DA1\", \"#C075A6\", \"#FC1CBF\", \"#B00068\", \"#FBE426\", \"#FA0087\"]}, \"orientation\": \"h\", \"type\": \"bar\", \"x\": [1, 1, 1, 1, 1, 1, 1, 1, 1, 1, 1, 1, 1, 1, 1, 1, 1, 1, 1, 1, 1, 1, 1, 1, 1, 1], \"y\": [\"Alphabet\", \"Alphabet\", \"Alphabet\", \"Alphabet\", \"Alphabet\", \"Alphabet\", \"Alphabet\", \"Alphabet\", \"Alphabet\", \"Alphabet\", \"Alphabet\", \"Alphabet\", \"Alphabet\", \"Alphabet\", \"Alphabet\", \"Alphabet\", \"Alphabet\", \"Alphabet\", \"Alphabet\", \"Alphabet\", \"Alphabet\", \"Alphabet\", \"Alphabet\", \"Alphabet\", \"Alphabet\", \"Alphabet\"]}, {\"customdata\": [0, 1, 2, 3, 4, 5, 6, 7, 8, 9], \"hovertemplate\": \"%{y}[%{customdata}] = %{marker.color}<extra></extra>\", \"marker\": {\"color\": [\"#4C78A8\", \"#F58518\", \"#E45756\", \"#72B7B2\", \"#54A24B\", \"#EECA3B\", \"#B279A2\", \"#FF9DA6\", \"#9D755D\", \"#BAB0AC\"]}, \"orientation\": \"h\", \"type\": \"bar\", \"x\": [1, 1, 1, 1, 1, 1, 1, 1, 1, 1], \"y\": [\"T10\", \"T10\", \"T10\", \"T10\", \"T10\", \"T10\", \"T10\", \"T10\", \"T10\", \"T10\"]}, {\"customdata\": [0, 1, 2, 3, 4, 5, 6, 7, 8, 9], \"hovertemplate\": \"%{y}[%{customdata}] = %{marker.color}<extra></extra>\", \"marker\": {\"color\": [\"#3366CC\", \"#DC3912\", \"#FF9900\", \"#109618\", \"#990099\", \"#0099C6\", \"#DD4477\", \"#66AA00\", \"#B82E2E\", \"#316395\"]}, \"orientation\": \"h\", \"type\": \"bar\", \"x\": [1, 1, 1, 1, 1, 1, 1, 1, 1, 1], \"y\": [\"G10\", \"G10\", \"G10\", \"G10\", \"G10\", \"G10\", \"G10\", \"G10\", \"G10\", \"G10\"]}, {\"customdata\": [0, 1, 2, 3, 4, 5, 6, 7, 8, 9], \"hovertemplate\": \"%{y}[%{customdata}] = %{marker.color}<extra></extra>\", \"marker\": {\"color\": [\"#1F77B4\", \"#FF7F0E\", \"#2CA02C\", \"#D62728\", \"#9467BD\", \"#8C564B\", \"#E377C2\", \"#7F7F7F\", \"#BCBD22\", \"#17BECF\"]}, \"orientation\": \"h\", \"type\": \"bar\", \"x\": [1, 1, 1, 1, 1, 1, 1, 1, 1, 1], \"y\": [\"D3\", \"D3\", \"D3\", \"D3\", \"D3\", \"D3\", \"D3\", \"D3\", \"D3\", \"D3\"]}, {\"customdata\": [0, 1, 2, 3, 4, 5, 6, 7, 8, 9], \"hovertemplate\": \"%{y}[%{customdata}] = %{marker.color}<extra></extra>\", \"marker\": {\"color\": [\"#636EFA\", \"#EF553B\", \"#00CC96\", \"#AB63FA\", \"#FFA15A\", \"#19D3F3\", \"#FF6692\", \"#B6E880\", \"#FF97FF\", \"#FECB52\"]}, \"orientation\": \"h\", \"type\": \"bar\", \"x\": [1, 1, 1, 1, 1, 1, 1, 1, 1, 1], \"y\": [\"Plotly\", \"Plotly\", \"Plotly\", \"Plotly\", \"Plotly\", \"Plotly\", \"Plotly\", \"Plotly\", \"Plotly\", \"Plotly\"]}],                        {\"bargap\": 0.5, \"barmode\": \"stack\", \"barnorm\": \"fraction\", \"height\": 760, \"margin\": {\"b\": 10}, \"showlegend\": false, \"template\": {\"data\": {\"bar\": [{\"error_x\": {\"color\": \"#2a3f5f\"}, \"error_y\": {\"color\": \"#2a3f5f\"}, \"marker\": {\"line\": {\"color\": \"#E5ECF6\", \"width\": 0.5}}, \"type\": \"bar\"}], \"barpolar\": [{\"marker\": {\"line\": {\"color\": \"#E5ECF6\", \"width\": 0.5}}, \"type\": \"barpolar\"}], \"carpet\": [{\"aaxis\": {\"endlinecolor\": \"#2a3f5f\", \"gridcolor\": \"white\", \"linecolor\": \"white\", \"minorgridcolor\": \"white\", \"startlinecolor\": \"#2a3f5f\"}, \"baxis\": {\"endlinecolor\": \"#2a3f5f\", \"gridcolor\": \"white\", \"linecolor\": \"white\", \"minorgridcolor\": \"white\", \"startlinecolor\": \"#2a3f5f\"}, \"type\": \"carpet\"}], \"choropleth\": [{\"colorbar\": {\"outlinewidth\": 0, \"ticks\": \"\"}, \"type\": \"choropleth\"}], \"contour\": [{\"colorbar\": {\"outlinewidth\": 0, \"ticks\": \"\"}, \"colorscale\": [[0.0, \"#0d0887\"], [0.1111111111111111, \"#46039f\"], [0.2222222222222222, \"#7201a8\"], [0.3333333333333333, \"#9c179e\"], [0.4444444444444444, \"#bd3786\"], [0.5555555555555556, \"#d8576b\"], [0.6666666666666666, \"#ed7953\"], [0.7777777777777778, \"#fb9f3a\"], [0.8888888888888888, \"#fdca26\"], [1.0, \"#f0f921\"]], \"type\": \"contour\"}], \"contourcarpet\": [{\"colorbar\": {\"outlinewidth\": 0, \"ticks\": \"\"}, \"type\": \"contourcarpet\"}], \"heatmap\": [{\"colorbar\": {\"outlinewidth\": 0, \"ticks\": \"\"}, \"colorscale\": [[0.0, \"#0d0887\"], [0.1111111111111111, \"#46039f\"], [0.2222222222222222, \"#7201a8\"], [0.3333333333333333, \"#9c179e\"], [0.4444444444444444, \"#bd3786\"], [0.5555555555555556, \"#d8576b\"], [0.6666666666666666, \"#ed7953\"], [0.7777777777777778, \"#fb9f3a\"], [0.8888888888888888, \"#fdca26\"], [1.0, \"#f0f921\"]], \"type\": \"heatmap\"}], \"heatmapgl\": [{\"colorbar\": {\"outlinewidth\": 0, \"ticks\": \"\"}, \"colorscale\": [[0.0, \"#0d0887\"], [0.1111111111111111, \"#46039f\"], [0.2222222222222222, \"#7201a8\"], [0.3333333333333333, \"#9c179e\"], [0.4444444444444444, \"#bd3786\"], [0.5555555555555556, \"#d8576b\"], [0.6666666666666666, \"#ed7953\"], [0.7777777777777778, \"#fb9f3a\"], [0.8888888888888888, \"#fdca26\"], [1.0, \"#f0f921\"]], \"type\": \"heatmapgl\"}], \"histogram\": [{\"marker\": {\"colorbar\": {\"outlinewidth\": 0, \"ticks\": \"\"}}, \"type\": \"histogram\"}], \"histogram2d\": [{\"colorbar\": {\"outlinewidth\": 0, \"ticks\": \"\"}, \"colorscale\": [[0.0, \"#0d0887\"], [0.1111111111111111, \"#46039f\"], [0.2222222222222222, \"#7201a8\"], [0.3333333333333333, \"#9c179e\"], [0.4444444444444444, \"#bd3786\"], [0.5555555555555556, \"#d8576b\"], [0.6666666666666666, \"#ed7953\"], [0.7777777777777778, \"#fb9f3a\"], [0.8888888888888888, \"#fdca26\"], [1.0, \"#f0f921\"]], \"type\": \"histogram2d\"}], \"histogram2dcontour\": [{\"colorbar\": {\"outlinewidth\": 0, \"ticks\": \"\"}, \"colorscale\": [[0.0, \"#0d0887\"], [0.1111111111111111, \"#46039f\"], [0.2222222222222222, \"#7201a8\"], [0.3333333333333333, \"#9c179e\"], [0.4444444444444444, \"#bd3786\"], [0.5555555555555556, \"#d8576b\"], [0.6666666666666666, \"#ed7953\"], [0.7777777777777778, \"#fb9f3a\"], [0.8888888888888888, \"#fdca26\"], [1.0, \"#f0f921\"]], \"type\": \"histogram2dcontour\"}], \"mesh3d\": [{\"colorbar\": {\"outlinewidth\": 0, \"ticks\": \"\"}, \"type\": \"mesh3d\"}], \"parcoords\": [{\"line\": {\"colorbar\": {\"outlinewidth\": 0, \"ticks\": \"\"}}, \"type\": \"parcoords\"}], \"pie\": [{\"automargin\": true, \"type\": \"pie\"}], \"scatter\": [{\"marker\": {\"colorbar\": {\"outlinewidth\": 0, \"ticks\": \"\"}}, \"type\": \"scatter\"}], \"scatter3d\": [{\"line\": {\"colorbar\": {\"outlinewidth\": 0, \"ticks\": \"\"}}, \"marker\": {\"colorbar\": {\"outlinewidth\": 0, \"ticks\": \"\"}}, \"type\": \"scatter3d\"}], \"scattercarpet\": [{\"marker\": {\"colorbar\": {\"outlinewidth\": 0, \"ticks\": \"\"}}, \"type\": \"scattercarpet\"}], \"scattergeo\": [{\"marker\": {\"colorbar\": {\"outlinewidth\": 0, \"ticks\": \"\"}}, \"type\": \"scattergeo\"}], \"scattergl\": [{\"marker\": {\"colorbar\": {\"outlinewidth\": 0, \"ticks\": \"\"}}, \"type\": \"scattergl\"}], \"scattermapbox\": [{\"marker\": {\"colorbar\": {\"outlinewidth\": 0, \"ticks\": \"\"}}, \"type\": \"scattermapbox\"}], \"scatterpolar\": [{\"marker\": {\"colorbar\": {\"outlinewidth\": 0, \"ticks\": \"\"}}, \"type\": \"scatterpolar\"}], \"scatterpolargl\": [{\"marker\": {\"colorbar\": {\"outlinewidth\": 0, \"ticks\": \"\"}}, \"type\": \"scatterpolargl\"}], \"scatterternary\": [{\"marker\": {\"colorbar\": {\"outlinewidth\": 0, \"ticks\": \"\"}}, \"type\": \"scatterternary\"}], \"surface\": [{\"colorbar\": {\"outlinewidth\": 0, \"ticks\": \"\"}, \"colorscale\": [[0.0, \"#0d0887\"], [0.1111111111111111, \"#46039f\"], [0.2222222222222222, \"#7201a8\"], [0.3333333333333333, \"#9c179e\"], [0.4444444444444444, \"#bd3786\"], [0.5555555555555556, \"#d8576b\"], [0.6666666666666666, \"#ed7953\"], [0.7777777777777778, \"#fb9f3a\"], [0.8888888888888888, \"#fdca26\"], [1.0, \"#f0f921\"]], \"type\": \"surface\"}], \"table\": [{\"cells\": {\"fill\": {\"color\": \"#EBF0F8\"}, \"line\": {\"color\": \"white\"}}, \"header\": {\"fill\": {\"color\": \"#C8D4E3\"}, \"line\": {\"color\": \"white\"}}, \"type\": \"table\"}]}, \"layout\": {\"annotationdefaults\": {\"arrowcolor\": \"#2a3f5f\", \"arrowhead\": 0, \"arrowwidth\": 1}, \"coloraxis\": {\"colorbar\": {\"outlinewidth\": 0, \"ticks\": \"\"}}, \"colorscale\": {\"diverging\": [[0, \"#8e0152\"], [0.1, \"#c51b7d\"], [0.2, \"#de77ae\"], [0.3, \"#f1b6da\"], [0.4, \"#fde0ef\"], [0.5, \"#f7f7f7\"], [0.6, \"#e6f5d0\"], [0.7, \"#b8e186\"], [0.8, \"#7fbc41\"], [0.9, \"#4d9221\"], [1, \"#276419\"]], \"sequential\": [[0.0, \"#0d0887\"], [0.1111111111111111, \"#46039f\"], [0.2222222222222222, \"#7201a8\"], [0.3333333333333333, \"#9c179e\"], [0.4444444444444444, \"#bd3786\"], [0.5555555555555556, \"#d8576b\"], [0.6666666666666666, \"#ed7953\"], [0.7777777777777778, \"#fb9f3a\"], [0.8888888888888888, \"#fdca26\"], [1.0, \"#f0f921\"]], \"sequentialminus\": [[0.0, \"#0d0887\"], [0.1111111111111111, \"#46039f\"], [0.2222222222222222, \"#7201a8\"], [0.3333333333333333, \"#9c179e\"], [0.4444444444444444, \"#bd3786\"], [0.5555555555555556, \"#d8576b\"], [0.6666666666666666, \"#ed7953\"], [0.7777777777777778, \"#fb9f3a\"], [0.8888888888888888, \"#fdca26\"], [1.0, \"#f0f921\"]]}, \"colorway\": [\"#636efa\", \"#EF553B\", \"#00cc96\", \"#ab63fa\", \"#FFA15A\", \"#19d3f3\", \"#FF6692\", \"#B6E880\", \"#FF97FF\", \"#FECB52\"], \"font\": {\"color\": \"#2a3f5f\"}, \"geo\": {\"bgcolor\": \"white\", \"lakecolor\": \"white\", \"landcolor\": \"#E5ECF6\", \"showlakes\": true, \"showland\": true, \"subunitcolor\": \"white\"}, \"hoverlabel\": {\"align\": \"left\"}, \"hovermode\": \"closest\", \"mapbox\": {\"style\": \"light\"}, \"paper_bgcolor\": \"white\", \"plot_bgcolor\": \"#E5ECF6\", \"polar\": {\"angularaxis\": {\"gridcolor\": \"white\", \"linecolor\": \"white\", \"ticks\": \"\"}, \"bgcolor\": \"#E5ECF6\", \"radialaxis\": {\"gridcolor\": \"white\", \"linecolor\": \"white\", \"ticks\": \"\"}}, \"scene\": {\"xaxis\": {\"backgroundcolor\": \"#E5ECF6\", \"gridcolor\": \"white\", \"gridwidth\": 2, \"linecolor\": \"white\", \"showbackground\": true, \"ticks\": \"\", \"zerolinecolor\": \"white\"}, \"yaxis\": {\"backgroundcolor\": \"#E5ECF6\", \"gridcolor\": \"white\", \"gridwidth\": 2, \"linecolor\": \"white\", \"showbackground\": true, \"ticks\": \"\", \"zerolinecolor\": \"white\"}, \"zaxis\": {\"backgroundcolor\": \"#E5ECF6\", \"gridcolor\": \"white\", \"gridwidth\": 2, \"linecolor\": \"white\", \"showbackground\": true, \"ticks\": \"\", \"zerolinecolor\": \"white\"}}, \"shapedefaults\": {\"line\": {\"color\": \"#2a3f5f\"}}, \"ternary\": {\"aaxis\": {\"gridcolor\": \"white\", \"linecolor\": \"white\", \"ticks\": \"\"}, \"baxis\": {\"gridcolor\": \"white\", \"linecolor\": \"white\", \"ticks\": \"\"}, \"bgcolor\": \"#E5ECF6\", \"caxis\": {\"gridcolor\": \"white\", \"linecolor\": \"white\", \"ticks\": \"\"}}, \"title\": {\"x\": 0.05}, \"xaxis\": {\"automargin\": true, \"gridcolor\": \"white\", \"linecolor\": \"white\", \"ticks\": \"\", \"title\": {\"standoff\": 15}, \"zerolinecolor\": \"white\", \"zerolinewidth\": 2}, \"yaxis\": {\"automargin\": true, \"gridcolor\": \"white\", \"linecolor\": \"white\", \"ticks\": \"\", \"title\": {\"standoff\": 15}, \"zerolinecolor\": \"white\", \"zerolinewidth\": 2}}}, \"title\": {\"text\": \"plotly.colors.qualitative\"}, \"xaxis\": {\"range\": [-0.02, 1.02], \"showgrid\": false, \"showticklabels\": false}},                        {\"responsive\": true}                    ).then(function(){\n",
              "                            \n",
              "var gd = document.getElementById('b114ae55-fd21-4c38-93e3-add23a5e4af0');\n",
              "var x = new MutationObserver(function (mutations, observer) {{\n",
              "        var display = window.getComputedStyle(gd).display;\n",
              "        if (!display || display === 'none') {{\n",
              "            console.log([gd, 'removed!']);\n",
              "            Plotly.purge(gd);\n",
              "            observer.disconnect();\n",
              "        }}\n",
              "}});\n",
              "\n",
              "// Listen for the removal of the full notebook cells\n",
              "var notebookContainer = gd.closest('#notebook-container');\n",
              "if (notebookContainer) {{\n",
              "    x.observe(notebookContainer, {childList: true});\n",
              "}}\n",
              "\n",
              "// Listen for the clearing of the current output cell\n",
              "var outputEl = gd.closest('.output');\n",
              "if (outputEl) {{\n",
              "    x.observe(outputEl, {childList: true});\n",
              "}}\n",
              "\n",
              "                        })                };                            </script>        </div>\n",
              "</body>\n",
              "</html>"
            ]
          },
          "metadata": {
            "tags": []
          }
        }
      ]
    },
    {
      "cell_type": "code",
      "metadata": {
        "id": "Cs2HVBdwJRL4"
      },
      "source": [
        "#def create_barplot(date):\n",
        "#  fig = px.bar(cases_by_age_viz[cases_by_age_viz['Date'] == date], \n",
        "#               x = 'Count', \n",
        "#               y = 'Age',\n",
        "#               orientation = 'h', \n",
        "#               color = 'Location', \n",
        "#               template = 'plotly_dark',\n",
        "#               color_discrete_sequence = px.colors.qualitative.D3,\n",
        "#               title = 'Total Covid Cases by Age Group as of ' + date)\n",
        "  \n",
        "#  fig.update_layout(\n",
        "#      hovermode = 'closest',\n",
        "#      title_font_family = 'Courier',\n",
        "#      title_font_color = 'white',\n",
        "#      title_font_size = 24,\n",
        "#      legend = dict(\n",
        "#          orientation = 'h',\n",
        "#          yanchor = 'bottom',\n",
        "#          y = 1.02,\n",
        "#          xanchor = 'left',\n",
        "#          x = 0,\n",
        "#          font = dict(\n",
        "#              family = 'Courier',\n",
        "#              size = 12,\n",
        "#              color = 'white'\n",
        "#          )\n",
        "#      )\n",
        "#  )\n",
        "\n",
        "#  fig.show()"
      ],
      "execution_count": null,
      "outputs": []
    },
    {
      "cell_type": "code",
      "metadata": {
        "id": "jjSCHrz7MsIa",
        "colab": {
          "base_uri": "https://localhost:8080/",
          "height": 204
        },
        "outputId": "91059cc7-4921-4942-c989-24fdd5d7204f"
      },
      "source": [
        "age_viz.head()"
      ],
      "execution_count": null,
      "outputs": [
        {
          "output_type": "execute_result",
          "data": {
            "text/html": [
              "<div>\n",
              "<style scoped>\n",
              "    .dataframe tbody tr th:only-of-type {\n",
              "        vertical-align: middle;\n",
              "    }\n",
              "\n",
              "    .dataframe tbody tr th {\n",
              "        vertical-align: top;\n",
              "    }\n",
              "\n",
              "    .dataframe thead th {\n",
              "        text-align: right;\n",
              "    }\n",
              "</style>\n",
              "<table border=\"1\" class=\"dataframe\">\n",
              "  <thead>\n",
              "    <tr style=\"text-align: right;\">\n",
              "      <th></th>\n",
              "      <th>Age</th>\n",
              "      <th>Daily</th>\n",
              "      <th>Community</th>\n",
              "      <th>Lompoc Federal Prison</th>\n",
              "      <th>Total</th>\n",
              "      <th>Date</th>\n",
              "    </tr>\n",
              "  </thead>\n",
              "  <tbody>\n",
              "    <tr>\n",
              "      <th>0</th>\n",
              "      <td>0 – 17</td>\n",
              "      <td>5</td>\n",
              "      <td>950.0</td>\n",
              "      <td>0.0</td>\n",
              "      <td>950.0</td>\n",
              "      <td>November 25, 2020</td>\n",
              "    </tr>\n",
              "    <tr>\n",
              "      <th>1</th>\n",
              "      <td>18 – 29</td>\n",
              "      <td>12</td>\n",
              "      <td>3335.0</td>\n",
              "      <td>138.0</td>\n",
              "      <td>3473.0</td>\n",
              "      <td>November 25, 2020</td>\n",
              "    </tr>\n",
              "    <tr>\n",
              "      <th>2</th>\n",
              "      <td>30 – 49</td>\n",
              "      <td>10</td>\n",
              "      <td>3387.0</td>\n",
              "      <td>544.0</td>\n",
              "      <td>3931.0</td>\n",
              "      <td>November 25, 2020</td>\n",
              "    </tr>\n",
              "    <tr>\n",
              "      <th>3</th>\n",
              "      <td>50 – 69</td>\n",
              "      <td>11</td>\n",
              "      <td>1908.0</td>\n",
              "      <td>312.0</td>\n",
              "      <td>2220.0</td>\n",
              "      <td>November 25, 2020</td>\n",
              "    </tr>\n",
              "    <tr>\n",
              "      <th>4</th>\n",
              "      <td>70+</td>\n",
              "      <td>2</td>\n",
              "      <td>597.0</td>\n",
              "      <td>33.0</td>\n",
              "      <td>630.0</td>\n",
              "      <td>November 25, 2020</td>\n",
              "    </tr>\n",
              "  </tbody>\n",
              "</table>\n",
              "</div>"
            ],
            "text/plain": [
              "       Age Daily   Community  Lompoc Federal Prison   Total               Date\n",
              "0   0 – 17      5      950.0                    0.0   950.0  November 25, 2020\n",
              "1  18 – 29     12     3335.0                  138.0  3473.0  November 25, 2020\n",
              "2  30 – 49     10     3387.0                  544.0  3931.0  November 25, 2020\n",
              "3  50 – 69     11     1908.0                  312.0  2220.0  November 25, 2020\n",
              "4      70+      2      597.0                   33.0   630.0  November 25, 2020"
            ]
          },
          "metadata": {
            "tags": []
          },
          "execution_count": 31
        }
      ]
    },
    {
      "cell_type": "code",
      "metadata": {
        "id": "hUaP7_8JHtk1",
        "colab": {
          "base_uri": "https://localhost:8080/"
        },
        "outputId": "1f12c240-5d62-4dcd-92d4-d83c5a487353"
      },
      "source": [
        "age_viz.Date.unique()[:10]"
      ],
      "execution_count": null,
      "outputs": [
        {
          "output_type": "execute_result",
          "data": {
            "text/plain": [
              "array(['November 25, 2020', 'November 24, 2020', 'November 23, 2020',\n",
              "       'November 22, 2020', 'November 21, 2020', 'November 20, 2020',\n",
              "       'November 19, 2020', 'November 18, 2020', 'November 17, 2020',\n",
              "       'November 16, 2020'], dtype=object)"
            ]
          },
          "metadata": {
            "tags": []
          },
          "execution_count": 32
        }
      ]
    },
    {
      "cell_type": "code",
      "metadata": {
        "id": "1tZADurQIX4R",
        "colab": {
          "base_uri": "https://localhost:8080/"
        },
        "outputId": "4314c9a5-a77c-457c-8040-38d5a826ba6e"
      },
      "source": [
        "age_viz.columns[2:5].to_list()"
      ],
      "execution_count": null,
      "outputs": [
        {
          "output_type": "execute_result",
          "data": {
            "text/plain": [
              "['Community', 'Lompoc Federal Prison', 'Total']"
            ]
          },
          "metadata": {
            "tags": []
          },
          "execution_count": 33
        }
      ]
    },
    {
      "cell_type": "code",
      "metadata": {
        "id": "UcDiCW79xzPp"
      },
      "source": [
        "age_viz2 = age_viz[age_viz['Date'] == 'November 25, 2020']"
      ],
      "execution_count": null,
      "outputs": []
    },
    {
      "cell_type": "code",
      "metadata": {
        "colab": {
          "base_uri": "https://localhost:8080/",
          "height": 204
        },
        "id": "cu_U1G3uzJFX",
        "outputId": "90d85f19-d4c1-4736-b1ae-f279c8d4643d"
      },
      "source": [
        "age_viz2"
      ],
      "execution_count": null,
      "outputs": [
        {
          "output_type": "execute_result",
          "data": {
            "text/html": [
              "<div>\n",
              "<style scoped>\n",
              "    .dataframe tbody tr th:only-of-type {\n",
              "        vertical-align: middle;\n",
              "    }\n",
              "\n",
              "    .dataframe tbody tr th {\n",
              "        vertical-align: top;\n",
              "    }\n",
              "\n",
              "    .dataframe thead th {\n",
              "        text-align: right;\n",
              "    }\n",
              "</style>\n",
              "<table border=\"1\" class=\"dataframe\">\n",
              "  <thead>\n",
              "    <tr style=\"text-align: right;\">\n",
              "      <th></th>\n",
              "      <th>Age</th>\n",
              "      <th>Daily</th>\n",
              "      <th>Community</th>\n",
              "      <th>Lompoc Federal Prison</th>\n",
              "      <th>Total</th>\n",
              "      <th>Date</th>\n",
              "    </tr>\n",
              "  </thead>\n",
              "  <tbody>\n",
              "    <tr>\n",
              "      <th>0</th>\n",
              "      <td>0 – 17</td>\n",
              "      <td>5</td>\n",
              "      <td>950.0</td>\n",
              "      <td>0.0</td>\n",
              "      <td>950.0</td>\n",
              "      <td>November 25, 2020</td>\n",
              "    </tr>\n",
              "    <tr>\n",
              "      <th>1</th>\n",
              "      <td>18 – 29</td>\n",
              "      <td>12</td>\n",
              "      <td>3335.0</td>\n",
              "      <td>138.0</td>\n",
              "      <td>3473.0</td>\n",
              "      <td>November 25, 2020</td>\n",
              "    </tr>\n",
              "    <tr>\n",
              "      <th>2</th>\n",
              "      <td>30 – 49</td>\n",
              "      <td>10</td>\n",
              "      <td>3387.0</td>\n",
              "      <td>544.0</td>\n",
              "      <td>3931.0</td>\n",
              "      <td>November 25, 2020</td>\n",
              "    </tr>\n",
              "    <tr>\n",
              "      <th>3</th>\n",
              "      <td>50 – 69</td>\n",
              "      <td>11</td>\n",
              "      <td>1908.0</td>\n",
              "      <td>312.0</td>\n",
              "      <td>2220.0</td>\n",
              "      <td>November 25, 2020</td>\n",
              "    </tr>\n",
              "    <tr>\n",
              "      <th>4</th>\n",
              "      <td>70+</td>\n",
              "      <td>2</td>\n",
              "      <td>597.0</td>\n",
              "      <td>33.0</td>\n",
              "      <td>630.0</td>\n",
              "      <td>November 25, 2020</td>\n",
              "    </tr>\n",
              "  </tbody>\n",
              "</table>\n",
              "</div>"
            ],
            "text/plain": [
              "       Age Daily   Community  Lompoc Federal Prison   Total               Date\n",
              "0   0 – 17      5      950.0                    0.0   950.0  November 25, 2020\n",
              "1  18 – 29     12     3335.0                  138.0  3473.0  November 25, 2020\n",
              "2  30 – 49     10     3387.0                  544.0  3931.0  November 25, 2020\n",
              "3  50 – 69     11     1908.0                  312.0  2220.0  November 25, 2020\n",
              "4      70+      2      597.0                   33.0   630.0  November 25, 2020"
            ]
          },
          "metadata": {
            "tags": []
          },
          "execution_count": 46
        }
      ]
    },
    {
      "cell_type": "code",
      "metadata": {
        "colab": {
          "base_uri": "https://localhost:8080/"
        },
        "id": "SuJvNoKczU_T",
        "outputId": "7e7b792c-f6a9-45e5-c282-d4f202429213"
      },
      "source": [
        "age_viz2.shape[0]"
      ],
      "execution_count": null,
      "outputs": [
        {
          "output_type": "execute_result",
          "data": {
            "text/plain": [
              "5"
            ]
          },
          "metadata": {
            "tags": []
          },
          "execution_count": 49
        }
      ]
    },
    {
      "cell_type": "code",
      "metadata": {
        "colab": {
          "base_uri": "https://localhost:8080/"
        },
        "id": "B01Je18c0O87",
        "outputId": "7f38f4ca-eb06-4ac8-cbe3-dc275eb54f31"
      },
      "source": [
        "['lightgray']*age_viz2.shape[0]"
      ],
      "execution_count": null,
      "outputs": [
        {
          "output_type": "execute_result",
          "data": {
            "text/plain": [
              "list"
            ]
          },
          "metadata": {
            "tags": []
          },
          "execution_count": 58
        }
      ]
    },
    {
      "cell_type": "code",
      "metadata": {
        "colab": {
          "base_uri": "https://localhost:8080/"
        },
        "id": "9hNLOTaNybNw",
        "outputId": "8b4c160f-bac9-4023-a59b-7f3e51a93d35"
      },
      "source": [
        "age_viz2['Community'].max()"
      ],
      "execution_count": null,
      "outputs": [
        {
          "output_type": "execute_result",
          "data": {
            "text/plain": [
              "3387.0"
            ]
          },
          "metadata": {
            "tags": []
          },
          "execution_count": 47
        }
      ]
    },
    {
      "cell_type": "code",
      "metadata": {
        "id": "slDotTq_ypbz"
      },
      "source": [
        "index = age_viz2[age_viz2['Community'] == age_viz2['Community'].max()].index.values[0]"
      ],
      "execution_count": null,
      "outputs": []
    },
    {
      "cell_type": "code",
      "metadata": {
        "colab": {
          "base_uri": "https://localhost:8080/"
        },
        "id": "0r71kPiG1G_q",
        "outputId": "8191c3cf-695e-4732-9f26-5c4f3d2ba71e"
      },
      "source": [
        "age_viz2['Community'][index]"
      ],
      "execution_count": null,
      "outputs": [
        {
          "output_type": "execute_result",
          "data": {
            "text/plain": [
              "3387.0"
            ]
          },
          "metadata": {
            "tags": []
          },
          "execution_count": 77
        }
      ]
    },
    {
      "cell_type": "code",
      "metadata": {
        "colab": {
          "base_uri": "https://localhost:8080/"
        },
        "id": "fRcmr-fv2eR3",
        "outputId": "3914ba64-3ab8-4136-903a-f5d5690fe362"
      },
      "source": [
        "colors = ['lightslategray'] * age_viz2.shape[0]\n",
        "colors[index] = 'crimson'\n",
        "colors"
      ],
      "execution_count": null,
      "outputs": [
        {
          "output_type": "execute_result",
          "data": {
            "text/plain": [
              "['lightslategray',\n",
              " 'lightslategray',\n",
              " 'crimson',\n",
              " 'lightslategray',\n",
              " 'lightslategray']"
            ]
          },
          "metadata": {
            "tags": []
          },
          "execution_count": 100
        }
      ]
    },
    {
      "cell_type": "code",
      "metadata": {
        "id": "las61EP6MjuO"
      },
      "source": [
        "def create_age_barplot(date, column_name):\n",
        "  age_plot = age_viz[age_viz['Date'] == date].reset_index(drop=True)\n",
        "  index = age_plot[age_plot[column_name] == age_plot[column_name].max()].index.values[0]\n",
        "  \n",
        "  colors = ['#4b4c4f']*age_plot.shape[0]\n",
        "  colors[index] = '#ed2009'\n",
        "\n",
        "  fig = px.bar(age_plot,\n",
        "               y = 'Age',\n",
        "               x = column_name,\n",
        "               orientation = 'h',\n",
        "               color = 'Age',\n",
        "               color_discrete_sequence = colors,\n",
        "               template = 'plotly_dark',\n",
        "               title = column_name + ' Cases by Age as of ' + date)\n",
        "  \n",
        "  fig.update_layout(\n",
        "      hovermode = 'closest',\n",
        "      font_family = 'Courier',\n",
        "      font_color = 'white',\n",
        "      title_font_size = 24,\n",
        "      yaxis = dict(title = None),\n",
        "      xaxis = dict(title = 'Age Group'),\n",
        "      showlegend = False\n",
        "      \n",
        "  )\n",
        "  \n",
        "  fig.show()"
      ],
      "execution_count": null,
      "outputs": []
    },
    {
      "cell_type": "code",
      "metadata": {
        "id": "XNvGsvDCMLMg",
        "colab": {
          "base_uri": "https://localhost:8080/",
          "height": 542
        },
        "outputId": "cc7ff78e-235f-43cb-cc26-bcf76955e897"
      },
      "source": [
        "create_age_barplot('October 20, 2020','Community')"
      ],
      "execution_count": null,
      "outputs": [
        {
          "output_type": "display_data",
          "data": {
            "text/html": [
              "<html>\n",
              "<head><meta charset=\"utf-8\" /></head>\n",
              "<body>\n",
              "    <div>            <script src=\"https://cdnjs.cloudflare.com/ajax/libs/mathjax/2.7.5/MathJax.js?config=TeX-AMS-MML_SVG\"></script><script type=\"text/javascript\">if (window.MathJax) {MathJax.Hub.Config({SVG: {font: \"STIX-Web\"}});}</script>                <script type=\"text/javascript\">window.PlotlyConfig = {MathJaxConfig: 'local'};</script>\n",
              "        <script src=\"https://cdn.plot.ly/plotly-latest.min.js\"></script>                <div id=\"3fe8ea0f-1961-45c5-9b54-e4f96468cdaf\" class=\"plotly-graph-div\" style=\"height:525px; width:100%;\"></div>            <script type=\"text/javascript\">                                    window.PLOTLYENV=window.PLOTLYENV || {};                                    if (document.getElementById(\"3fe8ea0f-1961-45c5-9b54-e4f96468cdaf\")) {                    Plotly.newPlot(                        \"3fe8ea0f-1961-45c5-9b54-e4f96468cdaf\",                        [{\"alignmentgroup\": \"True\", \"hovertemplate\": \"Age=%{y}<br>Community=%{x}<extra></extra>\", \"legendgroup\": \"0 \\u2013 17\", \"marker\": {\"color\": \"#4b4c4f\"}, \"name\": \"0 \\u2013 17\", \"offsetgroup\": \"0 \\u2013 17\", \"orientation\": \"h\", \"showlegend\": true, \"textposition\": \"auto\", \"type\": \"bar\", \"x\": [807.0], \"xaxis\": \"x\", \"y\": [\"0 \\u2013 17\"], \"yaxis\": \"y\"}, {\"alignmentgroup\": \"True\", \"hovertemplate\": \"Age=%{y}<br>Community=%{x}<extra></extra>\", \"legendgroup\": \"18 \\u2013 29\", \"marker\": {\"color\": \"#4b4c4f\"}, \"name\": \"18 \\u2013 29\", \"offsetgroup\": \"18 \\u2013 29\", \"orientation\": \"h\", \"showlegend\": true, \"textposition\": \"auto\", \"type\": \"bar\", \"x\": [2731.0], \"xaxis\": \"x\", \"y\": [\"18 \\u2013 29\"], \"yaxis\": \"y\"}, {\"alignmentgroup\": \"True\", \"hovertemplate\": \"Age=%{y}<br>Community=%{x}<extra></extra>\", \"legendgroup\": \"30 \\u2013 49\", \"marker\": {\"color\": \"#ed2009\"}, \"name\": \"30 \\u2013 49\", \"offsetgroup\": \"30 \\u2013 49\", \"orientation\": \"h\", \"showlegend\": true, \"textposition\": \"auto\", \"type\": \"bar\", \"x\": [2977.0], \"xaxis\": \"x\", \"y\": [\"30 \\u2013 49\"], \"yaxis\": \"y\"}, {\"alignmentgroup\": \"True\", \"hovertemplate\": \"Age=%{y}<br>Community=%{x}<extra></extra>\", \"legendgroup\": \"50 \\u2013 69\", \"marker\": {\"color\": \"#4b4c4f\"}, \"name\": \"50 \\u2013 69\", \"offsetgroup\": \"50 \\u2013 69\", \"orientation\": \"h\", \"showlegend\": true, \"textposition\": \"auto\", \"type\": \"bar\", \"x\": [1609.0], \"xaxis\": \"x\", \"y\": [\"50 \\u2013 69\"], \"yaxis\": \"y\"}, {\"alignmentgroup\": \"True\", \"hovertemplate\": \"Age=%{y}<br>Community=%{x}<extra></extra>\", \"legendgroup\": \"70+\", \"marker\": {\"color\": \"#4b4c4f\"}, \"name\": \"70+\", \"offsetgroup\": \"70+\", \"orientation\": \"h\", \"showlegend\": true, \"textposition\": \"auto\", \"type\": \"bar\", \"x\": [519.0], \"xaxis\": \"x\", \"y\": [\"70+\"], \"yaxis\": \"y\"}],                        {\"barmode\": \"relative\", \"font\": {\"color\": \"white\", \"family\": \"Courier\"}, \"hovermode\": \"closest\", \"legend\": {\"title\": {\"text\": \"Age\"}, \"tracegroupgap\": 0}, \"showlegend\": false, \"template\": {\"data\": {\"bar\": [{\"error_x\": {\"color\": \"#f2f5fa\"}, \"error_y\": {\"color\": \"#f2f5fa\"}, \"marker\": {\"line\": {\"color\": \"rgb(17,17,17)\", \"width\": 0.5}}, \"type\": \"bar\"}], \"barpolar\": [{\"marker\": {\"line\": {\"color\": \"rgb(17,17,17)\", \"width\": 0.5}}, \"type\": \"barpolar\"}], \"carpet\": [{\"aaxis\": {\"endlinecolor\": \"#A2B1C6\", \"gridcolor\": \"#506784\", \"linecolor\": \"#506784\", \"minorgridcolor\": \"#506784\", \"startlinecolor\": \"#A2B1C6\"}, \"baxis\": {\"endlinecolor\": \"#A2B1C6\", \"gridcolor\": \"#506784\", \"linecolor\": \"#506784\", \"minorgridcolor\": \"#506784\", \"startlinecolor\": \"#A2B1C6\"}, \"type\": \"carpet\"}], \"choropleth\": [{\"colorbar\": {\"outlinewidth\": 0, \"ticks\": \"\"}, \"type\": \"choropleth\"}], \"contour\": [{\"colorbar\": {\"outlinewidth\": 0, \"ticks\": \"\"}, \"colorscale\": [[0.0, \"#0d0887\"], [0.1111111111111111, \"#46039f\"], [0.2222222222222222, \"#7201a8\"], [0.3333333333333333, \"#9c179e\"], [0.4444444444444444, \"#bd3786\"], [0.5555555555555556, \"#d8576b\"], [0.6666666666666666, \"#ed7953\"], [0.7777777777777778, \"#fb9f3a\"], [0.8888888888888888, \"#fdca26\"], [1.0, \"#f0f921\"]], \"type\": \"contour\"}], \"contourcarpet\": [{\"colorbar\": {\"outlinewidth\": 0, \"ticks\": \"\"}, \"type\": \"contourcarpet\"}], \"heatmap\": [{\"colorbar\": {\"outlinewidth\": 0, \"ticks\": \"\"}, \"colorscale\": [[0.0, \"#0d0887\"], [0.1111111111111111, \"#46039f\"], [0.2222222222222222, \"#7201a8\"], [0.3333333333333333, \"#9c179e\"], [0.4444444444444444, \"#bd3786\"], [0.5555555555555556, \"#d8576b\"], [0.6666666666666666, \"#ed7953\"], [0.7777777777777778, \"#fb9f3a\"], [0.8888888888888888, \"#fdca26\"], [1.0, \"#f0f921\"]], \"type\": \"heatmap\"}], \"heatmapgl\": [{\"colorbar\": {\"outlinewidth\": 0, \"ticks\": \"\"}, \"colorscale\": [[0.0, \"#0d0887\"], [0.1111111111111111, \"#46039f\"], [0.2222222222222222, \"#7201a8\"], [0.3333333333333333, \"#9c179e\"], [0.4444444444444444, \"#bd3786\"], [0.5555555555555556, \"#d8576b\"], [0.6666666666666666, \"#ed7953\"], [0.7777777777777778, \"#fb9f3a\"], [0.8888888888888888, \"#fdca26\"], [1.0, \"#f0f921\"]], \"type\": \"heatmapgl\"}], \"histogram\": [{\"marker\": {\"colorbar\": {\"outlinewidth\": 0, \"ticks\": \"\"}}, \"type\": \"histogram\"}], \"histogram2d\": [{\"colorbar\": {\"outlinewidth\": 0, \"ticks\": \"\"}, \"colorscale\": [[0.0, \"#0d0887\"], [0.1111111111111111, \"#46039f\"], [0.2222222222222222, \"#7201a8\"], [0.3333333333333333, \"#9c179e\"], [0.4444444444444444, \"#bd3786\"], [0.5555555555555556, \"#d8576b\"], [0.6666666666666666, \"#ed7953\"], [0.7777777777777778, \"#fb9f3a\"], [0.8888888888888888, \"#fdca26\"], [1.0, \"#f0f921\"]], \"type\": \"histogram2d\"}], \"histogram2dcontour\": [{\"colorbar\": {\"outlinewidth\": 0, \"ticks\": \"\"}, \"colorscale\": [[0.0, \"#0d0887\"], [0.1111111111111111, \"#46039f\"], [0.2222222222222222, \"#7201a8\"], [0.3333333333333333, \"#9c179e\"], [0.4444444444444444, \"#bd3786\"], [0.5555555555555556, \"#d8576b\"], [0.6666666666666666, \"#ed7953\"], [0.7777777777777778, \"#fb9f3a\"], [0.8888888888888888, \"#fdca26\"], [1.0, \"#f0f921\"]], \"type\": \"histogram2dcontour\"}], \"mesh3d\": [{\"colorbar\": {\"outlinewidth\": 0, \"ticks\": \"\"}, \"type\": \"mesh3d\"}], \"parcoords\": [{\"line\": {\"colorbar\": {\"outlinewidth\": 0, \"ticks\": \"\"}}, \"type\": \"parcoords\"}], \"pie\": [{\"automargin\": true, \"type\": \"pie\"}], \"scatter\": [{\"marker\": {\"line\": {\"color\": \"#283442\"}}, \"type\": \"scatter\"}], \"scatter3d\": [{\"line\": {\"colorbar\": {\"outlinewidth\": 0, \"ticks\": \"\"}}, \"marker\": {\"colorbar\": {\"outlinewidth\": 0, \"ticks\": \"\"}}, \"type\": \"scatter3d\"}], \"scattercarpet\": [{\"marker\": {\"colorbar\": {\"outlinewidth\": 0, \"ticks\": \"\"}}, \"type\": \"scattercarpet\"}], \"scattergeo\": [{\"marker\": {\"colorbar\": {\"outlinewidth\": 0, \"ticks\": \"\"}}, \"type\": \"scattergeo\"}], \"scattergl\": [{\"marker\": {\"line\": {\"color\": \"#283442\"}}, \"type\": \"scattergl\"}], \"scattermapbox\": [{\"marker\": {\"colorbar\": {\"outlinewidth\": 0, \"ticks\": \"\"}}, \"type\": \"scattermapbox\"}], \"scatterpolar\": [{\"marker\": {\"colorbar\": {\"outlinewidth\": 0, \"ticks\": \"\"}}, \"type\": \"scatterpolar\"}], \"scatterpolargl\": [{\"marker\": {\"colorbar\": {\"outlinewidth\": 0, \"ticks\": \"\"}}, \"type\": \"scatterpolargl\"}], \"scatterternary\": [{\"marker\": {\"colorbar\": {\"outlinewidth\": 0, \"ticks\": \"\"}}, \"type\": \"scatterternary\"}], \"surface\": [{\"colorbar\": {\"outlinewidth\": 0, \"ticks\": \"\"}, \"colorscale\": [[0.0, \"#0d0887\"], [0.1111111111111111, \"#46039f\"], [0.2222222222222222, \"#7201a8\"], [0.3333333333333333, \"#9c179e\"], [0.4444444444444444, \"#bd3786\"], [0.5555555555555556, \"#d8576b\"], [0.6666666666666666, \"#ed7953\"], [0.7777777777777778, \"#fb9f3a\"], [0.8888888888888888, \"#fdca26\"], [1.0, \"#f0f921\"]], \"type\": \"surface\"}], \"table\": [{\"cells\": {\"fill\": {\"color\": \"#506784\"}, \"line\": {\"color\": \"rgb(17,17,17)\"}}, \"header\": {\"fill\": {\"color\": \"#2a3f5f\"}, \"line\": {\"color\": \"rgb(17,17,17)\"}}, \"type\": \"table\"}]}, \"layout\": {\"annotationdefaults\": {\"arrowcolor\": \"#f2f5fa\", \"arrowhead\": 0, \"arrowwidth\": 1}, \"coloraxis\": {\"colorbar\": {\"outlinewidth\": 0, \"ticks\": \"\"}}, \"colorscale\": {\"diverging\": [[0, \"#8e0152\"], [0.1, \"#c51b7d\"], [0.2, \"#de77ae\"], [0.3, \"#f1b6da\"], [0.4, \"#fde0ef\"], [0.5, \"#f7f7f7\"], [0.6, \"#e6f5d0\"], [0.7, \"#b8e186\"], [0.8, \"#7fbc41\"], [0.9, \"#4d9221\"], [1, \"#276419\"]], \"sequential\": [[0.0, \"#0d0887\"], [0.1111111111111111, \"#46039f\"], [0.2222222222222222, \"#7201a8\"], [0.3333333333333333, \"#9c179e\"], [0.4444444444444444, \"#bd3786\"], [0.5555555555555556, \"#d8576b\"], [0.6666666666666666, \"#ed7953\"], [0.7777777777777778, \"#fb9f3a\"], [0.8888888888888888, \"#fdca26\"], [1.0, \"#f0f921\"]], \"sequentialminus\": [[0.0, \"#0d0887\"], [0.1111111111111111, \"#46039f\"], [0.2222222222222222, \"#7201a8\"], [0.3333333333333333, \"#9c179e\"], [0.4444444444444444, \"#bd3786\"], [0.5555555555555556, \"#d8576b\"], [0.6666666666666666, \"#ed7953\"], [0.7777777777777778, \"#fb9f3a\"], [0.8888888888888888, \"#fdca26\"], [1.0, \"#f0f921\"]]}, \"colorway\": [\"#636efa\", \"#EF553B\", \"#00cc96\", \"#ab63fa\", \"#FFA15A\", \"#19d3f3\", \"#FF6692\", \"#B6E880\", \"#FF97FF\", \"#FECB52\"], \"font\": {\"color\": \"#f2f5fa\"}, \"geo\": {\"bgcolor\": \"rgb(17,17,17)\", \"lakecolor\": \"rgb(17,17,17)\", \"landcolor\": \"rgb(17,17,17)\", \"showlakes\": true, \"showland\": true, \"subunitcolor\": \"#506784\"}, \"hoverlabel\": {\"align\": \"left\"}, \"hovermode\": \"closest\", \"mapbox\": {\"style\": \"dark\"}, \"paper_bgcolor\": \"rgb(17,17,17)\", \"plot_bgcolor\": \"rgb(17,17,17)\", \"polar\": {\"angularaxis\": {\"gridcolor\": \"#506784\", \"linecolor\": \"#506784\", \"ticks\": \"\"}, \"bgcolor\": \"rgb(17,17,17)\", \"radialaxis\": {\"gridcolor\": \"#506784\", \"linecolor\": \"#506784\", \"ticks\": \"\"}}, \"scene\": {\"xaxis\": {\"backgroundcolor\": \"rgb(17,17,17)\", \"gridcolor\": \"#506784\", \"gridwidth\": 2, \"linecolor\": \"#506784\", \"showbackground\": true, \"ticks\": \"\", \"zerolinecolor\": \"#C8D4E3\"}, \"yaxis\": {\"backgroundcolor\": \"rgb(17,17,17)\", \"gridcolor\": \"#506784\", \"gridwidth\": 2, \"linecolor\": \"#506784\", \"showbackground\": true, \"ticks\": \"\", \"zerolinecolor\": \"#C8D4E3\"}, \"zaxis\": {\"backgroundcolor\": \"rgb(17,17,17)\", \"gridcolor\": \"#506784\", \"gridwidth\": 2, \"linecolor\": \"#506784\", \"showbackground\": true, \"ticks\": \"\", \"zerolinecolor\": \"#C8D4E3\"}}, \"shapedefaults\": {\"line\": {\"color\": \"#f2f5fa\"}}, \"sliderdefaults\": {\"bgcolor\": \"#C8D4E3\", \"bordercolor\": \"rgb(17,17,17)\", \"borderwidth\": 1, \"tickwidth\": 0}, \"ternary\": {\"aaxis\": {\"gridcolor\": \"#506784\", \"linecolor\": \"#506784\", \"ticks\": \"\"}, \"baxis\": {\"gridcolor\": \"#506784\", \"linecolor\": \"#506784\", \"ticks\": \"\"}, \"bgcolor\": \"rgb(17,17,17)\", \"caxis\": {\"gridcolor\": \"#506784\", \"linecolor\": \"#506784\", \"ticks\": \"\"}}, \"title\": {\"x\": 0.05}, \"updatemenudefaults\": {\"bgcolor\": \"#506784\", \"borderwidth\": 0}, \"xaxis\": {\"automargin\": true, \"gridcolor\": \"#283442\", \"linecolor\": \"#506784\", \"ticks\": \"\", \"title\": {\"standoff\": 15}, \"zerolinecolor\": \"#283442\", \"zerolinewidth\": 2}, \"yaxis\": {\"automargin\": true, \"gridcolor\": \"#283442\", \"linecolor\": \"#506784\", \"ticks\": \"\", \"title\": {\"standoff\": 15}, \"zerolinecolor\": \"#283442\", \"zerolinewidth\": 2}}}, \"title\": {\"font\": {\"size\": 24}, \"text\": \"Community Cases by Age as of October 20, 2020\"}, \"xaxis\": {\"anchor\": \"y\", \"domain\": [0.0, 1.0], \"title\": {\"text\": \"Age Group\"}}, \"yaxis\": {\"anchor\": \"x\", \"categoryarray\": [\"70+\", \"50 \\u2013 69\", \"30 \\u2013 49\", \"18 \\u2013 29\", \"0 \\u2013 17\"], \"categoryorder\": \"array\", \"domain\": [0.0, 1.0], \"title\": {}}},                        {\"responsive\": true}                    ).then(function(){\n",
              "                            \n",
              "var gd = document.getElementById('3fe8ea0f-1961-45c5-9b54-e4f96468cdaf');\n",
              "var x = new MutationObserver(function (mutations, observer) {{\n",
              "        var display = window.getComputedStyle(gd).display;\n",
              "        if (!display || display === 'none') {{\n",
              "            console.log([gd, 'removed!']);\n",
              "            Plotly.purge(gd);\n",
              "            observer.disconnect();\n",
              "        }}\n",
              "}});\n",
              "\n",
              "// Listen for the removal of the full notebook cells\n",
              "var notebookContainer = gd.closest('#notebook-container');\n",
              "if (notebookContainer) {{\n",
              "    x.observe(notebookContainer, {childList: true});\n",
              "}}\n",
              "\n",
              "// Listen for the clearing of the current output cell\n",
              "var outputEl = gd.closest('.output');\n",
              "if (outputEl) {{\n",
              "    x.observe(outputEl, {childList: true});\n",
              "}}\n",
              "\n",
              "                        })                };                            </script>        </div>\n",
              "</body>\n",
              "</html>"
            ]
          },
          "metadata": {
            "tags": []
          }
        }
      ]
    },
    {
      "cell_type": "code",
      "metadata": {
        "id": "kdR5scHPOaqx",
        "colab": {
          "base_uri": "https://localhost:8080/",
          "height": 542
        },
        "outputId": "52279373-b24f-4bd0-fc88-e6a12db16d75"
      },
      "source": [
        "create_age_barplot('October 20, 2020','Lompoc Federal Prison')"
      ],
      "execution_count": null,
      "outputs": [
        {
          "output_type": "display_data",
          "data": {
            "text/html": [
              "<html>\n",
              "<head><meta charset=\"utf-8\" /></head>\n",
              "<body>\n",
              "    <div>            <script src=\"https://cdnjs.cloudflare.com/ajax/libs/mathjax/2.7.5/MathJax.js?config=TeX-AMS-MML_SVG\"></script><script type=\"text/javascript\">if (window.MathJax) {MathJax.Hub.Config({SVG: {font: \"STIX-Web\"}});}</script>                <script type=\"text/javascript\">window.PlotlyConfig = {MathJaxConfig: 'local'};</script>\n",
              "        <script src=\"https://cdn.plot.ly/plotly-latest.min.js\"></script>                <div id=\"4e073d29-1f00-46c8-9239-0fb1bbbbd7db\" class=\"plotly-graph-div\" style=\"height:525px; width:100%;\"></div>            <script type=\"text/javascript\">                                    window.PLOTLYENV=window.PLOTLYENV || {};                                    if (document.getElementById(\"4e073d29-1f00-46c8-9239-0fb1bbbbd7db\")) {                    Plotly.newPlot(                        \"4e073d29-1f00-46c8-9239-0fb1bbbbd7db\",                        [{\"alignmentgroup\": \"True\", \"hovertemplate\": \"Age=%{y}<br>Lompoc Federal Prison=%{x}<extra></extra>\", \"legendgroup\": \"0 \\u2013 17\", \"marker\": {\"color\": \"#4b4c4f\"}, \"name\": \"0 \\u2013 17\", \"offsetgroup\": \"0 \\u2013 17\", \"orientation\": \"h\", \"showlegend\": true, \"textposition\": \"auto\", \"type\": \"bar\", \"x\": [0.0], \"xaxis\": \"x\", \"y\": [\"0 \\u2013 17\"], \"yaxis\": \"y\"}, {\"alignmentgroup\": \"True\", \"hovertemplate\": \"Age=%{y}<br>Lompoc Federal Prison=%{x}<extra></extra>\", \"legendgroup\": \"18 \\u2013 29\", \"marker\": {\"color\": \"#4b4c4f\"}, \"name\": \"18 \\u2013 29\", \"offsetgroup\": \"18 \\u2013 29\", \"orientation\": \"h\", \"showlegend\": true, \"textposition\": \"auto\", \"type\": \"bar\", \"x\": [138.0], \"xaxis\": \"x\", \"y\": [\"18 \\u2013 29\"], \"yaxis\": \"y\"}, {\"alignmentgroup\": \"True\", \"hovertemplate\": \"Age=%{y}<br>Lompoc Federal Prison=%{x}<extra></extra>\", \"legendgroup\": \"30 \\u2013 49\", \"marker\": {\"color\": \"#ed2009\"}, \"name\": \"30 \\u2013 49\", \"offsetgroup\": \"30 \\u2013 49\", \"orientation\": \"h\", \"showlegend\": true, \"textposition\": \"auto\", \"type\": \"bar\", \"x\": [544.0], \"xaxis\": \"x\", \"y\": [\"30 \\u2013 49\"], \"yaxis\": \"y\"}, {\"alignmentgroup\": \"True\", \"hovertemplate\": \"Age=%{y}<br>Lompoc Federal Prison=%{x}<extra></extra>\", \"legendgroup\": \"50 \\u2013 69\", \"marker\": {\"color\": \"#4b4c4f\"}, \"name\": \"50 \\u2013 69\", \"offsetgroup\": \"50 \\u2013 69\", \"orientation\": \"h\", \"showlegend\": true, \"textposition\": \"auto\", \"type\": \"bar\", \"x\": [311.0], \"xaxis\": \"x\", \"y\": [\"50 \\u2013 69\"], \"yaxis\": \"y\"}, {\"alignmentgroup\": \"True\", \"hovertemplate\": \"Age=%{y}<br>Lompoc Federal Prison=%{x}<extra></extra>\", \"legendgroup\": \"70+\", \"marker\": {\"color\": \"#4b4c4f\"}, \"name\": \"70+\", \"offsetgroup\": \"70+\", \"orientation\": \"h\", \"showlegend\": true, \"textposition\": \"auto\", \"type\": \"bar\", \"x\": [33.0], \"xaxis\": \"x\", \"y\": [\"70+\"], \"yaxis\": \"y\"}],                        {\"barmode\": \"relative\", \"font\": {\"color\": \"white\", \"family\": \"Courier\"}, \"hovermode\": \"closest\", \"legend\": {\"title\": {\"text\": \"Age\"}, \"tracegroupgap\": 0}, \"showlegend\": false, \"template\": {\"data\": {\"bar\": [{\"error_x\": {\"color\": \"#f2f5fa\"}, \"error_y\": {\"color\": \"#f2f5fa\"}, \"marker\": {\"line\": {\"color\": \"rgb(17,17,17)\", \"width\": 0.5}}, \"type\": \"bar\"}], \"barpolar\": [{\"marker\": {\"line\": {\"color\": \"rgb(17,17,17)\", \"width\": 0.5}}, \"type\": \"barpolar\"}], \"carpet\": [{\"aaxis\": {\"endlinecolor\": \"#A2B1C6\", \"gridcolor\": \"#506784\", \"linecolor\": \"#506784\", \"minorgridcolor\": \"#506784\", \"startlinecolor\": \"#A2B1C6\"}, \"baxis\": {\"endlinecolor\": \"#A2B1C6\", \"gridcolor\": \"#506784\", \"linecolor\": \"#506784\", \"minorgridcolor\": \"#506784\", \"startlinecolor\": \"#A2B1C6\"}, \"type\": \"carpet\"}], \"choropleth\": [{\"colorbar\": {\"outlinewidth\": 0, \"ticks\": \"\"}, \"type\": \"choropleth\"}], \"contour\": [{\"colorbar\": {\"outlinewidth\": 0, \"ticks\": \"\"}, \"colorscale\": [[0.0, \"#0d0887\"], [0.1111111111111111, \"#46039f\"], [0.2222222222222222, \"#7201a8\"], [0.3333333333333333, \"#9c179e\"], [0.4444444444444444, \"#bd3786\"], [0.5555555555555556, \"#d8576b\"], [0.6666666666666666, \"#ed7953\"], [0.7777777777777778, \"#fb9f3a\"], [0.8888888888888888, \"#fdca26\"], [1.0, \"#f0f921\"]], \"type\": \"contour\"}], \"contourcarpet\": [{\"colorbar\": {\"outlinewidth\": 0, \"ticks\": \"\"}, \"type\": \"contourcarpet\"}], \"heatmap\": [{\"colorbar\": {\"outlinewidth\": 0, \"ticks\": \"\"}, \"colorscale\": [[0.0, \"#0d0887\"], [0.1111111111111111, \"#46039f\"], [0.2222222222222222, \"#7201a8\"], [0.3333333333333333, \"#9c179e\"], [0.4444444444444444, \"#bd3786\"], [0.5555555555555556, \"#d8576b\"], [0.6666666666666666, \"#ed7953\"], [0.7777777777777778, \"#fb9f3a\"], [0.8888888888888888, \"#fdca26\"], [1.0, \"#f0f921\"]], \"type\": \"heatmap\"}], \"heatmapgl\": [{\"colorbar\": {\"outlinewidth\": 0, \"ticks\": \"\"}, \"colorscale\": [[0.0, \"#0d0887\"], [0.1111111111111111, \"#46039f\"], [0.2222222222222222, \"#7201a8\"], [0.3333333333333333, \"#9c179e\"], [0.4444444444444444, \"#bd3786\"], [0.5555555555555556, \"#d8576b\"], [0.6666666666666666, \"#ed7953\"], [0.7777777777777778, \"#fb9f3a\"], [0.8888888888888888, \"#fdca26\"], [1.0, \"#f0f921\"]], \"type\": \"heatmapgl\"}], \"histogram\": [{\"marker\": {\"colorbar\": {\"outlinewidth\": 0, \"ticks\": \"\"}}, \"type\": \"histogram\"}], \"histogram2d\": [{\"colorbar\": {\"outlinewidth\": 0, \"ticks\": \"\"}, \"colorscale\": [[0.0, \"#0d0887\"], [0.1111111111111111, \"#46039f\"], [0.2222222222222222, \"#7201a8\"], [0.3333333333333333, \"#9c179e\"], [0.4444444444444444, \"#bd3786\"], [0.5555555555555556, \"#d8576b\"], [0.6666666666666666, \"#ed7953\"], [0.7777777777777778, \"#fb9f3a\"], [0.8888888888888888, \"#fdca26\"], [1.0, \"#f0f921\"]], \"type\": \"histogram2d\"}], \"histogram2dcontour\": [{\"colorbar\": {\"outlinewidth\": 0, \"ticks\": \"\"}, \"colorscale\": [[0.0, \"#0d0887\"], [0.1111111111111111, \"#46039f\"], [0.2222222222222222, \"#7201a8\"], [0.3333333333333333, \"#9c179e\"], [0.4444444444444444, \"#bd3786\"], [0.5555555555555556, \"#d8576b\"], [0.6666666666666666, \"#ed7953\"], [0.7777777777777778, \"#fb9f3a\"], [0.8888888888888888, \"#fdca26\"], [1.0, \"#f0f921\"]], \"type\": \"histogram2dcontour\"}], \"mesh3d\": [{\"colorbar\": {\"outlinewidth\": 0, \"ticks\": \"\"}, \"type\": \"mesh3d\"}], \"parcoords\": [{\"line\": {\"colorbar\": {\"outlinewidth\": 0, \"ticks\": \"\"}}, \"type\": \"parcoords\"}], \"pie\": [{\"automargin\": true, \"type\": \"pie\"}], \"scatter\": [{\"marker\": {\"line\": {\"color\": \"#283442\"}}, \"type\": \"scatter\"}], \"scatter3d\": [{\"line\": {\"colorbar\": {\"outlinewidth\": 0, \"ticks\": \"\"}}, \"marker\": {\"colorbar\": {\"outlinewidth\": 0, \"ticks\": \"\"}}, \"type\": \"scatter3d\"}], \"scattercarpet\": [{\"marker\": {\"colorbar\": {\"outlinewidth\": 0, \"ticks\": \"\"}}, \"type\": \"scattercarpet\"}], \"scattergeo\": [{\"marker\": {\"colorbar\": {\"outlinewidth\": 0, \"ticks\": \"\"}}, \"type\": \"scattergeo\"}], \"scattergl\": [{\"marker\": {\"line\": {\"color\": \"#283442\"}}, \"type\": \"scattergl\"}], \"scattermapbox\": [{\"marker\": {\"colorbar\": {\"outlinewidth\": 0, \"ticks\": \"\"}}, \"type\": \"scattermapbox\"}], \"scatterpolar\": [{\"marker\": {\"colorbar\": {\"outlinewidth\": 0, \"ticks\": \"\"}}, \"type\": \"scatterpolar\"}], \"scatterpolargl\": [{\"marker\": {\"colorbar\": {\"outlinewidth\": 0, \"ticks\": \"\"}}, \"type\": \"scatterpolargl\"}], \"scatterternary\": [{\"marker\": {\"colorbar\": {\"outlinewidth\": 0, \"ticks\": \"\"}}, \"type\": \"scatterternary\"}], \"surface\": [{\"colorbar\": {\"outlinewidth\": 0, \"ticks\": \"\"}, \"colorscale\": [[0.0, \"#0d0887\"], [0.1111111111111111, \"#46039f\"], [0.2222222222222222, \"#7201a8\"], [0.3333333333333333, \"#9c179e\"], [0.4444444444444444, \"#bd3786\"], [0.5555555555555556, \"#d8576b\"], [0.6666666666666666, \"#ed7953\"], [0.7777777777777778, \"#fb9f3a\"], [0.8888888888888888, \"#fdca26\"], [1.0, \"#f0f921\"]], \"type\": \"surface\"}], \"table\": [{\"cells\": {\"fill\": {\"color\": \"#506784\"}, \"line\": {\"color\": \"rgb(17,17,17)\"}}, \"header\": {\"fill\": {\"color\": \"#2a3f5f\"}, \"line\": {\"color\": \"rgb(17,17,17)\"}}, \"type\": \"table\"}]}, \"layout\": {\"annotationdefaults\": {\"arrowcolor\": \"#f2f5fa\", \"arrowhead\": 0, \"arrowwidth\": 1}, \"coloraxis\": {\"colorbar\": {\"outlinewidth\": 0, \"ticks\": \"\"}}, \"colorscale\": {\"diverging\": [[0, \"#8e0152\"], [0.1, \"#c51b7d\"], [0.2, \"#de77ae\"], [0.3, \"#f1b6da\"], [0.4, \"#fde0ef\"], [0.5, \"#f7f7f7\"], [0.6, \"#e6f5d0\"], [0.7, \"#b8e186\"], [0.8, \"#7fbc41\"], [0.9, \"#4d9221\"], [1, \"#276419\"]], \"sequential\": [[0.0, \"#0d0887\"], [0.1111111111111111, \"#46039f\"], [0.2222222222222222, \"#7201a8\"], [0.3333333333333333, \"#9c179e\"], [0.4444444444444444, \"#bd3786\"], [0.5555555555555556, \"#d8576b\"], [0.6666666666666666, \"#ed7953\"], [0.7777777777777778, \"#fb9f3a\"], [0.8888888888888888, \"#fdca26\"], [1.0, \"#f0f921\"]], \"sequentialminus\": [[0.0, \"#0d0887\"], [0.1111111111111111, \"#46039f\"], [0.2222222222222222, \"#7201a8\"], [0.3333333333333333, \"#9c179e\"], [0.4444444444444444, \"#bd3786\"], [0.5555555555555556, \"#d8576b\"], [0.6666666666666666, \"#ed7953\"], [0.7777777777777778, \"#fb9f3a\"], [0.8888888888888888, \"#fdca26\"], [1.0, \"#f0f921\"]]}, \"colorway\": [\"#636efa\", \"#EF553B\", \"#00cc96\", \"#ab63fa\", \"#FFA15A\", \"#19d3f3\", \"#FF6692\", \"#B6E880\", \"#FF97FF\", \"#FECB52\"], \"font\": {\"color\": \"#f2f5fa\"}, \"geo\": {\"bgcolor\": \"rgb(17,17,17)\", \"lakecolor\": \"rgb(17,17,17)\", \"landcolor\": \"rgb(17,17,17)\", \"showlakes\": true, \"showland\": true, \"subunitcolor\": \"#506784\"}, \"hoverlabel\": {\"align\": \"left\"}, \"hovermode\": \"closest\", \"mapbox\": {\"style\": \"dark\"}, \"paper_bgcolor\": \"rgb(17,17,17)\", \"plot_bgcolor\": \"rgb(17,17,17)\", \"polar\": {\"angularaxis\": {\"gridcolor\": \"#506784\", \"linecolor\": \"#506784\", \"ticks\": \"\"}, \"bgcolor\": \"rgb(17,17,17)\", \"radialaxis\": {\"gridcolor\": \"#506784\", \"linecolor\": \"#506784\", \"ticks\": \"\"}}, \"scene\": {\"xaxis\": {\"backgroundcolor\": \"rgb(17,17,17)\", \"gridcolor\": \"#506784\", \"gridwidth\": 2, \"linecolor\": \"#506784\", \"showbackground\": true, \"ticks\": \"\", \"zerolinecolor\": \"#C8D4E3\"}, \"yaxis\": {\"backgroundcolor\": \"rgb(17,17,17)\", \"gridcolor\": \"#506784\", \"gridwidth\": 2, \"linecolor\": \"#506784\", \"showbackground\": true, \"ticks\": \"\", \"zerolinecolor\": \"#C8D4E3\"}, \"zaxis\": {\"backgroundcolor\": \"rgb(17,17,17)\", \"gridcolor\": \"#506784\", \"gridwidth\": 2, \"linecolor\": \"#506784\", \"showbackground\": true, \"ticks\": \"\", \"zerolinecolor\": \"#C8D4E3\"}}, \"shapedefaults\": {\"line\": {\"color\": \"#f2f5fa\"}}, \"sliderdefaults\": {\"bgcolor\": \"#C8D4E3\", \"bordercolor\": \"rgb(17,17,17)\", \"borderwidth\": 1, \"tickwidth\": 0}, \"ternary\": {\"aaxis\": {\"gridcolor\": \"#506784\", \"linecolor\": \"#506784\", \"ticks\": \"\"}, \"baxis\": {\"gridcolor\": \"#506784\", \"linecolor\": \"#506784\", \"ticks\": \"\"}, \"bgcolor\": \"rgb(17,17,17)\", \"caxis\": {\"gridcolor\": \"#506784\", \"linecolor\": \"#506784\", \"ticks\": \"\"}}, \"title\": {\"x\": 0.05}, \"updatemenudefaults\": {\"bgcolor\": \"#506784\", \"borderwidth\": 0}, \"xaxis\": {\"automargin\": true, \"gridcolor\": \"#283442\", \"linecolor\": \"#506784\", \"ticks\": \"\", \"title\": {\"standoff\": 15}, \"zerolinecolor\": \"#283442\", \"zerolinewidth\": 2}, \"yaxis\": {\"automargin\": true, \"gridcolor\": \"#283442\", \"linecolor\": \"#506784\", \"ticks\": \"\", \"title\": {\"standoff\": 15}, \"zerolinecolor\": \"#283442\", \"zerolinewidth\": 2}}}, \"title\": {\"font\": {\"size\": 24}, \"text\": \"Lompoc Federal Prison Cases by Age as of October 20, 2020\"}, \"xaxis\": {\"anchor\": \"y\", \"domain\": [0.0, 1.0], \"title\": {\"text\": \"Age Group\"}}, \"yaxis\": {\"anchor\": \"x\", \"categoryarray\": [\"70+\", \"50 \\u2013 69\", \"30 \\u2013 49\", \"18 \\u2013 29\", \"0 \\u2013 17\"], \"categoryorder\": \"array\", \"domain\": [0.0, 1.0], \"title\": {}}},                        {\"responsive\": true}                    ).then(function(){\n",
              "                            \n",
              "var gd = document.getElementById('4e073d29-1f00-46c8-9239-0fb1bbbbd7db');\n",
              "var x = new MutationObserver(function (mutations, observer) {{\n",
              "        var display = window.getComputedStyle(gd).display;\n",
              "        if (!display || display === 'none') {{\n",
              "            console.log([gd, 'removed!']);\n",
              "            Plotly.purge(gd);\n",
              "            observer.disconnect();\n",
              "        }}\n",
              "}});\n",
              "\n",
              "// Listen for the removal of the full notebook cells\n",
              "var notebookContainer = gd.closest('#notebook-container');\n",
              "if (notebookContainer) {{\n",
              "    x.observe(notebookContainer, {childList: true});\n",
              "}}\n",
              "\n",
              "// Listen for the clearing of the current output cell\n",
              "var outputEl = gd.closest('.output');\n",
              "if (outputEl) {{\n",
              "    x.observe(outputEl, {childList: true});\n",
              "}}\n",
              "\n",
              "                        })                };                            </script>        </div>\n",
              "</body>\n",
              "</html>"
            ]
          },
          "metadata": {
            "tags": []
          }
        }
      ]
    },
    {
      "cell_type": "code",
      "metadata": {
        "id": "mQGOB7rtPbFK",
        "colab": {
          "base_uri": "https://localhost:8080/",
          "height": 542
        },
        "outputId": "f94a785e-6c39-48ff-be2c-0b70e57bdd29"
      },
      "source": [
        "create_age_barplot('November 25, 2020','Total')"
      ],
      "execution_count": null,
      "outputs": [
        {
          "output_type": "display_data",
          "data": {
            "text/html": [
              "<html>\n",
              "<head><meta charset=\"utf-8\" /></head>\n",
              "<body>\n",
              "    <div>            <script src=\"https://cdnjs.cloudflare.com/ajax/libs/mathjax/2.7.5/MathJax.js?config=TeX-AMS-MML_SVG\"></script><script type=\"text/javascript\">if (window.MathJax) {MathJax.Hub.Config({SVG: {font: \"STIX-Web\"}});}</script>                <script type=\"text/javascript\">window.PlotlyConfig = {MathJaxConfig: 'local'};</script>\n",
              "        <script src=\"https://cdn.plot.ly/plotly-latest.min.js\"></script>                <div id=\"606a9a94-5b96-4418-8251-5caa4a8e69eb\" class=\"plotly-graph-div\" style=\"height:525px; width:100%;\"></div>            <script type=\"text/javascript\">                                    window.PLOTLYENV=window.PLOTLYENV || {};                                    if (document.getElementById(\"606a9a94-5b96-4418-8251-5caa4a8e69eb\")) {                    Plotly.newPlot(                        \"606a9a94-5b96-4418-8251-5caa4a8e69eb\",                        [{\"alignmentgroup\": \"True\", \"hovertemplate\": \"Age=%{y}<br>Total=%{x}<extra></extra>\", \"legendgroup\": \"0 \\u2013 17\", \"marker\": {\"color\": \"#4b4c4f\"}, \"name\": \"0 \\u2013 17\", \"offsetgroup\": \"0 \\u2013 17\", \"orientation\": \"h\", \"showlegend\": true, \"textposition\": \"auto\", \"type\": \"bar\", \"x\": [950.0], \"xaxis\": \"x\", \"y\": [\"0 \\u2013 17\"], \"yaxis\": \"y\"}, {\"alignmentgroup\": \"True\", \"hovertemplate\": \"Age=%{y}<br>Total=%{x}<extra></extra>\", \"legendgroup\": \"18 \\u2013 29\", \"marker\": {\"color\": \"#4b4c4f\"}, \"name\": \"18 \\u2013 29\", \"offsetgroup\": \"18 \\u2013 29\", \"orientation\": \"h\", \"showlegend\": true, \"textposition\": \"auto\", \"type\": \"bar\", \"x\": [3473.0], \"xaxis\": \"x\", \"y\": [\"18 \\u2013 29\"], \"yaxis\": \"y\"}, {\"alignmentgroup\": \"True\", \"hovertemplate\": \"Age=%{y}<br>Total=%{x}<extra></extra>\", \"legendgroup\": \"30 \\u2013 49\", \"marker\": {\"color\": \"#ed2009\"}, \"name\": \"30 \\u2013 49\", \"offsetgroup\": \"30 \\u2013 49\", \"orientation\": \"h\", \"showlegend\": true, \"textposition\": \"auto\", \"type\": \"bar\", \"x\": [3931.0], \"xaxis\": \"x\", \"y\": [\"30 \\u2013 49\"], \"yaxis\": \"y\"}, {\"alignmentgroup\": \"True\", \"hovertemplate\": \"Age=%{y}<br>Total=%{x}<extra></extra>\", \"legendgroup\": \"50 \\u2013 69\", \"marker\": {\"color\": \"#4b4c4f\"}, \"name\": \"50 \\u2013 69\", \"offsetgroup\": \"50 \\u2013 69\", \"orientation\": \"h\", \"showlegend\": true, \"textposition\": \"auto\", \"type\": \"bar\", \"x\": [2220.0], \"xaxis\": \"x\", \"y\": [\"50 \\u2013 69\"], \"yaxis\": \"y\"}, {\"alignmentgroup\": \"True\", \"hovertemplate\": \"Age=%{y}<br>Total=%{x}<extra></extra>\", \"legendgroup\": \"70+\", \"marker\": {\"color\": \"#4b4c4f\"}, \"name\": \"70+\", \"offsetgroup\": \"70+\", \"orientation\": \"h\", \"showlegend\": true, \"textposition\": \"auto\", \"type\": \"bar\", \"x\": [630.0], \"xaxis\": \"x\", \"y\": [\"70+\"], \"yaxis\": \"y\"}],                        {\"barmode\": \"relative\", \"font\": {\"color\": \"white\", \"family\": \"Courier\"}, \"hovermode\": \"closest\", \"legend\": {\"title\": {\"text\": \"Age\"}, \"tracegroupgap\": 0}, \"showlegend\": false, \"template\": {\"data\": {\"bar\": [{\"error_x\": {\"color\": \"#f2f5fa\"}, \"error_y\": {\"color\": \"#f2f5fa\"}, \"marker\": {\"line\": {\"color\": \"rgb(17,17,17)\", \"width\": 0.5}}, \"type\": \"bar\"}], \"barpolar\": [{\"marker\": {\"line\": {\"color\": \"rgb(17,17,17)\", \"width\": 0.5}}, \"type\": \"barpolar\"}], \"carpet\": [{\"aaxis\": {\"endlinecolor\": \"#A2B1C6\", \"gridcolor\": \"#506784\", \"linecolor\": \"#506784\", \"minorgridcolor\": \"#506784\", \"startlinecolor\": \"#A2B1C6\"}, \"baxis\": {\"endlinecolor\": \"#A2B1C6\", \"gridcolor\": \"#506784\", \"linecolor\": \"#506784\", \"minorgridcolor\": \"#506784\", \"startlinecolor\": \"#A2B1C6\"}, \"type\": \"carpet\"}], \"choropleth\": [{\"colorbar\": {\"outlinewidth\": 0, \"ticks\": \"\"}, \"type\": \"choropleth\"}], \"contour\": [{\"colorbar\": {\"outlinewidth\": 0, \"ticks\": \"\"}, \"colorscale\": [[0.0, \"#0d0887\"], [0.1111111111111111, \"#46039f\"], [0.2222222222222222, \"#7201a8\"], [0.3333333333333333, \"#9c179e\"], [0.4444444444444444, \"#bd3786\"], [0.5555555555555556, \"#d8576b\"], [0.6666666666666666, \"#ed7953\"], [0.7777777777777778, \"#fb9f3a\"], [0.8888888888888888, \"#fdca26\"], [1.0, \"#f0f921\"]], \"type\": \"contour\"}], \"contourcarpet\": [{\"colorbar\": {\"outlinewidth\": 0, \"ticks\": \"\"}, \"type\": \"contourcarpet\"}], \"heatmap\": [{\"colorbar\": {\"outlinewidth\": 0, \"ticks\": \"\"}, \"colorscale\": [[0.0, \"#0d0887\"], [0.1111111111111111, \"#46039f\"], [0.2222222222222222, \"#7201a8\"], [0.3333333333333333, \"#9c179e\"], [0.4444444444444444, \"#bd3786\"], [0.5555555555555556, \"#d8576b\"], [0.6666666666666666, \"#ed7953\"], [0.7777777777777778, \"#fb9f3a\"], [0.8888888888888888, \"#fdca26\"], [1.0, \"#f0f921\"]], \"type\": \"heatmap\"}], \"heatmapgl\": [{\"colorbar\": {\"outlinewidth\": 0, \"ticks\": \"\"}, \"colorscale\": [[0.0, \"#0d0887\"], [0.1111111111111111, \"#46039f\"], [0.2222222222222222, \"#7201a8\"], [0.3333333333333333, \"#9c179e\"], [0.4444444444444444, \"#bd3786\"], [0.5555555555555556, \"#d8576b\"], [0.6666666666666666, \"#ed7953\"], [0.7777777777777778, \"#fb9f3a\"], [0.8888888888888888, \"#fdca26\"], [1.0, \"#f0f921\"]], \"type\": \"heatmapgl\"}], \"histogram\": [{\"marker\": {\"colorbar\": {\"outlinewidth\": 0, \"ticks\": \"\"}}, \"type\": \"histogram\"}], \"histogram2d\": [{\"colorbar\": {\"outlinewidth\": 0, \"ticks\": \"\"}, \"colorscale\": [[0.0, \"#0d0887\"], [0.1111111111111111, \"#46039f\"], [0.2222222222222222, \"#7201a8\"], [0.3333333333333333, \"#9c179e\"], [0.4444444444444444, \"#bd3786\"], [0.5555555555555556, \"#d8576b\"], [0.6666666666666666, \"#ed7953\"], [0.7777777777777778, \"#fb9f3a\"], [0.8888888888888888, \"#fdca26\"], [1.0, \"#f0f921\"]], \"type\": \"histogram2d\"}], \"histogram2dcontour\": [{\"colorbar\": {\"outlinewidth\": 0, \"ticks\": \"\"}, \"colorscale\": [[0.0, \"#0d0887\"], [0.1111111111111111, \"#46039f\"], [0.2222222222222222, \"#7201a8\"], [0.3333333333333333, \"#9c179e\"], [0.4444444444444444, \"#bd3786\"], [0.5555555555555556, \"#d8576b\"], [0.6666666666666666, \"#ed7953\"], [0.7777777777777778, \"#fb9f3a\"], [0.8888888888888888, \"#fdca26\"], [1.0, \"#f0f921\"]], \"type\": \"histogram2dcontour\"}], \"mesh3d\": [{\"colorbar\": {\"outlinewidth\": 0, \"ticks\": \"\"}, \"type\": \"mesh3d\"}], \"parcoords\": [{\"line\": {\"colorbar\": {\"outlinewidth\": 0, \"ticks\": \"\"}}, \"type\": \"parcoords\"}], \"pie\": [{\"automargin\": true, \"type\": \"pie\"}], \"scatter\": [{\"marker\": {\"line\": {\"color\": \"#283442\"}}, \"type\": \"scatter\"}], \"scatter3d\": [{\"line\": {\"colorbar\": {\"outlinewidth\": 0, \"ticks\": \"\"}}, \"marker\": {\"colorbar\": {\"outlinewidth\": 0, \"ticks\": \"\"}}, \"type\": \"scatter3d\"}], \"scattercarpet\": [{\"marker\": {\"colorbar\": {\"outlinewidth\": 0, \"ticks\": \"\"}}, \"type\": \"scattercarpet\"}], \"scattergeo\": [{\"marker\": {\"colorbar\": {\"outlinewidth\": 0, \"ticks\": \"\"}}, \"type\": \"scattergeo\"}], \"scattergl\": [{\"marker\": {\"line\": {\"color\": \"#283442\"}}, \"type\": \"scattergl\"}], \"scattermapbox\": [{\"marker\": {\"colorbar\": {\"outlinewidth\": 0, \"ticks\": \"\"}}, \"type\": \"scattermapbox\"}], \"scatterpolar\": [{\"marker\": {\"colorbar\": {\"outlinewidth\": 0, \"ticks\": \"\"}}, \"type\": \"scatterpolar\"}], \"scatterpolargl\": [{\"marker\": {\"colorbar\": {\"outlinewidth\": 0, \"ticks\": \"\"}}, \"type\": \"scatterpolargl\"}], \"scatterternary\": [{\"marker\": {\"colorbar\": {\"outlinewidth\": 0, \"ticks\": \"\"}}, \"type\": \"scatterternary\"}], \"surface\": [{\"colorbar\": {\"outlinewidth\": 0, \"ticks\": \"\"}, \"colorscale\": [[0.0, \"#0d0887\"], [0.1111111111111111, \"#46039f\"], [0.2222222222222222, \"#7201a8\"], [0.3333333333333333, \"#9c179e\"], [0.4444444444444444, \"#bd3786\"], [0.5555555555555556, \"#d8576b\"], [0.6666666666666666, \"#ed7953\"], [0.7777777777777778, \"#fb9f3a\"], [0.8888888888888888, \"#fdca26\"], [1.0, \"#f0f921\"]], \"type\": \"surface\"}], \"table\": [{\"cells\": {\"fill\": {\"color\": \"#506784\"}, \"line\": {\"color\": \"rgb(17,17,17)\"}}, \"header\": {\"fill\": {\"color\": \"#2a3f5f\"}, \"line\": {\"color\": \"rgb(17,17,17)\"}}, \"type\": \"table\"}]}, \"layout\": {\"annotationdefaults\": {\"arrowcolor\": \"#f2f5fa\", \"arrowhead\": 0, \"arrowwidth\": 1}, \"coloraxis\": {\"colorbar\": {\"outlinewidth\": 0, \"ticks\": \"\"}}, \"colorscale\": {\"diverging\": [[0, \"#8e0152\"], [0.1, \"#c51b7d\"], [0.2, \"#de77ae\"], [0.3, \"#f1b6da\"], [0.4, \"#fde0ef\"], [0.5, \"#f7f7f7\"], [0.6, \"#e6f5d0\"], [0.7, \"#b8e186\"], [0.8, \"#7fbc41\"], [0.9, \"#4d9221\"], [1, \"#276419\"]], \"sequential\": [[0.0, \"#0d0887\"], [0.1111111111111111, \"#46039f\"], [0.2222222222222222, \"#7201a8\"], [0.3333333333333333, \"#9c179e\"], [0.4444444444444444, \"#bd3786\"], [0.5555555555555556, \"#d8576b\"], [0.6666666666666666, \"#ed7953\"], [0.7777777777777778, \"#fb9f3a\"], [0.8888888888888888, \"#fdca26\"], [1.0, \"#f0f921\"]], \"sequentialminus\": [[0.0, \"#0d0887\"], [0.1111111111111111, \"#46039f\"], [0.2222222222222222, \"#7201a8\"], [0.3333333333333333, \"#9c179e\"], [0.4444444444444444, \"#bd3786\"], [0.5555555555555556, \"#d8576b\"], [0.6666666666666666, \"#ed7953\"], [0.7777777777777778, \"#fb9f3a\"], [0.8888888888888888, \"#fdca26\"], [1.0, \"#f0f921\"]]}, \"colorway\": [\"#636efa\", \"#EF553B\", \"#00cc96\", \"#ab63fa\", \"#FFA15A\", \"#19d3f3\", \"#FF6692\", \"#B6E880\", \"#FF97FF\", \"#FECB52\"], \"font\": {\"color\": \"#f2f5fa\"}, \"geo\": {\"bgcolor\": \"rgb(17,17,17)\", \"lakecolor\": \"rgb(17,17,17)\", \"landcolor\": \"rgb(17,17,17)\", \"showlakes\": true, \"showland\": true, \"subunitcolor\": \"#506784\"}, \"hoverlabel\": {\"align\": \"left\"}, \"hovermode\": \"closest\", \"mapbox\": {\"style\": \"dark\"}, \"paper_bgcolor\": \"rgb(17,17,17)\", \"plot_bgcolor\": \"rgb(17,17,17)\", \"polar\": {\"angularaxis\": {\"gridcolor\": \"#506784\", \"linecolor\": \"#506784\", \"ticks\": \"\"}, \"bgcolor\": \"rgb(17,17,17)\", \"radialaxis\": {\"gridcolor\": \"#506784\", \"linecolor\": \"#506784\", \"ticks\": \"\"}}, \"scene\": {\"xaxis\": {\"backgroundcolor\": \"rgb(17,17,17)\", \"gridcolor\": \"#506784\", \"gridwidth\": 2, \"linecolor\": \"#506784\", \"showbackground\": true, \"ticks\": \"\", \"zerolinecolor\": \"#C8D4E3\"}, \"yaxis\": {\"backgroundcolor\": \"rgb(17,17,17)\", \"gridcolor\": \"#506784\", \"gridwidth\": 2, \"linecolor\": \"#506784\", \"showbackground\": true, \"ticks\": \"\", \"zerolinecolor\": \"#C8D4E3\"}, \"zaxis\": {\"backgroundcolor\": \"rgb(17,17,17)\", \"gridcolor\": \"#506784\", \"gridwidth\": 2, \"linecolor\": \"#506784\", \"showbackground\": true, \"ticks\": \"\", \"zerolinecolor\": \"#C8D4E3\"}}, \"shapedefaults\": {\"line\": {\"color\": \"#f2f5fa\"}}, \"sliderdefaults\": {\"bgcolor\": \"#C8D4E3\", \"bordercolor\": \"rgb(17,17,17)\", \"borderwidth\": 1, \"tickwidth\": 0}, \"ternary\": {\"aaxis\": {\"gridcolor\": \"#506784\", \"linecolor\": \"#506784\", \"ticks\": \"\"}, \"baxis\": {\"gridcolor\": \"#506784\", \"linecolor\": \"#506784\", \"ticks\": \"\"}, \"bgcolor\": \"rgb(17,17,17)\", \"caxis\": {\"gridcolor\": \"#506784\", \"linecolor\": \"#506784\", \"ticks\": \"\"}}, \"title\": {\"x\": 0.05}, \"updatemenudefaults\": {\"bgcolor\": \"#506784\", \"borderwidth\": 0}, \"xaxis\": {\"automargin\": true, \"gridcolor\": \"#283442\", \"linecolor\": \"#506784\", \"ticks\": \"\", \"title\": {\"standoff\": 15}, \"zerolinecolor\": \"#283442\", \"zerolinewidth\": 2}, \"yaxis\": {\"automargin\": true, \"gridcolor\": \"#283442\", \"linecolor\": \"#506784\", \"ticks\": \"\", \"title\": {\"standoff\": 15}, \"zerolinecolor\": \"#283442\", \"zerolinewidth\": 2}}}, \"title\": {\"font\": {\"size\": 24}, \"text\": \"Total Cases by Age as of November 25, 2020\"}, \"xaxis\": {\"anchor\": \"y\", \"domain\": [0.0, 1.0], \"title\": {\"text\": \"Age Group\"}}, \"yaxis\": {\"anchor\": \"x\", \"categoryarray\": [\"70+\", \"50 \\u2013 69\", \"30 \\u2013 49\", \"18 \\u2013 29\", \"0 \\u2013 17\"], \"categoryorder\": \"array\", \"domain\": [0.0, 1.0], \"title\": {}}},                        {\"responsive\": true}                    ).then(function(){\n",
              "                            \n",
              "var gd = document.getElementById('606a9a94-5b96-4418-8251-5caa4a8e69eb');\n",
              "var x = new MutationObserver(function (mutations, observer) {{\n",
              "        var display = window.getComputedStyle(gd).display;\n",
              "        if (!display || display === 'none') {{\n",
              "            console.log([gd, 'removed!']);\n",
              "            Plotly.purge(gd);\n",
              "            observer.disconnect();\n",
              "        }}\n",
              "}});\n",
              "\n",
              "// Listen for the removal of the full notebook cells\n",
              "var notebookContainer = gd.closest('#notebook-container');\n",
              "if (notebookContainer) {{\n",
              "    x.observe(notebookContainer, {childList: true});\n",
              "}}\n",
              "\n",
              "// Listen for the clearing of the current output cell\n",
              "var outputEl = gd.closest('.output');\n",
              "if (outputEl) {{\n",
              "    x.observe(outputEl, {childList: true});\n",
              "}}\n",
              "\n",
              "                        })                };                            </script>        </div>\n",
              "</body>\n",
              "</html>"
            ]
          },
          "metadata": {
            "tags": []
          }
        }
      ]
    },
    {
      "cell_type": "markdown",
      "metadata": {
        "id": "pv8ysthsE0jG"
      },
      "source": [
        "# Cases by Gender"
      ]
    },
    {
      "cell_type": "code",
      "metadata": {
        "id": "_mnaI0rjE2UV"
      },
      "source": [
        "cases_by_gender.head()"
      ],
      "execution_count": null,
      "outputs": []
    },
    {
      "cell_type": "code",
      "metadata": {
        "id": "LE9h-Oh8FC6J"
      },
      "source": [
        "cases_by_gender.columns.to_list()"
      ],
      "execution_count": null,
      "outputs": []
    },
    {
      "cell_type": "code",
      "metadata": {
        "id": "DEIEwgdjE2W8"
      },
      "source": [
        "#rename columns\n",
        "cases_by_gender.rename(columns = {'Number of Cases by Gender':'Gender',\n",
        "                                  'Federal Prisonin Lompoc':'Lompoc Federal Prison',\n",
        "                                  ' Total\\xa0 (Community & Prison)':'Total'}, inplace = True)"
      ],
      "execution_count": null,
      "outputs": []
    },
    {
      "cell_type": "code",
      "metadata": {
        "id": "Ab07BxRgE2bG"
      },
      "source": [
        "cases_by_gender['Gender'].value_counts()"
      ],
      "execution_count": null,
      "outputs": []
    },
    {
      "cell_type": "code",
      "metadata": {
        "id": "IZp90MSGFZED"
      },
      "source": [
        "#creating new dataframe for visualizations\n",
        "cases_by_gender['Gender'].replace({'Unknown':'Other'}, inplace = True)\n",
        "\n",
        "gender_viz = cases_by_gender[cases_by_gender['Gender'].isin(['Male','Female','Other'])]"
      ],
      "execution_count": null,
      "outputs": []
    },
    {
      "cell_type": "code",
      "metadata": {
        "id": "8MSJymRcFwBQ"
      },
      "source": [
        "gender_viz.isna().sum()"
      ],
      "execution_count": null,
      "outputs": []
    },
    {
      "cell_type": "code",
      "metadata": {
        "id": "Nr6D0813n9q2"
      },
      "source": [
        "gender_viz.head()"
      ],
      "execution_count": null,
      "outputs": []
    },
    {
      "cell_type": "code",
      "metadata": {
        "id": "qZqfGDe3oAfe"
      },
      "source": [
        "#calculating totals by date to calculate percentage of total for each gender\n",
        "totals_community = gender_viz.groupby('Date')['Community'].agg('sum')\n",
        "totals_prison = gender_viz.groupby('Date')['Lompoc Federal Prison'].agg('sum')\n",
        "totals = gender_viz.groupby('Date')['Total'].agg('sum')"
      ],
      "execution_count": null,
      "outputs": []
    },
    {
      "cell_type": "code",
      "metadata": {
        "id": "kg5DSLTqomb7"
      },
      "source": [
        "#creating new columns showing the case count as a percentage of the total\n",
        "gender_viz['Percentage of Community Cases'] = gender_viz.apply(lambda x: round(((x.Community / totals_community[totals_community.index == x.Date].values[0]) * 100), 2), axis = 1)\n",
        "\n",
        "gender_viz['Percentage of Prison Cases'] = gender_viz.apply(lambda x: round(((x['Lompoc Federal Prison'] / totals_prison[totals_prison.index == x.Date].values[0]) * 100), 2), axis = 1)\n",
        "\n",
        "gender_viz['Percentage of Total Cases'] = gender_viz.apply(lambda x: round(((x.Total / totals[totals.index == x.Date].values[0]) * 100), 2), axis = 1)"
      ],
      "execution_count": null,
      "outputs": []
    },
    {
      "cell_type": "code",
      "metadata": {
        "id": "9thmaB49pIkn"
      },
      "source": [
        "gender_viz.head()"
      ],
      "execution_count": null,
      "outputs": []
    },
    {
      "cell_type": "code",
      "metadata": {
        "id": "BngF-62Hqgh-"
      },
      "source": [
        "#creating dictionary so that the following function can be run with a single input across the entire dashboard\n",
        "column_dict = {'Community':'Percentage of Community Cases',\n",
        "               'Lompoc Federal Prison':'Percentage of Prison Cases',\n",
        "               'Total':'Percentage of Total Cases'}"
      ],
      "execution_count": null,
      "outputs": []
    },
    {
      "cell_type": "code",
      "metadata": {
        "id": "H8KXQx3EqJMQ"
      },
      "source": [
        "def create_pie_chart(date, column_name):\n",
        "  fig = px.pie(gender_viz[gender_viz['Date'] == date],\n",
        "               values = column_dict[column_name],\n",
        "               names = 'Gender',\n",
        "               color = 'Gender',\n",
        "               template = 'plotly_dark',\n",
        "               title = column_dict[column_name] + ' by Gender<br>as of ' + date,\n",
        "               color_discrete_sequence = px.colors.qualitative.D3,\n",
        "               width = 650)\n",
        "  \n",
        "  fig.update_layout(font_family = 'Courier',\n",
        "                    font_color = 'white',\n",
        "                    title_font_size = 24,\n",
        "                    legend = dict(\n",
        "                        orientation = 'h',\n",
        "                        yanchor = 'bottom',\n",
        "                        y = -0.2,\n",
        "                        xanchor = 'left',\n",
        "                        x = -0.2\n",
        "                    ))\n",
        "\n",
        "  fig.show()"
      ],
      "execution_count": null,
      "outputs": []
    },
    {
      "cell_type": "code",
      "metadata": {
        "id": "35keALs-qlPF"
      },
      "source": [
        "create_pie_chart('October 20, 2020','Community')"
      ],
      "execution_count": null,
      "outputs": []
    },
    {
      "cell_type": "code",
      "metadata": {
        "id": "R16pk8pzq2DU"
      },
      "source": [
        "create_pie_chart('October 20, 2020','Lompoc Federal Prison')"
      ],
      "execution_count": null,
      "outputs": []
    },
    {
      "cell_type": "code",
      "metadata": {
        "id": "Bbb-WQAdq3NY"
      },
      "source": [
        "create_pie_chart('October 20, 2020','Total')"
      ],
      "execution_count": null,
      "outputs": []
    },
    {
      "cell_type": "code",
      "metadata": {
        "id": "JLsZlldbF0Jb"
      },
      "source": [
        "#def create_gender_barplot(date, column_name):\n",
        "#  fig = px.bar(gender_viz[gender_viz['Date'] == date],\n",
        "#               x = column_name,\n",
        "#               y = 'Gender',\n",
        "#               orientation = 'h',\n",
        "               #x = 'Gender',\n",
        "               #y = column_name,\n",
        "#               color = 'Gender',\n",
        "#               template = 'plotly_dark',\n",
        "#               color_discrete_sequence = px.colors.qualitative.D3,\n",
        "#               title = column_name + ' Cases by Gender as of ' + date)\n",
        "  \n",
        "#  fig.update_layout(\n",
        "#      hovermode = 'closest',\n",
        "#      font_family = 'Courier',\n",
        "#      font_color = 'white',\n",
        "#      title_font_size = 24,\n",
        "#      legend = dict(\n",
        "#          orientation = 'h',\n",
        "#          yanchor = 'bottom',\n",
        "#          y = 1.02,\n",
        "#          xanchor = 'left',\n",
        "#          x = 0\n",
        "#      ),\n",
        "#      xaxis = dict(title=None)\n",
        "#  )\n",
        "\n",
        "#  fig.show()"
      ],
      "execution_count": null,
      "outputs": []
    },
    {
      "cell_type": "markdown",
      "metadata": {
        "id": "QmOxdEfAyQES"
      },
      "source": [
        "# Cases by Ethnicity"
      ]
    },
    {
      "cell_type": "code",
      "metadata": {
        "id": "Uid5IMYrySBI",
        "colab": {
          "base_uri": "https://localhost:8080/",
          "height": 195
        },
        "outputId": "f450f29f-1717-4f7e-dca1-ef20924e655b"
      },
      "source": [
        "ethnicity.head()"
      ],
      "execution_count": 4,
      "outputs": [
        {
          "output_type": "execute_result",
          "data": {
            "text/html": [
              "<div>\n",
              "<style scoped>\n",
              "    .dataframe tbody tr th:only-of-type {\n",
              "        vertical-align: middle;\n",
              "    }\n",
              "\n",
              "    .dataframe tbody tr th {\n",
              "        vertical-align: top;\n",
              "    }\n",
              "\n",
              "    .dataframe thead th {\n",
              "        text-align: right;\n",
              "    }\n",
              "</style>\n",
              "<table border=\"1\" class=\"dataframe\">\n",
              "  <thead>\n",
              "    <tr style=\"text-align: right;\">\n",
              "      <th></th>\n",
              "      <th>RACE/ETHNICITY</th>\n",
              "      <th>Daily</th>\n",
              "      <th>Community</th>\n",
              "      <th>Federal Prison in Lompoc</th>\n",
              "      <th>Total(Community &amp; Prison)</th>\n",
              "      <th>Date</th>\n",
              "    </tr>\n",
              "  </thead>\n",
              "  <tbody>\n",
              "    <tr>\n",
              "      <th>0</th>\n",
              "      <td>Hispanic/Latino</td>\n",
              "      <td>105</td>\n",
              "      <td>7210.0</td>\n",
              "      <td>373</td>\n",
              "      <td>7583.0</td>\n",
              "      <td>December 15, 2020</td>\n",
              "    </tr>\n",
              "    <tr>\n",
              "      <th>1</th>\n",
              "      <td>White</td>\n",
              "      <td>31</td>\n",
              "      <td>1861.0</td>\n",
              "      <td>376</td>\n",
              "      <td>2237.0</td>\n",
              "      <td>December 15, 2020</td>\n",
              "    </tr>\n",
              "    <tr>\n",
              "      <th>2</th>\n",
              "      <td>Asian</td>\n",
              "      <td>4</td>\n",
              "      <td>233.0</td>\n",
              "      <td>51</td>\n",
              "      <td>284.0</td>\n",
              "      <td>December 15, 2020</td>\n",
              "    </tr>\n",
              "    <tr>\n",
              "      <th>3</th>\n",
              "      <td>Black/African American</td>\n",
              "      <td>0</td>\n",
              "      <td>92.0</td>\n",
              "      <td>146</td>\n",
              "      <td>238.0</td>\n",
              "      <td>December 15, 2020</td>\n",
              "    </tr>\n",
              "    <tr>\n",
              "      <th>4</th>\n",
              "      <td>American Indian/Native Alaskan</td>\n",
              "      <td>0</td>\n",
              "      <td>8.0</td>\n",
              "      <td>28</td>\n",
              "      <td>36.0</td>\n",
              "      <td>December 15, 2020</td>\n",
              "    </tr>\n",
              "  </tbody>\n",
              "</table>\n",
              "</div>"
            ],
            "text/plain": [
              "                   RACE/ETHNICITY  ...               Date\n",
              "0                 Hispanic/Latino  ...  December 15, 2020\n",
              "1                           White  ...  December 15, 2020\n",
              "2                           Asian  ...  December 15, 2020\n",
              "3          Black/African American  ...  December 15, 2020\n",
              "4  American Indian/Native Alaskan  ...  December 15, 2020\n",
              "\n",
              "[5 rows x 6 columns]"
            ]
          },
          "metadata": {
            "tags": []
          },
          "execution_count": 4
        }
      ]
    },
    {
      "cell_type": "code",
      "metadata": {
        "id": "vId-t2fBybSr",
        "colab": {
          "base_uri": "https://localhost:8080/"
        },
        "outputId": "a59c2e6b-bd57-433e-8023-4b5485e4d995"
      },
      "source": [
        "ethnicity['RACE/ETHNICITY'].value_counts()"
      ],
      "execution_count": null,
      "outputs": [
        {
          "output_type": "execute_result",
          "data": {
            "text/plain": [
              "Missing                                              102\n",
              "Unknown Race, Non-Hispanic                           102\n",
              "Total                                                102\n",
              "Hispanic/Latino                                      102\n",
              "Unknown Ethnicity                                    102\n",
              "Suppressed/Inmate                                     62\n",
              "Native Hawaiian or Pacific Islander, Non-Hispanic     57\n",
              "Multiracial, Non-Hispanic                             57\n",
              "White, Non-Hispanic                                   57\n",
              "Black/African American, Non-Hispanic                  57\n",
              "Asian, Non-Hispanic                                   57\n",
              "American Indian/Native Alaskan, Non-Hispanic          57\n",
              "Other, Non-Hispanic                                   57\n",
              "Suppressed                                            40\n",
              "Black/African American                                34\n",
              "American Indian/Native Alaskan                        34\n",
              "Native Hawaiian or Pacific Islander                   32\n",
              "White                                                 32\n",
              "Asian                                                 32\n",
              "Other                                                 32\n",
              "Multiracial                                           32\n",
              "White                                                 13\n",
              "Asian                                                 13\n",
              "Native Hawaiian or Pacific Islander                   13\n",
              "Other                                                 13\n",
              "Multiracial                                           13\n",
              "Black/African American                                11\n",
              "American Indian/Native Alaskan                        11\n",
              "Name: RACE/ETHNICITY, dtype: int64"
            ]
          },
          "metadata": {
            "tags": []
          },
          "execution_count": 136
        }
      ]
    },
    {
      "cell_type": "code",
      "metadata": {
        "id": "2YUw6JTnyhA6"
      },
      "source": [
        "#looks like some duplicate values are the result of extra whitespaces, removing extra whitespaces\n",
        "ethnicity['RACE/ETHNICITY'] = ethnicity['RACE/ETHNICITY'].str.strip()"
      ],
      "execution_count": 5,
      "outputs": []
    },
    {
      "cell_type": "code",
      "metadata": {
        "id": "qT5HiDW8ynG8",
        "colab": {
          "base_uri": "https://localhost:8080/",
          "height": 491
        },
        "outputId": "56f7f56f-9a5d-4606-8ef6-7baade1dda88"
      },
      "source": [
        "#looks like the change to remove \"Non-Hispanic\" from the various categories was a recent change, going to convert historical data to this format for consistency\n",
        "ethnicity[ethnicity['RACE/ETHNICITY'].isin(['Native Hawaiian or Pacific Islander','Other','Asian','Multiracial','White'])].head(15)"
      ],
      "execution_count": 6,
      "outputs": [
        {
          "output_type": "execute_result",
          "data": {
            "text/html": [
              "<div>\n",
              "<style scoped>\n",
              "    .dataframe tbody tr th:only-of-type {\n",
              "        vertical-align: middle;\n",
              "    }\n",
              "\n",
              "    .dataframe tbody tr th {\n",
              "        vertical-align: top;\n",
              "    }\n",
              "\n",
              "    .dataframe thead th {\n",
              "        text-align: right;\n",
              "    }\n",
              "</style>\n",
              "<table border=\"1\" class=\"dataframe\">\n",
              "  <thead>\n",
              "    <tr style=\"text-align: right;\">\n",
              "      <th></th>\n",
              "      <th>RACE/ETHNICITY</th>\n",
              "      <th>Daily</th>\n",
              "      <th>Community</th>\n",
              "      <th>Federal Prison in Lompoc</th>\n",
              "      <th>Total(Community &amp; Prison)</th>\n",
              "      <th>Date</th>\n",
              "    </tr>\n",
              "  </thead>\n",
              "  <tbody>\n",
              "    <tr>\n",
              "      <th>1</th>\n",
              "      <td>White</td>\n",
              "      <td>31</td>\n",
              "      <td>1861.0</td>\n",
              "      <td>376</td>\n",
              "      <td>2237.0</td>\n",
              "      <td>December 15, 2020</td>\n",
              "    </tr>\n",
              "    <tr>\n",
              "      <th>2</th>\n",
              "      <td>Asian</td>\n",
              "      <td>4</td>\n",
              "      <td>233.0</td>\n",
              "      <td>51</td>\n",
              "      <td>284.0</td>\n",
              "      <td>December 15, 2020</td>\n",
              "    </tr>\n",
              "    <tr>\n",
              "      <th>5</th>\n",
              "      <td>Native Hawaiian or Pacific Islander</td>\n",
              "      <td>0</td>\n",
              "      <td>10.0</td>\n",
              "      <td>2</td>\n",
              "      <td>12.0</td>\n",
              "      <td>December 15, 2020</td>\n",
              "    </tr>\n",
              "    <tr>\n",
              "      <th>6</th>\n",
              "      <td>Multiracial</td>\n",
              "      <td>0</td>\n",
              "      <td>144.0</td>\n",
              "      <td>1</td>\n",
              "      <td>145.0</td>\n",
              "      <td>December 15, 2020</td>\n",
              "    </tr>\n",
              "    <tr>\n",
              "      <th>7</th>\n",
              "      <td>Other</td>\n",
              "      <td>3</td>\n",
              "      <td>109.0</td>\n",
              "      <td>1</td>\n",
              "      <td>110.0</td>\n",
              "      <td>December 15, 2020</td>\n",
              "    </tr>\n",
              "    <tr>\n",
              "      <th>14</th>\n",
              "      <td>White</td>\n",
              "      <td>50</td>\n",
              "      <td>1831.0</td>\n",
              "      <td>376</td>\n",
              "      <td>2207.0</td>\n",
              "      <td>December 14, 2020</td>\n",
              "    </tr>\n",
              "    <tr>\n",
              "      <th>15</th>\n",
              "      <td>Asian</td>\n",
              "      <td>5</td>\n",
              "      <td>226.0</td>\n",
              "      <td>51</td>\n",
              "      <td>277.0</td>\n",
              "      <td>December 14, 2020</td>\n",
              "    </tr>\n",
              "    <tr>\n",
              "      <th>18</th>\n",
              "      <td>Native Hawaiian or Pacific Islander</td>\n",
              "      <td>0</td>\n",
              "      <td>10.0</td>\n",
              "      <td>2</td>\n",
              "      <td>12.0</td>\n",
              "      <td>December 14, 2020</td>\n",
              "    </tr>\n",
              "    <tr>\n",
              "      <th>19</th>\n",
              "      <td>Multiracial</td>\n",
              "      <td>0</td>\n",
              "      <td>143.0</td>\n",
              "      <td>1</td>\n",
              "      <td>144.0</td>\n",
              "      <td>December 14, 2020</td>\n",
              "    </tr>\n",
              "    <tr>\n",
              "      <th>20</th>\n",
              "      <td>Other</td>\n",
              "      <td>7</td>\n",
              "      <td>105.0</td>\n",
              "      <td>1</td>\n",
              "      <td>106.0</td>\n",
              "      <td>December 14, 2020</td>\n",
              "    </tr>\n",
              "    <tr>\n",
              "      <th>27</th>\n",
              "      <td>White</td>\n",
              "      <td>12</td>\n",
              "      <td>1778.0</td>\n",
              "      <td>376</td>\n",
              "      <td>2154.0</td>\n",
              "      <td>December 13, 2020</td>\n",
              "    </tr>\n",
              "    <tr>\n",
              "      <th>28</th>\n",
              "      <td>Asian</td>\n",
              "      <td>2</td>\n",
              "      <td>221.0</td>\n",
              "      <td>51</td>\n",
              "      <td>272.0</td>\n",
              "      <td>December 13, 2020</td>\n",
              "    </tr>\n",
              "    <tr>\n",
              "      <th>31</th>\n",
              "      <td>Native Hawaiian or Pacific Islander</td>\n",
              "      <td>1</td>\n",
              "      <td>9.0</td>\n",
              "      <td>2</td>\n",
              "      <td>11.0</td>\n",
              "      <td>December 13, 2020</td>\n",
              "    </tr>\n",
              "    <tr>\n",
              "      <th>32</th>\n",
              "      <td>Multiracial</td>\n",
              "      <td>0</td>\n",
              "      <td>143.0</td>\n",
              "      <td>1</td>\n",
              "      <td>144.0</td>\n",
              "      <td>December 13, 2020</td>\n",
              "    </tr>\n",
              "    <tr>\n",
              "      <th>33</th>\n",
              "      <td>Other</td>\n",
              "      <td>5</td>\n",
              "      <td>98.0</td>\n",
              "      <td>1</td>\n",
              "      <td>99.0</td>\n",
              "      <td>December 13, 2020</td>\n",
              "    </tr>\n",
              "  </tbody>\n",
              "</table>\n",
              "</div>"
            ],
            "text/plain": [
              "                         RACE/ETHNICITY  ...               Date\n",
              "1                                 White  ...  December 15, 2020\n",
              "2                                 Asian  ...  December 15, 2020\n",
              "5   Native Hawaiian or Pacific Islander  ...  December 15, 2020\n",
              "6                           Multiracial  ...  December 15, 2020\n",
              "7                                 Other  ...  December 15, 2020\n",
              "14                                White  ...  December 14, 2020\n",
              "15                                Asian  ...  December 14, 2020\n",
              "18  Native Hawaiian or Pacific Islander  ...  December 14, 2020\n",
              "19                          Multiracial  ...  December 14, 2020\n",
              "20                                Other  ...  December 14, 2020\n",
              "27                                White  ...  December 13, 2020\n",
              "28                                Asian  ...  December 13, 2020\n",
              "31  Native Hawaiian or Pacific Islander  ...  December 13, 2020\n",
              "32                          Multiracial  ...  December 13, 2020\n",
              "33                                Other  ...  December 13, 2020\n",
              "\n",
              "[15 rows x 6 columns]"
            ]
          },
          "metadata": {
            "tags": []
          },
          "execution_count": 6
        }
      ]
    },
    {
      "cell_type": "code",
      "metadata": {
        "id": "bWalm-cayqag"
      },
      "source": [
        "#creating dictionary to replace values\n",
        "value_dict = {\n",
        "              'Asian, Non-Hispanic':'Asian',\n",
        "              'Other, Non-Hispanic':'Other',\n",
        "              'Native Hawaiian or Pacific Islander, Non-Hispanic':'Native Hawaiian or Pacific Islander',\n",
        "              'American Indian/Native Alaskan, Non-Hispanic':'American Indian/Native Alaskan',\n",
        "              'White, Non-Hispanic':'White',\n",
        "              'Multiracial, Non-Hispanic':'Multiracial',\n",
        "              'Black/African American, Non-Hispanic':'Black/African American',\n",
        "              'Suppressed/Inmate':'Suppressed'\n",
        "}\n",
        "\n",
        "ethnicity['RACE/ETHNICITY'].replace(value_dict, inplace = True)"
      ],
      "execution_count": 7,
      "outputs": []
    },
    {
      "cell_type": "code",
      "metadata": {
        "id": "TGalXKILytt4",
        "colab": {
          "base_uri": "https://localhost:8080/"
        },
        "outputId": "adbe62e3-d765-4a1a-e38a-04107302e84a"
      },
      "source": [
        "#confirming that this worked\n",
        "ethnicity['RACE/ETHNICITY'].value_counts()"
      ],
      "execution_count": 8,
      "outputs": [
        {
          "output_type": "execute_result",
          "data": {
            "text/plain": [
              "White                                  117\n",
              "Other                                  117\n",
              "Multiracial                            117\n",
              "Asian                                  117\n",
              "Total                                  117\n",
              "Native Hawaiian or Pacific Islander    117\n",
              "American Indian/Native Alaskan         117\n",
              "Unknown Ethnicity                      117\n",
              "Suppressed                             117\n",
              "Hispanic/Latino                        117\n",
              "Unknown Race, Non-Hispanic             117\n",
              "Missing                                117\n",
              "Black/African American                 117\n",
              "Name: RACE/ETHNICITY, dtype: int64"
            ]
          },
          "metadata": {
            "tags": []
          },
          "execution_count": 8
        }
      ]
    },
    {
      "cell_type": "code",
      "metadata": {
        "id": "hV1JQETnywZw"
      },
      "source": [
        "# converting date column to pandas datetime format\n",
        "#ethnicity['Date'] = pd.to_datetime(ethnicity['Date'])"
      ],
      "execution_count": null,
      "outputs": []
    },
    {
      "cell_type": "code",
      "metadata": {
        "id": "Iw23uHwdyyE7",
        "colab": {
          "base_uri": "https://localhost:8080/",
          "height": 639
        },
        "outputId": "7caf84fa-6073-498d-801b-187f22be8488"
      },
      "source": [
        "#creating new dataframe for visualizations\n",
        "ethnicity_viz = ethnicity.loc[ethnicity['RACE/ETHNICITY'].isin(['White',                               #filtering based on values in race/ethnicity column\n",
        "                                                         'American Indian/Native Alaskan',\n",
        "                                                         'Asian',\n",
        "                                                         'Multiracial',\n",
        "                                                         'Hispanic/Latino',\n",
        "                                                         'Native Hawaiian or Pacific Islander',\n",
        "                                                         'Black/African American']),\n",
        "                                                        ['RACE/ETHNICITY','Community','Federal Prison in Lompoc','Total(Community & Prison)','Date']]    #selecting only columns I'll need for visualization\n",
        "                                           \n",
        "ethnicity_viz.head(20)"
      ],
      "execution_count": 31,
      "outputs": [
        {
          "output_type": "execute_result",
          "data": {
            "text/html": [
              "<div>\n",
              "<style scoped>\n",
              "    .dataframe tbody tr th:only-of-type {\n",
              "        vertical-align: middle;\n",
              "    }\n",
              "\n",
              "    .dataframe tbody tr th {\n",
              "        vertical-align: top;\n",
              "    }\n",
              "\n",
              "    .dataframe thead th {\n",
              "        text-align: right;\n",
              "    }\n",
              "</style>\n",
              "<table border=\"1\" class=\"dataframe\">\n",
              "  <thead>\n",
              "    <tr style=\"text-align: right;\">\n",
              "      <th></th>\n",
              "      <th>RACE/ETHNICITY</th>\n",
              "      <th>Community</th>\n",
              "      <th>Federal Prison in Lompoc</th>\n",
              "      <th>Total(Community &amp; Prison)</th>\n",
              "      <th>Date</th>\n",
              "    </tr>\n",
              "  </thead>\n",
              "  <tbody>\n",
              "    <tr>\n",
              "      <th>0</th>\n",
              "      <td>Hispanic/Latino</td>\n",
              "      <td>7210.0</td>\n",
              "      <td>373</td>\n",
              "      <td>7583.0</td>\n",
              "      <td>December 15, 2020</td>\n",
              "    </tr>\n",
              "    <tr>\n",
              "      <th>1</th>\n",
              "      <td>White</td>\n",
              "      <td>1861.0</td>\n",
              "      <td>376</td>\n",
              "      <td>2237.0</td>\n",
              "      <td>December 15, 2020</td>\n",
              "    </tr>\n",
              "    <tr>\n",
              "      <th>2</th>\n",
              "      <td>Asian</td>\n",
              "      <td>233.0</td>\n",
              "      <td>51</td>\n",
              "      <td>284.0</td>\n",
              "      <td>December 15, 2020</td>\n",
              "    </tr>\n",
              "    <tr>\n",
              "      <th>3</th>\n",
              "      <td>Black/African American</td>\n",
              "      <td>92.0</td>\n",
              "      <td>146</td>\n",
              "      <td>238.0</td>\n",
              "      <td>December 15, 2020</td>\n",
              "    </tr>\n",
              "    <tr>\n",
              "      <th>4</th>\n",
              "      <td>American Indian/Native Alaskan</td>\n",
              "      <td>8.0</td>\n",
              "      <td>28</td>\n",
              "      <td>36.0</td>\n",
              "      <td>December 15, 2020</td>\n",
              "    </tr>\n",
              "    <tr>\n",
              "      <th>5</th>\n",
              "      <td>Native Hawaiian or Pacific Islander</td>\n",
              "      <td>10.0</td>\n",
              "      <td>2</td>\n",
              "      <td>12.0</td>\n",
              "      <td>December 15, 2020</td>\n",
              "    </tr>\n",
              "    <tr>\n",
              "      <th>6</th>\n",
              "      <td>Multiracial</td>\n",
              "      <td>144.0</td>\n",
              "      <td>1</td>\n",
              "      <td>145.0</td>\n",
              "      <td>December 15, 2020</td>\n",
              "    </tr>\n",
              "    <tr>\n",
              "      <th>13</th>\n",
              "      <td>Hispanic/Latino</td>\n",
              "      <td>7085.0</td>\n",
              "      <td>373</td>\n",
              "      <td>7458.0</td>\n",
              "      <td>December 14, 2020</td>\n",
              "    </tr>\n",
              "    <tr>\n",
              "      <th>14</th>\n",
              "      <td>White</td>\n",
              "      <td>1831.0</td>\n",
              "      <td>376</td>\n",
              "      <td>2207.0</td>\n",
              "      <td>December 14, 2020</td>\n",
              "    </tr>\n",
              "    <tr>\n",
              "      <th>15</th>\n",
              "      <td>Asian</td>\n",
              "      <td>226.0</td>\n",
              "      <td>51</td>\n",
              "      <td>277.0</td>\n",
              "      <td>December 14, 2020</td>\n",
              "    </tr>\n",
              "    <tr>\n",
              "      <th>16</th>\n",
              "      <td>Black/African American</td>\n",
              "      <td>92.0</td>\n",
              "      <td>146</td>\n",
              "      <td>238.0</td>\n",
              "      <td>December 14, 2020</td>\n",
              "    </tr>\n",
              "    <tr>\n",
              "      <th>17</th>\n",
              "      <td>American Indian/Native Alaskan</td>\n",
              "      <td>8.0</td>\n",
              "      <td>28</td>\n",
              "      <td>36.0</td>\n",
              "      <td>December 14, 2020</td>\n",
              "    </tr>\n",
              "    <tr>\n",
              "      <th>18</th>\n",
              "      <td>Native Hawaiian or Pacific Islander</td>\n",
              "      <td>10.0</td>\n",
              "      <td>2</td>\n",
              "      <td>12.0</td>\n",
              "      <td>December 14, 2020</td>\n",
              "    </tr>\n",
              "    <tr>\n",
              "      <th>19</th>\n",
              "      <td>Multiracial</td>\n",
              "      <td>143.0</td>\n",
              "      <td>1</td>\n",
              "      <td>144.0</td>\n",
              "      <td>December 14, 2020</td>\n",
              "    </tr>\n",
              "    <tr>\n",
              "      <th>26</th>\n",
              "      <td>Hispanic/Latino</td>\n",
              "      <td>6946.0</td>\n",
              "      <td>372</td>\n",
              "      <td>7318.0</td>\n",
              "      <td>December 13, 2020</td>\n",
              "    </tr>\n",
              "    <tr>\n",
              "      <th>27</th>\n",
              "      <td>White</td>\n",
              "      <td>1778.0</td>\n",
              "      <td>376</td>\n",
              "      <td>2154.0</td>\n",
              "      <td>December 13, 2020</td>\n",
              "    </tr>\n",
              "    <tr>\n",
              "      <th>28</th>\n",
              "      <td>Asian</td>\n",
              "      <td>221.0</td>\n",
              "      <td>51</td>\n",
              "      <td>272.0</td>\n",
              "      <td>December 13, 2020</td>\n",
              "    </tr>\n",
              "    <tr>\n",
              "      <th>29</th>\n",
              "      <td>Black/African American</td>\n",
              "      <td>91.0</td>\n",
              "      <td>145</td>\n",
              "      <td>236.0</td>\n",
              "      <td>December 13, 2020</td>\n",
              "    </tr>\n",
              "    <tr>\n",
              "      <th>30</th>\n",
              "      <td>American Indian/Native Alaskan</td>\n",
              "      <td>8.0</td>\n",
              "      <td>28</td>\n",
              "      <td>36.0</td>\n",
              "      <td>December 13, 2020</td>\n",
              "    </tr>\n",
              "    <tr>\n",
              "      <th>31</th>\n",
              "      <td>Native Hawaiian or Pacific Islander</td>\n",
              "      <td>9.0</td>\n",
              "      <td>2</td>\n",
              "      <td>11.0</td>\n",
              "      <td>December 13, 2020</td>\n",
              "    </tr>\n",
              "  </tbody>\n",
              "</table>\n",
              "</div>"
            ],
            "text/plain": [
              "                         RACE/ETHNICITY  ...               Date\n",
              "0                       Hispanic/Latino  ...  December 15, 2020\n",
              "1                                 White  ...  December 15, 2020\n",
              "2                                 Asian  ...  December 15, 2020\n",
              "3                Black/African American  ...  December 15, 2020\n",
              "4        American Indian/Native Alaskan  ...  December 15, 2020\n",
              "5   Native Hawaiian or Pacific Islander  ...  December 15, 2020\n",
              "6                           Multiracial  ...  December 15, 2020\n",
              "13                      Hispanic/Latino  ...  December 14, 2020\n",
              "14                                White  ...  December 14, 2020\n",
              "15                                Asian  ...  December 14, 2020\n",
              "16               Black/African American  ...  December 14, 2020\n",
              "17       American Indian/Native Alaskan  ...  December 14, 2020\n",
              "18  Native Hawaiian or Pacific Islander  ...  December 14, 2020\n",
              "19                          Multiracial  ...  December 14, 2020\n",
              "26                      Hispanic/Latino  ...  December 13, 2020\n",
              "27                                White  ...  December 13, 2020\n",
              "28                                Asian  ...  December 13, 2020\n",
              "29               Black/African American  ...  December 13, 2020\n",
              "30       American Indian/Native Alaskan  ...  December 13, 2020\n",
              "31  Native Hawaiian or Pacific Islander  ...  December 13, 2020\n",
              "\n",
              "[20 rows x 5 columns]"
            ]
          },
          "metadata": {
            "tags": []
          },
          "execution_count": 31
        }
      ]
    },
    {
      "cell_type": "code",
      "metadata": {
        "id": "J275bZqpjR7Z",
        "colab": {
          "base_uri": "https://localhost:8080/"
        },
        "outputId": "a17455e0-9938-447d-9f04-15345330fe68"
      },
      "source": [
        "ethnicity_viz.isna().sum()"
      ],
      "execution_count": 32,
      "outputs": [
        {
          "output_type": "execute_result",
          "data": {
            "text/plain": [
              "RACE/ETHNICITY               0\n",
              "Community                    0\n",
              "Federal Prison in Lompoc     0\n",
              "Total(Community & Prison)    0\n",
              "Date                         0\n",
              "dtype: int64"
            ]
          },
          "metadata": {
            "tags": []
          },
          "execution_count": 32
        }
      ]
    },
    {
      "cell_type": "code",
      "metadata": {
        "id": "Jz2VgC4LbL-C"
      },
      "source": [
        "#cleaning up column names\n",
        "ethnicity_viz.rename({'RACE/ETHNICITY':'Ethnicity',\n",
        "                      'Federal Prison in Lompoc':'Lompoc Federal Prison',\n",
        "                      'Total(Community & Prison)':'Total'}, \n",
        "                     axis = 1, \n",
        "                     inplace = True)"
      ],
      "execution_count": 33,
      "outputs": []
    },
    {
      "cell_type": "code",
      "metadata": {
        "colab": {
          "base_uri": "https://localhost:8080/"
        },
        "id": "gk1FJHSwif0s",
        "outputId": "a71b6c36-facb-48ee-bb65-3959d58d30d6"
      },
      "source": [
        "ethnicity_viz.dtypes"
      ],
      "execution_count": 34,
      "outputs": [
        {
          "output_type": "execute_result",
          "data": {
            "text/plain": [
              "Ethnicity                 object\n",
              "Community                float64\n",
              "Lompoc Federal Prison     object\n",
              "Total                    float64\n",
              "Date                      object\n",
              "dtype: object"
            ]
          },
          "metadata": {
            "tags": []
          },
          "execution_count": 34
        }
      ]
    },
    {
      "cell_type": "code",
      "metadata": {
        "id": "PzlL5xdeiiag"
      },
      "source": [
        "#converting lompoc federal prison column to numeric\r\n",
        "ethnicity_viz['Lompoc Federal Prison'] = pd.to_numeric(ethnicity_viz['Lompoc Federal Prison'].str.strip())"
      ],
      "execution_count": 35,
      "outputs": []
    },
    {
      "cell_type": "code",
      "metadata": {
        "id": "NXm_ea_dy_yg"
      },
      "source": [
        "#rather than use the total values from original dataframe (which included groups like unknown and suppressed that I removed), I'm calculating the totals based solely on the ethicity values that I'm using for the visualization\n",
        "#totals_community = ethnicity_viz.groupby('Date')['Community'].agg('sum')\n",
        "#totals_prison = ethnicity_viz.groupby('Date')['Lompoc Federal Prison'].agg('sum')\n",
        "#totals = ethnicity_viz.groupby('Date')['Total'].agg('sum')"
      ],
      "execution_count": null,
      "outputs": []
    },
    {
      "cell_type": "code",
      "metadata": {
        "id": "IrIu5heFzHWX"
      },
      "source": [
        "#creating new column showing the case count as a percentage of the total\n",
        "#ethnicity_viz['Percentage of Community Cases'] = ethnicity_viz.apply(lambda x: round(((x.Community / totals_community[totals_community.index == x.Date].values[0]) * 100), 2), axis = 1)\n",
        "\n",
        "#ethnicity_viz['Percentage of Prison Cases'] = ethnicity_viz.apply(lambda x: round(((x['Lompoc Federal Prison'] / totals_prison[totals_prison.index == x.Date].values[0]) * 100), 2), axis = 1)\n",
        "\n",
        "#ethnicity_viz['Percentage of Total Cases'] = ethnicity_viz.apply(lambda x: round(((x.Total / totals[totals.index == x.Date].values[0]) * 100), 2), axis = 1)"
      ],
      "execution_count": null,
      "outputs": []
    },
    {
      "cell_type": "code",
      "metadata": {
        "id": "R9r3XWJwzN2w",
        "colab": {
          "base_uri": "https://localhost:8080/",
          "height": 195
        },
        "outputId": "f8d5ba87-d724-4581-9abb-a24c2ed166c0"
      },
      "source": [
        "ethnicity_viz.head()"
      ],
      "execution_count": 12,
      "outputs": [
        {
          "output_type": "execute_result",
          "data": {
            "text/html": [
              "<div>\n",
              "<style scoped>\n",
              "    .dataframe tbody tr th:only-of-type {\n",
              "        vertical-align: middle;\n",
              "    }\n",
              "\n",
              "    .dataframe tbody tr th {\n",
              "        vertical-align: top;\n",
              "    }\n",
              "\n",
              "    .dataframe thead th {\n",
              "        text-align: right;\n",
              "    }\n",
              "</style>\n",
              "<table border=\"1\" class=\"dataframe\">\n",
              "  <thead>\n",
              "    <tr style=\"text-align: right;\">\n",
              "      <th></th>\n",
              "      <th>Ethnicity</th>\n",
              "      <th>Community</th>\n",
              "      <th>Lompoc Federal Prison</th>\n",
              "      <th>Total</th>\n",
              "      <th>Date</th>\n",
              "    </tr>\n",
              "  </thead>\n",
              "  <tbody>\n",
              "    <tr>\n",
              "      <th>0</th>\n",
              "      <td>Hispanic/Latino</td>\n",
              "      <td>7210.0</td>\n",
              "      <td>373</td>\n",
              "      <td>7583.0</td>\n",
              "      <td>December 15, 2020</td>\n",
              "    </tr>\n",
              "    <tr>\n",
              "      <th>1</th>\n",
              "      <td>White</td>\n",
              "      <td>1861.0</td>\n",
              "      <td>376</td>\n",
              "      <td>2237.0</td>\n",
              "      <td>December 15, 2020</td>\n",
              "    </tr>\n",
              "    <tr>\n",
              "      <th>2</th>\n",
              "      <td>Asian</td>\n",
              "      <td>233.0</td>\n",
              "      <td>51</td>\n",
              "      <td>284.0</td>\n",
              "      <td>December 15, 2020</td>\n",
              "    </tr>\n",
              "    <tr>\n",
              "      <th>3</th>\n",
              "      <td>Black/African American</td>\n",
              "      <td>92.0</td>\n",
              "      <td>146</td>\n",
              "      <td>238.0</td>\n",
              "      <td>December 15, 2020</td>\n",
              "    </tr>\n",
              "    <tr>\n",
              "      <th>4</th>\n",
              "      <td>American Indian/Native Alaskan</td>\n",
              "      <td>8.0</td>\n",
              "      <td>28</td>\n",
              "      <td>36.0</td>\n",
              "      <td>December 15, 2020</td>\n",
              "    </tr>\n",
              "  </tbody>\n",
              "</table>\n",
              "</div>"
            ],
            "text/plain": [
              "                        Ethnicity  Community  ...   Total               Date\n",
              "0                 Hispanic/Latino     7210.0  ...  7583.0  December 15, 2020\n",
              "1                           White     1861.0  ...  2237.0  December 15, 2020\n",
              "2                           Asian      233.0  ...   284.0  December 15, 2020\n",
              "3          Black/African American       92.0  ...   238.0  December 15, 2020\n",
              "4  American Indian/Native Alaskan        8.0  ...    36.0  December 15, 2020\n",
              "\n",
              "[5 rows x 5 columns]"
            ]
          },
          "metadata": {
            "tags": []
          },
          "execution_count": 12
        }
      ]
    },
    {
      "cell_type": "code",
      "metadata": {
        "colab": {
          "base_uri": "https://localhost:8080/"
        },
        "id": "oi3F4D1iiKYM",
        "outputId": "e896d21a-e9cf-430a-eea4-24eb48ab3b2f"
      },
      "source": [
        "ethnicity_plot2 = ethnicity_viz[ethnicity_viz['Date'] == 'December 15, 2020'].reset_index(drop=True)\r\n",
        "#index = ethnicity_plot2[ethnicity_plot2[column_name] == ethnicity_plot2[column_name].max()].index.values[0] \r\n",
        "ethnicity_plot2['Lompoc Federal Prison'].max()"
      ],
      "execution_count": 36,
      "outputs": [
        {
          "output_type": "execute_result",
          "data": {
            "text/plain": [
              "376"
            ]
          },
          "metadata": {
            "tags": []
          },
          "execution_count": 36
        }
      ]
    },
    {
      "cell_type": "code",
      "metadata": {
        "id": "oFNNv5lvh6C0"
      },
      "source": [
        "#dictionary of colors for app\r\n",
        "#original background color was #111111\r\n",
        "colors = {'background': '#18191A',\r\n",
        "          'text':'#E4E6EB',\r\n",
        "          'text2':'#B0B3BB',\r\n",
        "          'paper_bgcolor':'#242526',\r\n",
        "          'plot_bgcolor':'#242526'\r\n",
        "          }"
      ],
      "execution_count": 18,
      "outputs": []
    },
    {
      "cell_type": "code",
      "metadata": {
        "id": "Pjnt3LdtlKJn"
      },
      "source": [
        "#getting max value in Total column to use as max for x-range in plot\n",
        "eth_viz_max = ethnicity_viz['Total'].max()"
      ],
      "execution_count": 19,
      "outputs": []
    },
    {
      "cell_type": "code",
      "metadata": {
        "id": "_e_kodUklyC7"
      },
      "source": [
        "#function to create barplot for ethnicity data\n",
        "def create_ethnicity_barplot(date, column_name):\n",
        "  ethnicity_plot = ethnicity_viz[ethnicity_viz['Date'] == date].reset_index(drop=True)\n",
        "  index = ethnicity_plot[ethnicity_plot[column_name] == ethnicity_plot[column_name].max()].index.values[0]  \n",
        "  \n",
        "  bar_colors = ['#4b4c4f']*ethnicity_plot.shape[0]\n",
        "  bar_colors[index] = '#ed2009'\n",
        "    \n",
        "  fig = px.bar(ethnicity_plot,\n",
        "               x = column_name,\n",
        "               y = 'Ethnicity',\n",
        "               opacity = 0.65,\n",
        "               range_x = [0,eth_viz_max], #max for range calculated based on max from dataframe\n",
        "               color = 'Ethnicity',\n",
        "               color_discrete_sequence = bar_colors,\n",
        "               orientation = 'h',\n",
        "               template = 'plotly_dark',\n",
        "               title = 'Cases by Ethnicity')\n",
        "               \n",
        "  \n",
        "  fig.update_layout(\n",
        "      hovermode = 'closest',\n",
        "      font_family = 'Courier',\n",
        "      font_color = 'white',\n",
        "      title_font_size = 24,\n",
        "      xaxis = dict(title=None),\n",
        "      yaxis = dict(title=None),\n",
        "      showlegend = False,\n",
        "      paper_bgcolor = colors['paper_bgcolor'],\n",
        "      plot_bgcolor = colors['plot_bgcolor'])\n",
        "\n",
        "  return fig"
      ],
      "execution_count": 20,
      "outputs": []
    },
    {
      "cell_type": "code",
      "metadata": {
        "id": "xB-q7ke5mrgD",
        "colab": {
          "base_uri": "https://localhost:8080/",
          "height": 542
        },
        "outputId": "f41de79c-0728-4798-b5a4-fc73c0f9bb9b"
      },
      "source": [
        "create_ethnicity_barplot('December 15, 2020','Community')"
      ],
      "execution_count": 22,
      "outputs": [
        {
          "output_type": "display_data",
          "data": {
            "text/html": [
              "<html>\n",
              "<head><meta charset=\"utf-8\" /></head>\n",
              "<body>\n",
              "    <div>            <script src=\"https://cdnjs.cloudflare.com/ajax/libs/mathjax/2.7.5/MathJax.js?config=TeX-AMS-MML_SVG\"></script><script type=\"text/javascript\">if (window.MathJax) {MathJax.Hub.Config({SVG: {font: \"STIX-Web\"}});}</script>                <script type=\"text/javascript\">window.PlotlyConfig = {MathJaxConfig: 'local'};</script>\n",
              "        <script src=\"https://cdn.plot.ly/plotly-latest.min.js\"></script>                <div id=\"59006233-cc48-4b3c-9cfa-61294ff89738\" class=\"plotly-graph-div\" style=\"height:525px; width:100%;\"></div>            <script type=\"text/javascript\">                                    window.PLOTLYENV=window.PLOTLYENV || {};                                    if (document.getElementById(\"59006233-cc48-4b3c-9cfa-61294ff89738\")) {                    Plotly.newPlot(                        \"59006233-cc48-4b3c-9cfa-61294ff89738\",                        [{\"alignmentgroup\": \"True\", \"hovertemplate\": \"Ethnicity=%{y}<br>Community=%{x}<extra></extra>\", \"legendgroup\": \"Hispanic/Latino\", \"marker\": {\"color\": \"#ed2009\", \"opacity\": 0.65}, \"name\": \"Hispanic/Latino\", \"offsetgroup\": \"Hispanic/Latino\", \"orientation\": \"h\", \"showlegend\": true, \"textposition\": \"auto\", \"type\": \"bar\", \"x\": [7210.0], \"xaxis\": \"x\", \"y\": [\"Hispanic/Latino\"], \"yaxis\": \"y\"}, {\"alignmentgroup\": \"True\", \"hovertemplate\": \"Ethnicity=%{y}<br>Community=%{x}<extra></extra>\", \"legendgroup\": \"White\", \"marker\": {\"color\": \"#4b4c4f\", \"opacity\": 0.65}, \"name\": \"White\", \"offsetgroup\": \"White\", \"orientation\": \"h\", \"showlegend\": true, \"textposition\": \"auto\", \"type\": \"bar\", \"x\": [1861.0], \"xaxis\": \"x\", \"y\": [\"White\"], \"yaxis\": \"y\"}, {\"alignmentgroup\": \"True\", \"hovertemplate\": \"Ethnicity=%{y}<br>Community=%{x}<extra></extra>\", \"legendgroup\": \"Asian\", \"marker\": {\"color\": \"#4b4c4f\", \"opacity\": 0.65}, \"name\": \"Asian\", \"offsetgroup\": \"Asian\", \"orientation\": \"h\", \"showlegend\": true, \"textposition\": \"auto\", \"type\": \"bar\", \"x\": [233.0], \"xaxis\": \"x\", \"y\": [\"Asian\"], \"yaxis\": \"y\"}, {\"alignmentgroup\": \"True\", \"hovertemplate\": \"Ethnicity=%{y}<br>Community=%{x}<extra></extra>\", \"legendgroup\": \"Black/African American\", \"marker\": {\"color\": \"#4b4c4f\", \"opacity\": 0.65}, \"name\": \"Black/African American\", \"offsetgroup\": \"Black/African American\", \"orientation\": \"h\", \"showlegend\": true, \"textposition\": \"auto\", \"type\": \"bar\", \"x\": [92.0], \"xaxis\": \"x\", \"y\": [\"Black/African American\"], \"yaxis\": \"y\"}, {\"alignmentgroup\": \"True\", \"hovertemplate\": \"Ethnicity=%{y}<br>Community=%{x}<extra></extra>\", \"legendgroup\": \"American Indian/Native Alaskan\", \"marker\": {\"color\": \"#4b4c4f\", \"opacity\": 0.65}, \"name\": \"American Indian/Native Alaskan\", \"offsetgroup\": \"American Indian/Native Alaskan\", \"orientation\": \"h\", \"showlegend\": true, \"textposition\": \"auto\", \"type\": \"bar\", \"x\": [8.0], \"xaxis\": \"x\", \"y\": [\"American Indian/Native Alaskan\"], \"yaxis\": \"y\"}, {\"alignmentgroup\": \"True\", \"hovertemplate\": \"Ethnicity=%{y}<br>Community=%{x}<extra></extra>\", \"legendgroup\": \"Native Hawaiian or Pacific Islander\", \"marker\": {\"color\": \"#4b4c4f\", \"opacity\": 0.65}, \"name\": \"Native Hawaiian or Pacific Islander\", \"offsetgroup\": \"Native Hawaiian or Pacific Islander\", \"orientation\": \"h\", \"showlegend\": true, \"textposition\": \"auto\", \"type\": \"bar\", \"x\": [10.0], \"xaxis\": \"x\", \"y\": [\"Native Hawaiian or Pacific Islander\"], \"yaxis\": \"y\"}, {\"alignmentgroup\": \"True\", \"hovertemplate\": \"Ethnicity=%{y}<br>Community=%{x}<extra></extra>\", \"legendgroup\": \"Multiracial\", \"marker\": {\"color\": \"#4b4c4f\", \"opacity\": 0.65}, \"name\": \"Multiracial\", \"offsetgroup\": \"Multiracial\", \"orientation\": \"h\", \"showlegend\": true, \"textposition\": \"auto\", \"type\": \"bar\", \"x\": [144.0], \"xaxis\": \"x\", \"y\": [\"Multiracial\"], \"yaxis\": \"y\"}],                        {\"barmode\": \"relative\", \"font\": {\"color\": \"white\", \"family\": \"Courier\"}, \"hovermode\": \"closest\", \"legend\": {\"title\": {\"text\": \"Ethnicity\"}, \"tracegroupgap\": 0}, \"paper_bgcolor\": \"#242526\", \"plot_bgcolor\": \"#242526\", \"showlegend\": false, \"template\": {\"data\": {\"bar\": [{\"error_x\": {\"color\": \"#f2f5fa\"}, \"error_y\": {\"color\": \"#f2f5fa\"}, \"marker\": {\"line\": {\"color\": \"rgb(17,17,17)\", \"width\": 0.5}}, \"type\": \"bar\"}], \"barpolar\": [{\"marker\": {\"line\": {\"color\": \"rgb(17,17,17)\", \"width\": 0.5}}, \"type\": \"barpolar\"}], \"carpet\": [{\"aaxis\": {\"endlinecolor\": \"#A2B1C6\", \"gridcolor\": \"#506784\", \"linecolor\": \"#506784\", \"minorgridcolor\": \"#506784\", \"startlinecolor\": \"#A2B1C6\"}, \"baxis\": {\"endlinecolor\": \"#A2B1C6\", \"gridcolor\": \"#506784\", \"linecolor\": \"#506784\", \"minorgridcolor\": \"#506784\", \"startlinecolor\": \"#A2B1C6\"}, \"type\": \"carpet\"}], \"choropleth\": [{\"colorbar\": {\"outlinewidth\": 0, \"ticks\": \"\"}, \"type\": \"choropleth\"}], \"contour\": [{\"colorbar\": {\"outlinewidth\": 0, \"ticks\": \"\"}, \"colorscale\": [[0.0, \"#0d0887\"], [0.1111111111111111, \"#46039f\"], [0.2222222222222222, \"#7201a8\"], [0.3333333333333333, \"#9c179e\"], [0.4444444444444444, \"#bd3786\"], [0.5555555555555556, \"#d8576b\"], [0.6666666666666666, \"#ed7953\"], [0.7777777777777778, \"#fb9f3a\"], [0.8888888888888888, \"#fdca26\"], [1.0, \"#f0f921\"]], \"type\": \"contour\"}], \"contourcarpet\": [{\"colorbar\": {\"outlinewidth\": 0, \"ticks\": \"\"}, \"type\": \"contourcarpet\"}], \"heatmap\": [{\"colorbar\": {\"outlinewidth\": 0, \"ticks\": \"\"}, \"colorscale\": [[0.0, \"#0d0887\"], [0.1111111111111111, \"#46039f\"], [0.2222222222222222, \"#7201a8\"], [0.3333333333333333, \"#9c179e\"], [0.4444444444444444, \"#bd3786\"], [0.5555555555555556, \"#d8576b\"], [0.6666666666666666, \"#ed7953\"], [0.7777777777777778, \"#fb9f3a\"], [0.8888888888888888, \"#fdca26\"], [1.0, \"#f0f921\"]], \"type\": \"heatmap\"}], \"heatmapgl\": [{\"colorbar\": {\"outlinewidth\": 0, \"ticks\": \"\"}, \"colorscale\": [[0.0, \"#0d0887\"], [0.1111111111111111, \"#46039f\"], [0.2222222222222222, \"#7201a8\"], [0.3333333333333333, \"#9c179e\"], [0.4444444444444444, \"#bd3786\"], [0.5555555555555556, \"#d8576b\"], [0.6666666666666666, \"#ed7953\"], [0.7777777777777778, \"#fb9f3a\"], [0.8888888888888888, \"#fdca26\"], [1.0, \"#f0f921\"]], \"type\": \"heatmapgl\"}], \"histogram\": [{\"marker\": {\"colorbar\": {\"outlinewidth\": 0, \"ticks\": \"\"}}, \"type\": \"histogram\"}], \"histogram2d\": [{\"colorbar\": {\"outlinewidth\": 0, \"ticks\": \"\"}, \"colorscale\": [[0.0, \"#0d0887\"], [0.1111111111111111, \"#46039f\"], [0.2222222222222222, \"#7201a8\"], [0.3333333333333333, \"#9c179e\"], [0.4444444444444444, \"#bd3786\"], [0.5555555555555556, \"#d8576b\"], [0.6666666666666666, \"#ed7953\"], [0.7777777777777778, \"#fb9f3a\"], [0.8888888888888888, \"#fdca26\"], [1.0, \"#f0f921\"]], \"type\": \"histogram2d\"}], \"histogram2dcontour\": [{\"colorbar\": {\"outlinewidth\": 0, \"ticks\": \"\"}, \"colorscale\": [[0.0, \"#0d0887\"], [0.1111111111111111, \"#46039f\"], [0.2222222222222222, \"#7201a8\"], [0.3333333333333333, \"#9c179e\"], [0.4444444444444444, \"#bd3786\"], [0.5555555555555556, \"#d8576b\"], [0.6666666666666666, \"#ed7953\"], [0.7777777777777778, \"#fb9f3a\"], [0.8888888888888888, \"#fdca26\"], [1.0, \"#f0f921\"]], \"type\": \"histogram2dcontour\"}], \"mesh3d\": [{\"colorbar\": {\"outlinewidth\": 0, \"ticks\": \"\"}, \"type\": \"mesh3d\"}], \"parcoords\": [{\"line\": {\"colorbar\": {\"outlinewidth\": 0, \"ticks\": \"\"}}, \"type\": \"parcoords\"}], \"pie\": [{\"automargin\": true, \"type\": \"pie\"}], \"scatter\": [{\"marker\": {\"line\": {\"color\": \"#283442\"}}, \"type\": \"scatter\"}], \"scatter3d\": [{\"line\": {\"colorbar\": {\"outlinewidth\": 0, \"ticks\": \"\"}}, \"marker\": {\"colorbar\": {\"outlinewidth\": 0, \"ticks\": \"\"}}, \"type\": \"scatter3d\"}], \"scattercarpet\": [{\"marker\": {\"colorbar\": {\"outlinewidth\": 0, \"ticks\": \"\"}}, \"type\": \"scattercarpet\"}], \"scattergeo\": [{\"marker\": {\"colorbar\": {\"outlinewidth\": 0, \"ticks\": \"\"}}, \"type\": \"scattergeo\"}], \"scattergl\": [{\"marker\": {\"line\": {\"color\": \"#283442\"}}, \"type\": \"scattergl\"}], \"scattermapbox\": [{\"marker\": {\"colorbar\": {\"outlinewidth\": 0, \"ticks\": \"\"}}, \"type\": \"scattermapbox\"}], \"scatterpolar\": [{\"marker\": {\"colorbar\": {\"outlinewidth\": 0, \"ticks\": \"\"}}, \"type\": \"scatterpolar\"}], \"scatterpolargl\": [{\"marker\": {\"colorbar\": {\"outlinewidth\": 0, \"ticks\": \"\"}}, \"type\": \"scatterpolargl\"}], \"scatterternary\": [{\"marker\": {\"colorbar\": {\"outlinewidth\": 0, \"ticks\": \"\"}}, \"type\": \"scatterternary\"}], \"surface\": [{\"colorbar\": {\"outlinewidth\": 0, \"ticks\": \"\"}, \"colorscale\": [[0.0, \"#0d0887\"], [0.1111111111111111, \"#46039f\"], [0.2222222222222222, \"#7201a8\"], [0.3333333333333333, \"#9c179e\"], [0.4444444444444444, \"#bd3786\"], [0.5555555555555556, \"#d8576b\"], [0.6666666666666666, \"#ed7953\"], [0.7777777777777778, \"#fb9f3a\"], [0.8888888888888888, \"#fdca26\"], [1.0, \"#f0f921\"]], \"type\": \"surface\"}], \"table\": [{\"cells\": {\"fill\": {\"color\": \"#506784\"}, \"line\": {\"color\": \"rgb(17,17,17)\"}}, \"header\": {\"fill\": {\"color\": \"#2a3f5f\"}, \"line\": {\"color\": \"rgb(17,17,17)\"}}, \"type\": \"table\"}]}, \"layout\": {\"annotationdefaults\": {\"arrowcolor\": \"#f2f5fa\", \"arrowhead\": 0, \"arrowwidth\": 1}, \"coloraxis\": {\"colorbar\": {\"outlinewidth\": 0, \"ticks\": \"\"}}, \"colorscale\": {\"diverging\": [[0, \"#8e0152\"], [0.1, \"#c51b7d\"], [0.2, \"#de77ae\"], [0.3, \"#f1b6da\"], [0.4, \"#fde0ef\"], [0.5, \"#f7f7f7\"], [0.6, \"#e6f5d0\"], [0.7, \"#b8e186\"], [0.8, \"#7fbc41\"], [0.9, \"#4d9221\"], [1, \"#276419\"]], \"sequential\": [[0.0, \"#0d0887\"], [0.1111111111111111, \"#46039f\"], [0.2222222222222222, \"#7201a8\"], [0.3333333333333333, \"#9c179e\"], [0.4444444444444444, \"#bd3786\"], [0.5555555555555556, \"#d8576b\"], [0.6666666666666666, \"#ed7953\"], [0.7777777777777778, \"#fb9f3a\"], [0.8888888888888888, \"#fdca26\"], [1.0, \"#f0f921\"]], \"sequentialminus\": [[0.0, \"#0d0887\"], [0.1111111111111111, \"#46039f\"], [0.2222222222222222, \"#7201a8\"], [0.3333333333333333, \"#9c179e\"], [0.4444444444444444, \"#bd3786\"], [0.5555555555555556, \"#d8576b\"], [0.6666666666666666, \"#ed7953\"], [0.7777777777777778, \"#fb9f3a\"], [0.8888888888888888, \"#fdca26\"], [1.0, \"#f0f921\"]]}, \"colorway\": [\"#636efa\", \"#EF553B\", \"#00cc96\", \"#ab63fa\", \"#FFA15A\", \"#19d3f3\", \"#FF6692\", \"#B6E880\", \"#FF97FF\", \"#FECB52\"], \"font\": {\"color\": \"#f2f5fa\"}, \"geo\": {\"bgcolor\": \"rgb(17,17,17)\", \"lakecolor\": \"rgb(17,17,17)\", \"landcolor\": \"rgb(17,17,17)\", \"showlakes\": true, \"showland\": true, \"subunitcolor\": \"#506784\"}, \"hoverlabel\": {\"align\": \"left\"}, \"hovermode\": \"closest\", \"mapbox\": {\"style\": \"dark\"}, \"paper_bgcolor\": \"rgb(17,17,17)\", \"plot_bgcolor\": \"rgb(17,17,17)\", \"polar\": {\"angularaxis\": {\"gridcolor\": \"#506784\", \"linecolor\": \"#506784\", \"ticks\": \"\"}, \"bgcolor\": \"rgb(17,17,17)\", \"radialaxis\": {\"gridcolor\": \"#506784\", \"linecolor\": \"#506784\", \"ticks\": \"\"}}, \"scene\": {\"xaxis\": {\"backgroundcolor\": \"rgb(17,17,17)\", \"gridcolor\": \"#506784\", \"gridwidth\": 2, \"linecolor\": \"#506784\", \"showbackground\": true, \"ticks\": \"\", \"zerolinecolor\": \"#C8D4E3\"}, \"yaxis\": {\"backgroundcolor\": \"rgb(17,17,17)\", \"gridcolor\": \"#506784\", \"gridwidth\": 2, \"linecolor\": \"#506784\", \"showbackground\": true, \"ticks\": \"\", \"zerolinecolor\": \"#C8D4E3\"}, \"zaxis\": {\"backgroundcolor\": \"rgb(17,17,17)\", \"gridcolor\": \"#506784\", \"gridwidth\": 2, \"linecolor\": \"#506784\", \"showbackground\": true, \"ticks\": \"\", \"zerolinecolor\": \"#C8D4E3\"}}, \"shapedefaults\": {\"line\": {\"color\": \"#f2f5fa\"}}, \"sliderdefaults\": {\"bgcolor\": \"#C8D4E3\", \"bordercolor\": \"rgb(17,17,17)\", \"borderwidth\": 1, \"tickwidth\": 0}, \"ternary\": {\"aaxis\": {\"gridcolor\": \"#506784\", \"linecolor\": \"#506784\", \"ticks\": \"\"}, \"baxis\": {\"gridcolor\": \"#506784\", \"linecolor\": \"#506784\", \"ticks\": \"\"}, \"bgcolor\": \"rgb(17,17,17)\", \"caxis\": {\"gridcolor\": \"#506784\", \"linecolor\": \"#506784\", \"ticks\": \"\"}}, \"title\": {\"x\": 0.05}, \"updatemenudefaults\": {\"bgcolor\": \"#506784\", \"borderwidth\": 0}, \"xaxis\": {\"automargin\": true, \"gridcolor\": \"#283442\", \"linecolor\": \"#506784\", \"ticks\": \"\", \"title\": {\"standoff\": 15}, \"zerolinecolor\": \"#283442\", \"zerolinewidth\": 2}, \"yaxis\": {\"automargin\": true, \"gridcolor\": \"#283442\", \"linecolor\": \"#506784\", \"ticks\": \"\", \"title\": {\"standoff\": 15}, \"zerolinecolor\": \"#283442\", \"zerolinewidth\": 2}}}, \"title\": {\"font\": {\"size\": 24}, \"text\": \"Cases by Ethnicity\"}, \"xaxis\": {\"anchor\": \"y\", \"domain\": [0.0, 1.0], \"range\": [0, 7583.0], \"title\": {}}, \"yaxis\": {\"anchor\": \"x\", \"categoryarray\": [\"Multiracial\", \"Native Hawaiian or Pacific Islander\", \"American Indian/Native Alaskan\", \"Black/African American\", \"Asian\", \"White\", \"Hispanic/Latino\"], \"categoryorder\": \"array\", \"domain\": [0.0, 1.0], \"title\": {}}},                        {\"responsive\": true}                    ).then(function(){\n",
              "                            \n",
              "var gd = document.getElementById('59006233-cc48-4b3c-9cfa-61294ff89738');\n",
              "var x = new MutationObserver(function (mutations, observer) {{\n",
              "        var display = window.getComputedStyle(gd).display;\n",
              "        if (!display || display === 'none') {{\n",
              "            console.log([gd, 'removed!']);\n",
              "            Plotly.purge(gd);\n",
              "            observer.disconnect();\n",
              "        }}\n",
              "}});\n",
              "\n",
              "// Listen for the removal of the full notebook cells\n",
              "var notebookContainer = gd.closest('#notebook-container');\n",
              "if (notebookContainer) {{\n",
              "    x.observe(notebookContainer, {childList: true});\n",
              "}}\n",
              "\n",
              "// Listen for the clearing of the current output cell\n",
              "var outputEl = gd.closest('.output');\n",
              "if (outputEl) {{\n",
              "    x.observe(outputEl, {childList: true});\n",
              "}}\n",
              "\n",
              "                        })                };                            </script>        </div>\n",
              "</body>\n",
              "</html>"
            ]
          },
          "metadata": {
            "tags": []
          }
        }
      ]
    },
    {
      "cell_type": "code",
      "metadata": {
        "id": "AiRV628_neNO",
        "colab": {
          "base_uri": "https://localhost:8080/",
          "height": 542
        },
        "outputId": "1a3f59f3-cbe8-42fc-c27a-34c9fbebdec5"
      },
      "source": [
        "create_ethnicity_barplot('December 15, 2020','Lompoc Federal Prison')"
      ],
      "execution_count": 37,
      "outputs": [
        {
          "output_type": "display_data",
          "data": {
            "text/html": [
              "<html>\n",
              "<head><meta charset=\"utf-8\" /></head>\n",
              "<body>\n",
              "    <div>            <script src=\"https://cdnjs.cloudflare.com/ajax/libs/mathjax/2.7.5/MathJax.js?config=TeX-AMS-MML_SVG\"></script><script type=\"text/javascript\">if (window.MathJax) {MathJax.Hub.Config({SVG: {font: \"STIX-Web\"}});}</script>                <script type=\"text/javascript\">window.PlotlyConfig = {MathJaxConfig: 'local'};</script>\n",
              "        <script src=\"https://cdn.plot.ly/plotly-latest.min.js\"></script>                <div id=\"ab7c4b34-3d96-40cf-9b41-dfb5d33a1af6\" class=\"plotly-graph-div\" style=\"height:525px; width:100%;\"></div>            <script type=\"text/javascript\">                                    window.PLOTLYENV=window.PLOTLYENV || {};                                    if (document.getElementById(\"ab7c4b34-3d96-40cf-9b41-dfb5d33a1af6\")) {                    Plotly.newPlot(                        \"ab7c4b34-3d96-40cf-9b41-dfb5d33a1af6\",                        [{\"alignmentgroup\": \"True\", \"hovertemplate\": \"Ethnicity=%{y}<br>Lompoc Federal Prison=%{x}<extra></extra>\", \"legendgroup\": \"Hispanic/Latino\", \"marker\": {\"color\": \"#4b4c4f\", \"opacity\": 0.65}, \"name\": \"Hispanic/Latino\", \"offsetgroup\": \"Hispanic/Latino\", \"orientation\": \"h\", \"showlegend\": true, \"textposition\": \"auto\", \"type\": \"bar\", \"x\": [373], \"xaxis\": \"x\", \"y\": [\"Hispanic/Latino\"], \"yaxis\": \"y\"}, {\"alignmentgroup\": \"True\", \"hovertemplate\": \"Ethnicity=%{y}<br>Lompoc Federal Prison=%{x}<extra></extra>\", \"legendgroup\": \"White\", \"marker\": {\"color\": \"#ed2009\", \"opacity\": 0.65}, \"name\": \"White\", \"offsetgroup\": \"White\", \"orientation\": \"h\", \"showlegend\": true, \"textposition\": \"auto\", \"type\": \"bar\", \"x\": [376], \"xaxis\": \"x\", \"y\": [\"White\"], \"yaxis\": \"y\"}, {\"alignmentgroup\": \"True\", \"hovertemplate\": \"Ethnicity=%{y}<br>Lompoc Federal Prison=%{x}<extra></extra>\", \"legendgroup\": \"Asian\", \"marker\": {\"color\": \"#4b4c4f\", \"opacity\": 0.65}, \"name\": \"Asian\", \"offsetgroup\": \"Asian\", \"orientation\": \"h\", \"showlegend\": true, \"textposition\": \"auto\", \"type\": \"bar\", \"x\": [51], \"xaxis\": \"x\", \"y\": [\"Asian\"], \"yaxis\": \"y\"}, {\"alignmentgroup\": \"True\", \"hovertemplate\": \"Ethnicity=%{y}<br>Lompoc Federal Prison=%{x}<extra></extra>\", \"legendgroup\": \"Black/African American\", \"marker\": {\"color\": \"#4b4c4f\", \"opacity\": 0.65}, \"name\": \"Black/African American\", \"offsetgroup\": \"Black/African American\", \"orientation\": \"h\", \"showlegend\": true, \"textposition\": \"auto\", \"type\": \"bar\", \"x\": [146], \"xaxis\": \"x\", \"y\": [\"Black/African American\"], \"yaxis\": \"y\"}, {\"alignmentgroup\": \"True\", \"hovertemplate\": \"Ethnicity=%{y}<br>Lompoc Federal Prison=%{x}<extra></extra>\", \"legendgroup\": \"American Indian/Native Alaskan\", \"marker\": {\"color\": \"#4b4c4f\", \"opacity\": 0.65}, \"name\": \"American Indian/Native Alaskan\", \"offsetgroup\": \"American Indian/Native Alaskan\", \"orientation\": \"h\", \"showlegend\": true, \"textposition\": \"auto\", \"type\": \"bar\", \"x\": [28], \"xaxis\": \"x\", \"y\": [\"American Indian/Native Alaskan\"], \"yaxis\": \"y\"}, {\"alignmentgroup\": \"True\", \"hovertemplate\": \"Ethnicity=%{y}<br>Lompoc Federal Prison=%{x}<extra></extra>\", \"legendgroup\": \"Native Hawaiian or Pacific Islander\", \"marker\": {\"color\": \"#4b4c4f\", \"opacity\": 0.65}, \"name\": \"Native Hawaiian or Pacific Islander\", \"offsetgroup\": \"Native Hawaiian or Pacific Islander\", \"orientation\": \"h\", \"showlegend\": true, \"textposition\": \"auto\", \"type\": \"bar\", \"x\": [2], \"xaxis\": \"x\", \"y\": [\"Native Hawaiian or Pacific Islander\"], \"yaxis\": \"y\"}, {\"alignmentgroup\": \"True\", \"hovertemplate\": \"Ethnicity=%{y}<br>Lompoc Federal Prison=%{x}<extra></extra>\", \"legendgroup\": \"Multiracial\", \"marker\": {\"color\": \"#4b4c4f\", \"opacity\": 0.65}, \"name\": \"Multiracial\", \"offsetgroup\": \"Multiracial\", \"orientation\": \"h\", \"showlegend\": true, \"textposition\": \"auto\", \"type\": \"bar\", \"x\": [1], \"xaxis\": \"x\", \"y\": [\"Multiracial\"], \"yaxis\": \"y\"}],                        {\"barmode\": \"relative\", \"font\": {\"color\": \"white\", \"family\": \"Courier\"}, \"hovermode\": \"closest\", \"legend\": {\"title\": {\"text\": \"Ethnicity\"}, \"tracegroupgap\": 0}, \"paper_bgcolor\": \"#242526\", \"plot_bgcolor\": \"#242526\", \"showlegend\": false, \"template\": {\"data\": {\"bar\": [{\"error_x\": {\"color\": \"#f2f5fa\"}, \"error_y\": {\"color\": \"#f2f5fa\"}, \"marker\": {\"line\": {\"color\": \"rgb(17,17,17)\", \"width\": 0.5}}, \"type\": \"bar\"}], \"barpolar\": [{\"marker\": {\"line\": {\"color\": \"rgb(17,17,17)\", \"width\": 0.5}}, \"type\": \"barpolar\"}], \"carpet\": [{\"aaxis\": {\"endlinecolor\": \"#A2B1C6\", \"gridcolor\": \"#506784\", \"linecolor\": \"#506784\", \"minorgridcolor\": \"#506784\", \"startlinecolor\": \"#A2B1C6\"}, \"baxis\": {\"endlinecolor\": \"#A2B1C6\", \"gridcolor\": \"#506784\", \"linecolor\": \"#506784\", \"minorgridcolor\": \"#506784\", \"startlinecolor\": \"#A2B1C6\"}, \"type\": \"carpet\"}], \"choropleth\": [{\"colorbar\": {\"outlinewidth\": 0, \"ticks\": \"\"}, \"type\": \"choropleth\"}], \"contour\": [{\"colorbar\": {\"outlinewidth\": 0, \"ticks\": \"\"}, \"colorscale\": [[0.0, \"#0d0887\"], [0.1111111111111111, \"#46039f\"], [0.2222222222222222, \"#7201a8\"], [0.3333333333333333, \"#9c179e\"], [0.4444444444444444, \"#bd3786\"], [0.5555555555555556, \"#d8576b\"], [0.6666666666666666, \"#ed7953\"], [0.7777777777777778, \"#fb9f3a\"], [0.8888888888888888, \"#fdca26\"], [1.0, \"#f0f921\"]], \"type\": \"contour\"}], \"contourcarpet\": [{\"colorbar\": {\"outlinewidth\": 0, \"ticks\": \"\"}, \"type\": \"contourcarpet\"}], \"heatmap\": [{\"colorbar\": {\"outlinewidth\": 0, \"ticks\": \"\"}, \"colorscale\": [[0.0, \"#0d0887\"], [0.1111111111111111, \"#46039f\"], [0.2222222222222222, \"#7201a8\"], [0.3333333333333333, \"#9c179e\"], [0.4444444444444444, \"#bd3786\"], [0.5555555555555556, \"#d8576b\"], [0.6666666666666666, \"#ed7953\"], [0.7777777777777778, \"#fb9f3a\"], [0.8888888888888888, \"#fdca26\"], [1.0, \"#f0f921\"]], \"type\": \"heatmap\"}], \"heatmapgl\": [{\"colorbar\": {\"outlinewidth\": 0, \"ticks\": \"\"}, \"colorscale\": [[0.0, \"#0d0887\"], [0.1111111111111111, \"#46039f\"], [0.2222222222222222, \"#7201a8\"], [0.3333333333333333, \"#9c179e\"], [0.4444444444444444, \"#bd3786\"], [0.5555555555555556, \"#d8576b\"], [0.6666666666666666, \"#ed7953\"], [0.7777777777777778, \"#fb9f3a\"], [0.8888888888888888, \"#fdca26\"], [1.0, \"#f0f921\"]], \"type\": \"heatmapgl\"}], \"histogram\": [{\"marker\": {\"colorbar\": {\"outlinewidth\": 0, \"ticks\": \"\"}}, \"type\": \"histogram\"}], \"histogram2d\": [{\"colorbar\": {\"outlinewidth\": 0, \"ticks\": \"\"}, \"colorscale\": [[0.0, \"#0d0887\"], [0.1111111111111111, \"#46039f\"], [0.2222222222222222, \"#7201a8\"], [0.3333333333333333, \"#9c179e\"], [0.4444444444444444, \"#bd3786\"], [0.5555555555555556, \"#d8576b\"], [0.6666666666666666, \"#ed7953\"], [0.7777777777777778, \"#fb9f3a\"], [0.8888888888888888, \"#fdca26\"], [1.0, \"#f0f921\"]], \"type\": \"histogram2d\"}], \"histogram2dcontour\": [{\"colorbar\": {\"outlinewidth\": 0, \"ticks\": \"\"}, \"colorscale\": [[0.0, \"#0d0887\"], [0.1111111111111111, \"#46039f\"], [0.2222222222222222, \"#7201a8\"], [0.3333333333333333, \"#9c179e\"], [0.4444444444444444, \"#bd3786\"], [0.5555555555555556, \"#d8576b\"], [0.6666666666666666, \"#ed7953\"], [0.7777777777777778, \"#fb9f3a\"], [0.8888888888888888, \"#fdca26\"], [1.0, \"#f0f921\"]], \"type\": \"histogram2dcontour\"}], \"mesh3d\": [{\"colorbar\": {\"outlinewidth\": 0, \"ticks\": \"\"}, \"type\": \"mesh3d\"}], \"parcoords\": [{\"line\": {\"colorbar\": {\"outlinewidth\": 0, \"ticks\": \"\"}}, \"type\": \"parcoords\"}], \"pie\": [{\"automargin\": true, \"type\": \"pie\"}], \"scatter\": [{\"marker\": {\"line\": {\"color\": \"#283442\"}}, \"type\": \"scatter\"}], \"scatter3d\": [{\"line\": {\"colorbar\": {\"outlinewidth\": 0, \"ticks\": \"\"}}, \"marker\": {\"colorbar\": {\"outlinewidth\": 0, \"ticks\": \"\"}}, \"type\": \"scatter3d\"}], \"scattercarpet\": [{\"marker\": {\"colorbar\": {\"outlinewidth\": 0, \"ticks\": \"\"}}, \"type\": \"scattercarpet\"}], \"scattergeo\": [{\"marker\": {\"colorbar\": {\"outlinewidth\": 0, \"ticks\": \"\"}}, \"type\": \"scattergeo\"}], \"scattergl\": [{\"marker\": {\"line\": {\"color\": \"#283442\"}}, \"type\": \"scattergl\"}], \"scattermapbox\": [{\"marker\": {\"colorbar\": {\"outlinewidth\": 0, \"ticks\": \"\"}}, \"type\": \"scattermapbox\"}], \"scatterpolar\": [{\"marker\": {\"colorbar\": {\"outlinewidth\": 0, \"ticks\": \"\"}}, \"type\": \"scatterpolar\"}], \"scatterpolargl\": [{\"marker\": {\"colorbar\": {\"outlinewidth\": 0, \"ticks\": \"\"}}, \"type\": \"scatterpolargl\"}], \"scatterternary\": [{\"marker\": {\"colorbar\": {\"outlinewidth\": 0, \"ticks\": \"\"}}, \"type\": \"scatterternary\"}], \"surface\": [{\"colorbar\": {\"outlinewidth\": 0, \"ticks\": \"\"}, \"colorscale\": [[0.0, \"#0d0887\"], [0.1111111111111111, \"#46039f\"], [0.2222222222222222, \"#7201a8\"], [0.3333333333333333, \"#9c179e\"], [0.4444444444444444, \"#bd3786\"], [0.5555555555555556, \"#d8576b\"], [0.6666666666666666, \"#ed7953\"], [0.7777777777777778, \"#fb9f3a\"], [0.8888888888888888, \"#fdca26\"], [1.0, \"#f0f921\"]], \"type\": \"surface\"}], \"table\": [{\"cells\": {\"fill\": {\"color\": \"#506784\"}, \"line\": {\"color\": \"rgb(17,17,17)\"}}, \"header\": {\"fill\": {\"color\": \"#2a3f5f\"}, \"line\": {\"color\": \"rgb(17,17,17)\"}}, \"type\": \"table\"}]}, \"layout\": {\"annotationdefaults\": {\"arrowcolor\": \"#f2f5fa\", \"arrowhead\": 0, \"arrowwidth\": 1}, \"coloraxis\": {\"colorbar\": {\"outlinewidth\": 0, \"ticks\": \"\"}}, \"colorscale\": {\"diverging\": [[0, \"#8e0152\"], [0.1, \"#c51b7d\"], [0.2, \"#de77ae\"], [0.3, \"#f1b6da\"], [0.4, \"#fde0ef\"], [0.5, \"#f7f7f7\"], [0.6, \"#e6f5d0\"], [0.7, \"#b8e186\"], [0.8, \"#7fbc41\"], [0.9, \"#4d9221\"], [1, \"#276419\"]], \"sequential\": [[0.0, \"#0d0887\"], [0.1111111111111111, \"#46039f\"], [0.2222222222222222, \"#7201a8\"], [0.3333333333333333, \"#9c179e\"], [0.4444444444444444, \"#bd3786\"], [0.5555555555555556, \"#d8576b\"], [0.6666666666666666, \"#ed7953\"], [0.7777777777777778, \"#fb9f3a\"], [0.8888888888888888, \"#fdca26\"], [1.0, \"#f0f921\"]], \"sequentialminus\": [[0.0, \"#0d0887\"], [0.1111111111111111, \"#46039f\"], [0.2222222222222222, \"#7201a8\"], [0.3333333333333333, \"#9c179e\"], [0.4444444444444444, \"#bd3786\"], [0.5555555555555556, \"#d8576b\"], [0.6666666666666666, \"#ed7953\"], [0.7777777777777778, \"#fb9f3a\"], [0.8888888888888888, \"#fdca26\"], [1.0, \"#f0f921\"]]}, \"colorway\": [\"#636efa\", \"#EF553B\", \"#00cc96\", \"#ab63fa\", \"#FFA15A\", \"#19d3f3\", \"#FF6692\", \"#B6E880\", \"#FF97FF\", \"#FECB52\"], \"font\": {\"color\": \"#f2f5fa\"}, \"geo\": {\"bgcolor\": \"rgb(17,17,17)\", \"lakecolor\": \"rgb(17,17,17)\", \"landcolor\": \"rgb(17,17,17)\", \"showlakes\": true, \"showland\": true, \"subunitcolor\": \"#506784\"}, \"hoverlabel\": {\"align\": \"left\"}, \"hovermode\": \"closest\", \"mapbox\": {\"style\": \"dark\"}, \"paper_bgcolor\": \"rgb(17,17,17)\", \"plot_bgcolor\": \"rgb(17,17,17)\", \"polar\": {\"angularaxis\": {\"gridcolor\": \"#506784\", \"linecolor\": \"#506784\", \"ticks\": \"\"}, \"bgcolor\": \"rgb(17,17,17)\", \"radialaxis\": {\"gridcolor\": \"#506784\", \"linecolor\": \"#506784\", \"ticks\": \"\"}}, \"scene\": {\"xaxis\": {\"backgroundcolor\": \"rgb(17,17,17)\", \"gridcolor\": \"#506784\", \"gridwidth\": 2, \"linecolor\": \"#506784\", \"showbackground\": true, \"ticks\": \"\", \"zerolinecolor\": \"#C8D4E3\"}, \"yaxis\": {\"backgroundcolor\": \"rgb(17,17,17)\", \"gridcolor\": \"#506784\", \"gridwidth\": 2, \"linecolor\": \"#506784\", \"showbackground\": true, \"ticks\": \"\", \"zerolinecolor\": \"#C8D4E3\"}, \"zaxis\": {\"backgroundcolor\": \"rgb(17,17,17)\", \"gridcolor\": \"#506784\", \"gridwidth\": 2, \"linecolor\": \"#506784\", \"showbackground\": true, \"ticks\": \"\", \"zerolinecolor\": \"#C8D4E3\"}}, \"shapedefaults\": {\"line\": {\"color\": \"#f2f5fa\"}}, \"sliderdefaults\": {\"bgcolor\": \"#C8D4E3\", \"bordercolor\": \"rgb(17,17,17)\", \"borderwidth\": 1, \"tickwidth\": 0}, \"ternary\": {\"aaxis\": {\"gridcolor\": \"#506784\", \"linecolor\": \"#506784\", \"ticks\": \"\"}, \"baxis\": {\"gridcolor\": \"#506784\", \"linecolor\": \"#506784\", \"ticks\": \"\"}, \"bgcolor\": \"rgb(17,17,17)\", \"caxis\": {\"gridcolor\": \"#506784\", \"linecolor\": \"#506784\", \"ticks\": \"\"}}, \"title\": {\"x\": 0.05}, \"updatemenudefaults\": {\"bgcolor\": \"#506784\", \"borderwidth\": 0}, \"xaxis\": {\"automargin\": true, \"gridcolor\": \"#283442\", \"linecolor\": \"#506784\", \"ticks\": \"\", \"title\": {\"standoff\": 15}, \"zerolinecolor\": \"#283442\", \"zerolinewidth\": 2}, \"yaxis\": {\"automargin\": true, \"gridcolor\": \"#283442\", \"linecolor\": \"#506784\", \"ticks\": \"\", \"title\": {\"standoff\": 15}, \"zerolinecolor\": \"#283442\", \"zerolinewidth\": 2}}}, \"title\": {\"font\": {\"size\": 24}, \"text\": \"Cases by Ethnicity\"}, \"xaxis\": {\"anchor\": \"y\", \"domain\": [0.0, 1.0], \"range\": [0, 7583.0], \"title\": {}}, \"yaxis\": {\"anchor\": \"x\", \"categoryarray\": [\"Multiracial\", \"Native Hawaiian or Pacific Islander\", \"American Indian/Native Alaskan\", \"Black/African American\", \"Asian\", \"White\", \"Hispanic/Latino\"], \"categoryorder\": \"array\", \"domain\": [0.0, 1.0], \"title\": {}}},                        {\"responsive\": true}                    ).then(function(){\n",
              "                            \n",
              "var gd = document.getElementById('ab7c4b34-3d96-40cf-9b41-dfb5d33a1af6');\n",
              "var x = new MutationObserver(function (mutations, observer) {{\n",
              "        var display = window.getComputedStyle(gd).display;\n",
              "        if (!display || display === 'none') {{\n",
              "            console.log([gd, 'removed!']);\n",
              "            Plotly.purge(gd);\n",
              "            observer.disconnect();\n",
              "        }}\n",
              "}});\n",
              "\n",
              "// Listen for the removal of the full notebook cells\n",
              "var notebookContainer = gd.closest('#notebook-container');\n",
              "if (notebookContainer) {{\n",
              "    x.observe(notebookContainer, {childList: true});\n",
              "}}\n",
              "\n",
              "// Listen for the clearing of the current output cell\n",
              "var outputEl = gd.closest('.output');\n",
              "if (outputEl) {{\n",
              "    x.observe(outputEl, {childList: true});\n",
              "}}\n",
              "\n",
              "                        })                };                            </script>        </div>\n",
              "</body>\n",
              "</html>"
            ]
          },
          "metadata": {
            "tags": []
          }
        }
      ]
    },
    {
      "cell_type": "code",
      "metadata": {
        "id": "28cy0ZKXnjms",
        "colab": {
          "base_uri": "https://localhost:8080/",
          "height": 542
        },
        "outputId": "6d7c4c5d-b6f0-41dc-eaf1-e969f22a86dd"
      },
      "source": [
        "create_ethnicity_barplot('October 20, 2020','Total')"
      ],
      "execution_count": 38,
      "outputs": [
        {
          "output_type": "display_data",
          "data": {
            "text/html": [
              "<html>\n",
              "<head><meta charset=\"utf-8\" /></head>\n",
              "<body>\n",
              "    <div>            <script src=\"https://cdnjs.cloudflare.com/ajax/libs/mathjax/2.7.5/MathJax.js?config=TeX-AMS-MML_SVG\"></script><script type=\"text/javascript\">if (window.MathJax) {MathJax.Hub.Config({SVG: {font: \"STIX-Web\"}});}</script>                <script type=\"text/javascript\">window.PlotlyConfig = {MathJaxConfig: 'local'};</script>\n",
              "        <script src=\"https://cdn.plot.ly/plotly-latest.min.js\"></script>                <div id=\"d6d77d32-7b07-48ea-9e4f-673b8dffbcc5\" class=\"plotly-graph-div\" style=\"height:525px; width:100%;\"></div>            <script type=\"text/javascript\">                                    window.PLOTLYENV=window.PLOTLYENV || {};                                    if (document.getElementById(\"d6d77d32-7b07-48ea-9e4f-673b8dffbcc5\")) {                    Plotly.newPlot(                        \"d6d77d32-7b07-48ea-9e4f-673b8dffbcc5\",                        [{\"alignmentgroup\": \"True\", \"hovertemplate\": \"Ethnicity=%{y}<br>Total=%{x}<extra></extra>\", \"legendgroup\": \"Hispanic/Latino\", \"marker\": {\"color\": \"#ed2009\", \"opacity\": 0.65}, \"name\": \"Hispanic/Latino\", \"offsetgroup\": \"Hispanic/Latino\", \"orientation\": \"h\", \"showlegend\": true, \"textposition\": \"auto\", \"type\": \"bar\", \"x\": [5770.0], \"xaxis\": \"x\", \"y\": [\"Hispanic/Latino\"], \"yaxis\": \"y\"}, {\"alignmentgroup\": \"True\", \"hovertemplate\": \"Ethnicity=%{y}<br>Total=%{x}<extra></extra>\", \"legendgroup\": \"White\", \"marker\": {\"color\": \"#4b4c4f\", \"opacity\": 0.65}, \"name\": \"White\", \"offsetgroup\": \"White\", \"orientation\": \"h\", \"showlegend\": true, \"textposition\": \"auto\", \"type\": \"bar\", \"x\": [1295.0], \"xaxis\": \"x\", \"y\": [\"White\"], \"yaxis\": \"y\"}, {\"alignmentgroup\": \"True\", \"hovertemplate\": \"Ethnicity=%{y}<br>Total=%{x}<extra></extra>\", \"legendgroup\": \"Asian\", \"marker\": {\"color\": \"#4b4c4f\", \"opacity\": 0.65}, \"name\": \"Asian\", \"offsetgroup\": \"Asian\", \"orientation\": \"h\", \"showlegend\": true, \"textposition\": \"auto\", \"type\": \"bar\", \"x\": [170.0], \"xaxis\": \"x\", \"y\": [\"Asian\"], \"yaxis\": \"y\"}, {\"alignmentgroup\": \"True\", \"hovertemplate\": \"Ethnicity=%{y}<br>Total=%{x}<extra></extra>\", \"legendgroup\": \"Black/African American\", \"marker\": {\"color\": \"#4b4c4f\", \"opacity\": 0.65}, \"name\": \"Black/African American\", \"offsetgroup\": \"Black/African American\", \"orientation\": \"h\", \"showlegend\": true, \"textposition\": \"auto\", \"type\": \"bar\", \"x\": [194.0], \"xaxis\": \"x\", \"y\": [\"Black/African American\"], \"yaxis\": \"y\"}, {\"alignmentgroup\": \"True\", \"hovertemplate\": \"Ethnicity=%{y}<br>Total=%{x}<extra></extra>\", \"legendgroup\": \"American Indian/Native Alaskan\", \"marker\": {\"color\": \"#4b4c4f\", \"opacity\": 0.65}, \"name\": \"American Indian/Native Alaskan\", \"offsetgroup\": \"American Indian/Native Alaskan\", \"orientation\": \"h\", \"showlegend\": true, \"textposition\": \"auto\", \"type\": \"bar\", \"x\": [34.0], \"xaxis\": \"x\", \"y\": [\"American Indian/Native Alaskan\"], \"yaxis\": \"y\"}, {\"alignmentgroup\": \"True\", \"hovertemplate\": \"Ethnicity=%{y}<br>Total=%{x}<extra></extra>\", \"legendgroup\": \"Native Hawaiian or Pacific Islander\", \"marker\": {\"color\": \"#4b4c4f\", \"opacity\": 0.65}, \"name\": \"Native Hawaiian or Pacific Islander\", \"offsetgroup\": \"Native Hawaiian or Pacific Islander\", \"orientation\": \"h\", \"showlegend\": true, \"textposition\": \"auto\", \"type\": \"bar\", \"x\": [6.0], \"xaxis\": \"x\", \"y\": [\"Native Hawaiian or Pacific Islander\"], \"yaxis\": \"y\"}, {\"alignmentgroup\": \"True\", \"hovertemplate\": \"Ethnicity=%{y}<br>Total=%{x}<extra></extra>\", \"legendgroup\": \"Multiracial\", \"marker\": {\"color\": \"#4b4c4f\", \"opacity\": 0.65}, \"name\": \"Multiracial\", \"offsetgroup\": \"Multiracial\", \"orientation\": \"h\", \"showlegend\": true, \"textposition\": \"auto\", \"type\": \"bar\", \"x\": [85.0], \"xaxis\": \"x\", \"y\": [\"Multiracial\"], \"yaxis\": \"y\"}],                        {\"barmode\": \"relative\", \"font\": {\"color\": \"white\", \"family\": \"Courier\"}, \"hovermode\": \"closest\", \"legend\": {\"title\": {\"text\": \"Ethnicity\"}, \"tracegroupgap\": 0}, \"paper_bgcolor\": \"#242526\", \"plot_bgcolor\": \"#242526\", \"showlegend\": false, \"template\": {\"data\": {\"bar\": [{\"error_x\": {\"color\": \"#f2f5fa\"}, \"error_y\": {\"color\": \"#f2f5fa\"}, \"marker\": {\"line\": {\"color\": \"rgb(17,17,17)\", \"width\": 0.5}}, \"type\": \"bar\"}], \"barpolar\": [{\"marker\": {\"line\": {\"color\": \"rgb(17,17,17)\", \"width\": 0.5}}, \"type\": \"barpolar\"}], \"carpet\": [{\"aaxis\": {\"endlinecolor\": \"#A2B1C6\", \"gridcolor\": \"#506784\", \"linecolor\": \"#506784\", \"minorgridcolor\": \"#506784\", \"startlinecolor\": \"#A2B1C6\"}, \"baxis\": {\"endlinecolor\": \"#A2B1C6\", \"gridcolor\": \"#506784\", \"linecolor\": \"#506784\", \"minorgridcolor\": \"#506784\", \"startlinecolor\": \"#A2B1C6\"}, \"type\": \"carpet\"}], \"choropleth\": [{\"colorbar\": {\"outlinewidth\": 0, \"ticks\": \"\"}, \"type\": \"choropleth\"}], \"contour\": [{\"colorbar\": {\"outlinewidth\": 0, \"ticks\": \"\"}, \"colorscale\": [[0.0, \"#0d0887\"], [0.1111111111111111, \"#46039f\"], [0.2222222222222222, \"#7201a8\"], [0.3333333333333333, \"#9c179e\"], [0.4444444444444444, \"#bd3786\"], [0.5555555555555556, \"#d8576b\"], [0.6666666666666666, \"#ed7953\"], [0.7777777777777778, \"#fb9f3a\"], [0.8888888888888888, \"#fdca26\"], [1.0, \"#f0f921\"]], \"type\": \"contour\"}], \"contourcarpet\": [{\"colorbar\": {\"outlinewidth\": 0, \"ticks\": \"\"}, \"type\": \"contourcarpet\"}], \"heatmap\": [{\"colorbar\": {\"outlinewidth\": 0, \"ticks\": \"\"}, \"colorscale\": [[0.0, \"#0d0887\"], [0.1111111111111111, \"#46039f\"], [0.2222222222222222, \"#7201a8\"], [0.3333333333333333, \"#9c179e\"], [0.4444444444444444, \"#bd3786\"], [0.5555555555555556, \"#d8576b\"], [0.6666666666666666, \"#ed7953\"], [0.7777777777777778, \"#fb9f3a\"], [0.8888888888888888, \"#fdca26\"], [1.0, \"#f0f921\"]], \"type\": \"heatmap\"}], \"heatmapgl\": [{\"colorbar\": {\"outlinewidth\": 0, \"ticks\": \"\"}, \"colorscale\": [[0.0, \"#0d0887\"], [0.1111111111111111, \"#46039f\"], [0.2222222222222222, \"#7201a8\"], [0.3333333333333333, \"#9c179e\"], [0.4444444444444444, \"#bd3786\"], [0.5555555555555556, \"#d8576b\"], [0.6666666666666666, \"#ed7953\"], [0.7777777777777778, \"#fb9f3a\"], [0.8888888888888888, \"#fdca26\"], [1.0, \"#f0f921\"]], \"type\": \"heatmapgl\"}], \"histogram\": [{\"marker\": {\"colorbar\": {\"outlinewidth\": 0, \"ticks\": \"\"}}, \"type\": \"histogram\"}], \"histogram2d\": [{\"colorbar\": {\"outlinewidth\": 0, \"ticks\": \"\"}, \"colorscale\": [[0.0, \"#0d0887\"], [0.1111111111111111, \"#46039f\"], [0.2222222222222222, \"#7201a8\"], [0.3333333333333333, \"#9c179e\"], [0.4444444444444444, \"#bd3786\"], [0.5555555555555556, \"#d8576b\"], [0.6666666666666666, \"#ed7953\"], [0.7777777777777778, \"#fb9f3a\"], [0.8888888888888888, \"#fdca26\"], [1.0, \"#f0f921\"]], \"type\": \"histogram2d\"}], \"histogram2dcontour\": [{\"colorbar\": {\"outlinewidth\": 0, \"ticks\": \"\"}, \"colorscale\": [[0.0, \"#0d0887\"], [0.1111111111111111, \"#46039f\"], [0.2222222222222222, \"#7201a8\"], [0.3333333333333333, \"#9c179e\"], [0.4444444444444444, \"#bd3786\"], [0.5555555555555556, \"#d8576b\"], [0.6666666666666666, \"#ed7953\"], [0.7777777777777778, \"#fb9f3a\"], [0.8888888888888888, \"#fdca26\"], [1.0, \"#f0f921\"]], \"type\": \"histogram2dcontour\"}], \"mesh3d\": [{\"colorbar\": {\"outlinewidth\": 0, \"ticks\": \"\"}, \"type\": \"mesh3d\"}], \"parcoords\": [{\"line\": {\"colorbar\": {\"outlinewidth\": 0, \"ticks\": \"\"}}, \"type\": \"parcoords\"}], \"pie\": [{\"automargin\": true, \"type\": \"pie\"}], \"scatter\": [{\"marker\": {\"line\": {\"color\": \"#283442\"}}, \"type\": \"scatter\"}], \"scatter3d\": [{\"line\": {\"colorbar\": {\"outlinewidth\": 0, \"ticks\": \"\"}}, \"marker\": {\"colorbar\": {\"outlinewidth\": 0, \"ticks\": \"\"}}, \"type\": \"scatter3d\"}], \"scattercarpet\": [{\"marker\": {\"colorbar\": {\"outlinewidth\": 0, \"ticks\": \"\"}}, \"type\": \"scattercarpet\"}], \"scattergeo\": [{\"marker\": {\"colorbar\": {\"outlinewidth\": 0, \"ticks\": \"\"}}, \"type\": \"scattergeo\"}], \"scattergl\": [{\"marker\": {\"line\": {\"color\": \"#283442\"}}, \"type\": \"scattergl\"}], \"scattermapbox\": [{\"marker\": {\"colorbar\": {\"outlinewidth\": 0, \"ticks\": \"\"}}, \"type\": \"scattermapbox\"}], \"scatterpolar\": [{\"marker\": {\"colorbar\": {\"outlinewidth\": 0, \"ticks\": \"\"}}, \"type\": \"scatterpolar\"}], \"scatterpolargl\": [{\"marker\": {\"colorbar\": {\"outlinewidth\": 0, \"ticks\": \"\"}}, \"type\": \"scatterpolargl\"}], \"scatterternary\": [{\"marker\": {\"colorbar\": {\"outlinewidth\": 0, \"ticks\": \"\"}}, \"type\": \"scatterternary\"}], \"surface\": [{\"colorbar\": {\"outlinewidth\": 0, \"ticks\": \"\"}, \"colorscale\": [[0.0, \"#0d0887\"], [0.1111111111111111, \"#46039f\"], [0.2222222222222222, \"#7201a8\"], [0.3333333333333333, \"#9c179e\"], [0.4444444444444444, \"#bd3786\"], [0.5555555555555556, \"#d8576b\"], [0.6666666666666666, \"#ed7953\"], [0.7777777777777778, \"#fb9f3a\"], [0.8888888888888888, \"#fdca26\"], [1.0, \"#f0f921\"]], \"type\": \"surface\"}], \"table\": [{\"cells\": {\"fill\": {\"color\": \"#506784\"}, \"line\": {\"color\": \"rgb(17,17,17)\"}}, \"header\": {\"fill\": {\"color\": \"#2a3f5f\"}, \"line\": {\"color\": \"rgb(17,17,17)\"}}, \"type\": \"table\"}]}, \"layout\": {\"annotationdefaults\": {\"arrowcolor\": \"#f2f5fa\", \"arrowhead\": 0, \"arrowwidth\": 1}, \"coloraxis\": {\"colorbar\": {\"outlinewidth\": 0, \"ticks\": \"\"}}, \"colorscale\": {\"diverging\": [[0, \"#8e0152\"], [0.1, \"#c51b7d\"], [0.2, \"#de77ae\"], [0.3, \"#f1b6da\"], [0.4, \"#fde0ef\"], [0.5, \"#f7f7f7\"], [0.6, \"#e6f5d0\"], [0.7, \"#b8e186\"], [0.8, \"#7fbc41\"], [0.9, \"#4d9221\"], [1, \"#276419\"]], \"sequential\": [[0.0, \"#0d0887\"], [0.1111111111111111, \"#46039f\"], [0.2222222222222222, \"#7201a8\"], [0.3333333333333333, \"#9c179e\"], [0.4444444444444444, \"#bd3786\"], [0.5555555555555556, \"#d8576b\"], [0.6666666666666666, \"#ed7953\"], [0.7777777777777778, \"#fb9f3a\"], [0.8888888888888888, \"#fdca26\"], [1.0, \"#f0f921\"]], \"sequentialminus\": [[0.0, \"#0d0887\"], [0.1111111111111111, \"#46039f\"], [0.2222222222222222, \"#7201a8\"], [0.3333333333333333, \"#9c179e\"], [0.4444444444444444, \"#bd3786\"], [0.5555555555555556, \"#d8576b\"], [0.6666666666666666, \"#ed7953\"], [0.7777777777777778, \"#fb9f3a\"], [0.8888888888888888, \"#fdca26\"], [1.0, \"#f0f921\"]]}, \"colorway\": [\"#636efa\", \"#EF553B\", \"#00cc96\", \"#ab63fa\", \"#FFA15A\", \"#19d3f3\", \"#FF6692\", \"#B6E880\", \"#FF97FF\", \"#FECB52\"], \"font\": {\"color\": \"#f2f5fa\"}, \"geo\": {\"bgcolor\": \"rgb(17,17,17)\", \"lakecolor\": \"rgb(17,17,17)\", \"landcolor\": \"rgb(17,17,17)\", \"showlakes\": true, \"showland\": true, \"subunitcolor\": \"#506784\"}, \"hoverlabel\": {\"align\": \"left\"}, \"hovermode\": \"closest\", \"mapbox\": {\"style\": \"dark\"}, \"paper_bgcolor\": \"rgb(17,17,17)\", \"plot_bgcolor\": \"rgb(17,17,17)\", \"polar\": {\"angularaxis\": {\"gridcolor\": \"#506784\", \"linecolor\": \"#506784\", \"ticks\": \"\"}, \"bgcolor\": \"rgb(17,17,17)\", \"radialaxis\": {\"gridcolor\": \"#506784\", \"linecolor\": \"#506784\", \"ticks\": \"\"}}, \"scene\": {\"xaxis\": {\"backgroundcolor\": \"rgb(17,17,17)\", \"gridcolor\": \"#506784\", \"gridwidth\": 2, \"linecolor\": \"#506784\", \"showbackground\": true, \"ticks\": \"\", \"zerolinecolor\": \"#C8D4E3\"}, \"yaxis\": {\"backgroundcolor\": \"rgb(17,17,17)\", \"gridcolor\": \"#506784\", \"gridwidth\": 2, \"linecolor\": \"#506784\", \"showbackground\": true, \"ticks\": \"\", \"zerolinecolor\": \"#C8D4E3\"}, \"zaxis\": {\"backgroundcolor\": \"rgb(17,17,17)\", \"gridcolor\": \"#506784\", \"gridwidth\": 2, \"linecolor\": \"#506784\", \"showbackground\": true, \"ticks\": \"\", \"zerolinecolor\": \"#C8D4E3\"}}, \"shapedefaults\": {\"line\": {\"color\": \"#f2f5fa\"}}, \"sliderdefaults\": {\"bgcolor\": \"#C8D4E3\", \"bordercolor\": \"rgb(17,17,17)\", \"borderwidth\": 1, \"tickwidth\": 0}, \"ternary\": {\"aaxis\": {\"gridcolor\": \"#506784\", \"linecolor\": \"#506784\", \"ticks\": \"\"}, \"baxis\": {\"gridcolor\": \"#506784\", \"linecolor\": \"#506784\", \"ticks\": \"\"}, \"bgcolor\": \"rgb(17,17,17)\", \"caxis\": {\"gridcolor\": \"#506784\", \"linecolor\": \"#506784\", \"ticks\": \"\"}}, \"title\": {\"x\": 0.05}, \"updatemenudefaults\": {\"bgcolor\": \"#506784\", \"borderwidth\": 0}, \"xaxis\": {\"automargin\": true, \"gridcolor\": \"#283442\", \"linecolor\": \"#506784\", \"ticks\": \"\", \"title\": {\"standoff\": 15}, \"zerolinecolor\": \"#283442\", \"zerolinewidth\": 2}, \"yaxis\": {\"automargin\": true, \"gridcolor\": \"#283442\", \"linecolor\": \"#506784\", \"ticks\": \"\", \"title\": {\"standoff\": 15}, \"zerolinecolor\": \"#283442\", \"zerolinewidth\": 2}}}, \"title\": {\"font\": {\"size\": 24}, \"text\": \"Cases by Ethnicity\"}, \"xaxis\": {\"anchor\": \"y\", \"domain\": [0.0, 1.0], \"range\": [0, 7583.0], \"title\": {}}, \"yaxis\": {\"anchor\": \"x\", \"categoryarray\": [\"Multiracial\", \"Native Hawaiian or Pacific Islander\", \"American Indian/Native Alaskan\", \"Black/African American\", \"Asian\", \"White\", \"Hispanic/Latino\"], \"categoryorder\": \"array\", \"domain\": [0.0, 1.0], \"title\": {}}},                        {\"responsive\": true}                    ).then(function(){\n",
              "                            \n",
              "var gd = document.getElementById('d6d77d32-7b07-48ea-9e4f-673b8dffbcc5');\n",
              "var x = new MutationObserver(function (mutations, observer) {{\n",
              "        var display = window.getComputedStyle(gd).display;\n",
              "        if (!display || display === 'none') {{\n",
              "            console.log([gd, 'removed!']);\n",
              "            Plotly.purge(gd);\n",
              "            observer.disconnect();\n",
              "        }}\n",
              "}});\n",
              "\n",
              "// Listen for the removal of the full notebook cells\n",
              "var notebookContainer = gd.closest('#notebook-container');\n",
              "if (notebookContainer) {{\n",
              "    x.observe(notebookContainer, {childList: true});\n",
              "}}\n",
              "\n",
              "// Listen for the clearing of the current output cell\n",
              "var outputEl = gd.closest('.output');\n",
              "if (outputEl) {{\n",
              "    x.observe(outputEl, {childList: true});\n",
              "}}\n",
              "\n",
              "                        })                };                            </script>        </div>\n",
              "</body>\n",
              "</html>"
            ]
          },
          "metadata": {
            "tags": []
          }
        }
      ]
    },
    {
      "cell_type": "markdown",
      "metadata": {
        "id": "qQWGe7o0N-uh"
      },
      "source": [
        "# Cases by Area"
      ]
    },
    {
      "cell_type": "code",
      "metadata": {
        "id": "8LDCAI9MOAEC"
      },
      "source": [
        "cases_by_area.head()"
      ],
      "execution_count": null,
      "outputs": []
    },
    {
      "cell_type": "code",
      "metadata": {
        "id": "M9YFQWAvOFBT"
      },
      "source": [
        "cases_by_area['Geographic Area'].value_counts()"
      ],
      "execution_count": null,
      "outputs": []
    },
    {
      "cell_type": "code",
      "metadata": {
        "id": "sgwKon26ONe1"
      },
      "source": [
        "#cleaning up Geographic Area column\n",
        "area_dict = {'SOUTH COUNTY UNINCORPORATED AREA includes communities of Montecito, Summerland and the City of Carpinteria':'South County Unincorporated Area',\n",
        "             'CITY OF SANTA BARBARA and the unincorporated area of Mission Canyon':'Santa Barbara',\n",
        "             'CITY OF GOLETA':'Goleta',\n",
        "             'COMMUNITY OF ISLA VISTA':'Isla Vista',\n",
        "             'UNINCORPORATED AREA OF THE GOLETA VALLEY AND GAVIOTA':'Goleta Valley/Gaviota',\n",
        "             'SANTA YNEZ VALLEY including the Cities of Solvang & Buellton, and the communities of Santa Ynez, Los Alamos, Los Olivos and Ballard':'Santa Ynez Valley',\n",
        "             'CITY OF LOMPOC and the communities of Mission Hills and Vandenberg Village':'Lompoc',\n",
        "             'FEDERAL PRISON IN LOMPOC':'Federal Prison in Lompoc',\n",
        "             'CITY OF SANTA MARIA':'Santa Maria',\n",
        "             'COMMUNITY OF ORCUTT':'Orcutt',\n",
        "             'UNINCORPORATED AREAS of Sisquoc, Casmalia, Garey,\\xa0 Cuyama, New Cuyama, and the City of Guadalupe':'Other Unincorporated Areas',\n",
        "             'Total**':'Total',\n",
        "             'Total*':'Total'}\n",
        "\n",
        "cases_by_area['Area'] = cases_by_area['Geographic Area'].replace(area_dict)"
      ],
      "execution_count": null,
      "outputs": []
    },
    {
      "cell_type": "code",
      "metadata": {
        "id": "gj-D2hgOUgwL"
      },
      "source": [
        "cases_by_area.Area.value_counts()"
      ],
      "execution_count": null,
      "outputs": []
    },
    {
      "cell_type": "code",
      "metadata": {
        "id": "lfHsnVCNWZrQ"
      },
      "source": [
        "cases_by_area.isna().sum()"
      ],
      "execution_count": null,
      "outputs": []
    },
    {
      "cell_type": "code",
      "metadata": {
        "id": "tKmcRcMpVOF5"
      },
      "source": [
        "cases_by_area.dtypes"
      ],
      "execution_count": null,
      "outputs": []
    },
    {
      "cell_type": "code",
      "metadata": {
        "id": "lqfnl0jaU9UE"
      },
      "source": [
        "#cleaning up Daily Cases column and converting to numeric\n",
        "cases_by_area['Daily Cases'] = cases_by_area['Daily Cases'].apply(lambda x: x[:-1] if '*' in str(x) else x)    #there are a few cases where the number was follwed by an asterisk, removing asterisks\n",
        "cases_by_area['Daily Cases'] = cases_by_area['Daily Cases'].str.strip().replace('—',np.nan)   #changing missing values to null so they don't appear on graph \n",
        "cases_by_area['Daily Cases'] = pd.to_numeric(cases_by_area['Daily Cases'])     #converting to numeric"
      ],
      "execution_count": null,
      "outputs": []
    },
    {
      "cell_type": "code",
      "metadata": {
        "id": "LTWP7su-Vwrt"
      },
      "source": [
        "#converting Date column to pandas datetime format\n",
        "cases_by_area['Date'] = pd.to_datetime(cases_by_area['Date'])"
      ],
      "execution_count": null,
      "outputs": []
    },
    {
      "cell_type": "code",
      "metadata": {
        "id": "5vsJXjXFbSXv"
      },
      "source": [
        "#creating new dataframe for visualizations\n",
        "areas_to_plot = ['Lompoc',\n",
        "                 'Isla Vista',\n",
        "                 'Orcutt',\n",
        "                 'Federal Prison in Lompoc',\n",
        "                 'Goleta Valley/Gaviota',\n",
        "                 'Goleta',\n",
        "                 'Santa Barbara',\n",
        "                 'Santa Ynez Valley',\n",
        "                 'Santa Maria']\n",
        "\n",
        "#dropping original Geographic Area column and filtering for specific areas\n",
        "area_viz = cases_by_area[cases_by_area['Area'].isin(areas_to_plot)][cases_by_area.columns[1:]]    \n",
        "\n",
        "#renaming columns\n",
        "area_viz.rename({'Daily Cases':'New Cases',\n",
        "                 'Total\\xa0 Confirmed Cases':'Total Confirmed Cases',\n",
        "                 'Recovered by Region':'Recovered Cases',\n",
        "                 'Still infectious by Region':'Active Cases'},\n",
        "                axis = 1,\n",
        "                inplace = True)"
      ],
      "execution_count": null,
      "outputs": []
    },
    {
      "cell_type": "code",
      "metadata": {
        "id": "cAarAIFUcBmD"
      },
      "source": [
        "area_viz.head()"
      ],
      "execution_count": null,
      "outputs": []
    },
    {
      "cell_type": "code",
      "metadata": {
        "id": "jIvWpTRncWHr"
      },
      "source": [
        "fig = px.line(area_viz,\n",
        "              x = 'Date',\n",
        "              y = 'Active Cases',\n",
        "              color = 'Area')\n",
        "fig.show()"
      ],
      "execution_count": null,
      "outputs": []
    },
    {
      "cell_type": "code",
      "metadata": {
        "id": "-4zKqCERc-AN"
      },
      "source": [
        "#fixing outlier in Active Cases column for Lompoc, looks like an extra zero was added by mistake\n",
        "area_viz.loc[(area_viz['Area'] == 'Lompoc') & (area_viz['Active Cases'] > 200), ['Active Cases']] = 22\n",
        "\n",
        "#fixing outlier in Number of Deaths column for Santa Maria, looks like an extra 3 was added by mistake\n",
        "area_viz.loc[(area_viz['Area'] == 'Santa Maria') & (area_viz['Number of Deaths'] > 300), ['Number of Deaths']] = 34"
      ],
      "execution_count": null,
      "outputs": []
    },
    {
      "cell_type": "code",
      "metadata": {
        "id": "xlWEP6W-dV2m"
      },
      "source": [
        "fig = px.line(area_viz,\n",
        "              x = 'Date',\n",
        "              y = 'Active Cases',\n",
        "              title = 'Active Cases' + ' by Region',\n",
        "              template = 'plotly_dark',\n",
        "              #color_discrete_sequence = px.colors.qualitative.D3,\n",
        "              color = 'Area')\n",
        "fig.update_layout(\n",
        "    hovermode = 'closest',\n",
        "    title_font_family = 'Courier',\n",
        "    title_font_color = 'white',\n",
        "    title_font_size = 24,\n",
        "    legend = dict(\n",
        "        orientation='h',\n",
        "        yanchor='bottom',\n",
        "        y=1.02,\n",
        "        xanchor='left',\n",
        "        x=0,\n",
        "        font = dict(\n",
        "            family = 'Courier',\n",
        "            size = 12,\n",
        "            color = 'white')\n",
        "        )\n",
        ")\n",
        "\n",
        "                       \n",
        "fig.show()"
      ],
      "execution_count": null,
      "outputs": []
    },
    {
      "cell_type": "code",
      "metadata": {
        "id": "OKbUdiXDitVD"
      },
      "source": [
        "#turning this into function so it can be used for any of the columns in the area_viz dataframe\n",
        "def create_line_plot(column_name):\n",
        "  fig = px.line(area_viz,\n",
        "              x = 'Date',\n",
        "              y = column_name,\n",
        "              title = column_name + ' by Region',\n",
        "              template = 'plotly_dark',\n",
        "              color = 'Area')\n",
        "  \n",
        "  fig.update_layout(\n",
        "      hovermode = 'closest',\n",
        "      title_font_size = 24,\n",
        "      font_family = 'Courier',    #setting font style and color globally, could also set locally by using a font dictionary for the legend or title_font_family/color for title\n",
        "      font_color = 'white',\n",
        "      legend = dict(\n",
        "          orientation='h',\n",
        "          yanchor='bottom',\n",
        "          y=1.02,\n",
        "          xanchor='left',\n",
        "          x=0\n",
        "          )\n",
        "  )\n",
        "                  \n",
        "  fig.show()"
      ],
      "execution_count": null,
      "outputs": []
    },
    {
      "cell_type": "code",
      "metadata": {
        "id": "CzZeUGzHNooA"
      },
      "source": [
        "area_viz.columns.to_list()"
      ],
      "execution_count": null,
      "outputs": []
    },
    {
      "cell_type": "code",
      "metadata": {
        "id": "gnN3FJ3FNv75"
      },
      "source": [
        "create_line_plot('New Cases')"
      ],
      "execution_count": null,
      "outputs": []
    },
    {
      "cell_type": "code",
      "metadata": {
        "id": "F91aRUcfTza6"
      },
      "source": [
        "create_line_plot('Total Confirmed Cases')"
      ],
      "execution_count": null,
      "outputs": []
    },
    {
      "cell_type": "code",
      "metadata": {
        "id": "bKAoBRm1qoXd"
      },
      "source": [
        "create_line_plot('Recovered Cases')"
      ],
      "execution_count": null,
      "outputs": []
    },
    {
      "cell_type": "code",
      "metadata": {
        "id": "oQf6u9PvwE4i"
      },
      "source": [
        "create_line_plot('Active Cases')"
      ],
      "execution_count": null,
      "outputs": []
    },
    {
      "cell_type": "code",
      "metadata": {
        "id": "MMhpFj0FwMU5"
      },
      "source": [
        "create_line_plot('Number of Deaths')"
      ],
      "execution_count": null,
      "outputs": []
    },
    {
      "cell_type": "code",
      "metadata": {
        "id": "9ZQ4F056wQOb"
      },
      "source": [
        ""
      ],
      "execution_count": null,
      "outputs": []
    }
  ]
}